{
 "cells": [
  {
   "cell_type": "markdown",
   "metadata": {},
   "source": [
    "<h1>House price prediction using Artificial Neural networkk</h1>\n",
    "<h2>Module one: Exploratory Data Analysis(EDA)</h2>\n",
    "<p>In this work book we are focused on giving an analysis of the data and how different variables are correlated to each other in the dataset provided by Kenya Property Center(KPC).</p>\n",
    "<p>The dataset being used for this project was provided by Kenya Property Company. The dataset contains listings of houses, event spaces and commercial propeties.</p>"
   ]
  },
  {
   "cell_type": "code",
   "execution_count": 2,
   "metadata": {
    "jupyter": {
     "source_hidden": true
    }
   },
   "outputs": [],
   "source": [
    "# import libraries\n",
    "import numpy as np\n",
    "import pandas as pd\n",
    "from matplotlib import pyplot as plt\n",
    "%matplotlib inline \n",
    "import seaborn as sns\n",
    "#import dataset\n",
    "df=pd.read_csv(\"project_files/kenya_listings.csv\")"
   ]
  },
  {
   "cell_type": "markdown",
   "metadata": {},
   "source": [
    "<h2>Basic information</h2>\n",
    "<p>The dimensions of the dataset</p>"
   ]
  },
  {
   "cell_type": "code",
   "execution_count": 3,
   "metadata": {
    "jupyter": {
     "source_hidden": true
    }
   },
   "outputs": [
    {
     "data": {
      "text/plain": [
       "(16117, 17)"
      ]
     },
     "execution_count": 3,
     "metadata": {},
     "output_type": "execute_result"
    }
   ],
   "source": [
    "df.shape"
   ]
  },
  {
   "cell_type": "code",
   "execution_count": 4,
   "metadata": {
    "jupyter": {
     "source_hidden": true
    }
   },
   "outputs": [],
   "source": [
    "df_cat = df.select_dtypes(include = \"object\")\n",
    "categorical_features = df.loc[:, ~df.columns.isin(['listdate', 'locality'])].dtypes[df.dtypes == 'object'].index\n",
    "df_rental=df[df.category == 'For Rent']\n",
    "df_sale=df[df.category=='For Sale']"
   ]
  },
  {
   "cell_type": "markdown",
   "metadata": {},
   "source": [
    "</p>The following are the columns in the dataset with their corresponding data type</p>"
   ]
  },
  {
   "cell_type": "code",
   "execution_count": 5,
   "metadata": {
    "jupyter": {
     "source_hidden": true
    }
   },
   "outputs": [
    {
     "data": {
      "text/plain": [
       "id                   int64\n",
       "price              float64\n",
       "price_qualifier     object\n",
       "bedrooms             int64\n",
       "bathrooms            int64\n",
       "toilets            float64\n",
       "furnished            int64\n",
       "serviced             int64\n",
       "shared               int64\n",
       "parking              int64\n",
       "category            object\n",
       "type                object\n",
       "sub_type            object\n",
       "state               object\n",
       "locality            object\n",
       "sub_locality        object\n",
       "listdate            object\n",
       "dtype: object"
      ]
     },
     "execution_count": 5,
     "metadata": {},
     "output_type": "execute_result"
    }
   ],
   "source": [
    "df.dtypes"
   ]
  },
  {
   "cell_type": "code",
   "execution_count": 6,
   "metadata": {
    "jupyter": {
     "source_hidden": true
    }
   },
   "outputs": [
    {
     "data": {
      "text/plain": [
       "id                     0\n",
       "price                  3\n",
       "price_qualifier     8870\n",
       "bedrooms               0\n",
       "bathrooms              0\n",
       "toilets            10028\n",
       "furnished              0\n",
       "serviced               0\n",
       "shared                 0\n",
       "parking                0\n",
       "category               0\n",
       "type                   0\n",
       "sub_type            9817\n",
       "state                  0\n",
       "locality               6\n",
       "sub_locality       15071\n",
       "listdate               0\n",
       "dtype: int64"
      ]
     },
     "execution_count": 6,
     "metadata": {},
     "output_type": "execute_result"
    }
   ],
   "source": [
    "df.isnull().sum()"
   ]
  },
  {
   "cell_type": "markdown",
   "metadata": {},
   "source": [
    "<h2>Example observations</h2>\n",
    "<p>The following are the first 10 houses/properties in the dataset.<p>"
   ]
  },
  {
   "cell_type": "code",
   "execution_count": 7,
   "metadata": {
    "jupyter": {
     "source_hidden": true
    }
   },
   "outputs": [
    {
     "data": {
      "text/html": [
       "<div>\n",
       "<style scoped>\n",
       "    .dataframe tbody tr th:only-of-type {\n",
       "        vertical-align: middle;\n",
       "    }\n",
       "\n",
       "    .dataframe tbody tr th {\n",
       "        vertical-align: top;\n",
       "    }\n",
       "\n",
       "    .dataframe thead th {\n",
       "        text-align: right;\n",
       "    }\n",
       "</style>\n",
       "<table border=\"1\" class=\"dataframe\">\n",
       "  <thead>\n",
       "    <tr style=\"text-align: right;\">\n",
       "      <th></th>\n",
       "      <th>id</th>\n",
       "      <th>price</th>\n",
       "      <th>price_qualifier</th>\n",
       "      <th>bedrooms</th>\n",
       "      <th>bathrooms</th>\n",
       "      <th>toilets</th>\n",
       "      <th>furnished</th>\n",
       "      <th>serviced</th>\n",
       "      <th>shared</th>\n",
       "      <th>parking</th>\n",
       "      <th>category</th>\n",
       "      <th>type</th>\n",
       "      <th>sub_type</th>\n",
       "      <th>state</th>\n",
       "      <th>locality</th>\n",
       "      <th>sub_locality</th>\n",
       "      <th>listdate</th>\n",
       "    </tr>\n",
       "  </thead>\n",
       "  <tbody>\n",
       "    <tr>\n",
       "      <th>0</th>\n",
       "      <td>1</td>\n",
       "      <td>5000.0</td>\n",
       "      <td>per month</td>\n",
       "      <td>3</td>\n",
       "      <td>0</td>\n",
       "      <td>NaN</td>\n",
       "      <td>0</td>\n",
       "      <td>0</td>\n",
       "      <td>0</td>\n",
       "      <td>0</td>\n",
       "      <td>For Rent</td>\n",
       "      <td>Apartment</td>\n",
       "      <td>NaN</td>\n",
       "      <td>Nairobi</td>\n",
       "      <td>Embakasi</td>\n",
       "      <td>Tassia</td>\n",
       "      <td>2020-07-18 00:00:00</td>\n",
       "    </tr>\n",
       "    <tr>\n",
       "      <th>1</th>\n",
       "      <td>2</td>\n",
       "      <td>12500000.0</td>\n",
       "      <td>NaN</td>\n",
       "      <td>4</td>\n",
       "      <td>3</td>\n",
       "      <td>NaN</td>\n",
       "      <td>0</td>\n",
       "      <td>0</td>\n",
       "      <td>0</td>\n",
       "      <td>0</td>\n",
       "      <td>For Sale</td>\n",
       "      <td>House</td>\n",
       "      <td>Detached Duplex</td>\n",
       "      <td>Kajiado</td>\n",
       "      <td>Kitengela</td>\n",
       "      <td>NaN</td>\n",
       "      <td>2020-07-18 00:00:00</td>\n",
       "    </tr>\n",
       "    <tr>\n",
       "      <th>2</th>\n",
       "      <td>3</td>\n",
       "      <td>19500000.0</td>\n",
       "      <td>NaN</td>\n",
       "      <td>5</td>\n",
       "      <td>5</td>\n",
       "      <td>NaN</td>\n",
       "      <td>0</td>\n",
       "      <td>0</td>\n",
       "      <td>0</td>\n",
       "      <td>0</td>\n",
       "      <td>For Sale</td>\n",
       "      <td>House</td>\n",
       "      <td>Detached Duplex</td>\n",
       "      <td>Kajiado</td>\n",
       "      <td>Kitengela</td>\n",
       "      <td>NaN</td>\n",
       "      <td>2020-07-18 00:00:00</td>\n",
       "    </tr>\n",
       "    <tr>\n",
       "      <th>3</th>\n",
       "      <td>4</td>\n",
       "      <td>19500000.0</td>\n",
       "      <td>NaN</td>\n",
       "      <td>4</td>\n",
       "      <td>0</td>\n",
       "      <td>NaN</td>\n",
       "      <td>0</td>\n",
       "      <td>0</td>\n",
       "      <td>0</td>\n",
       "      <td>4</td>\n",
       "      <td>For Sale</td>\n",
       "      <td>House</td>\n",
       "      <td>Detached Duplex</td>\n",
       "      <td>Kajiado</td>\n",
       "      <td>Kitengela</td>\n",
       "      <td>NaN</td>\n",
       "      <td>2020-07-18 00:00:00</td>\n",
       "    </tr>\n",
       "    <tr>\n",
       "      <th>4</th>\n",
       "      <td>5</td>\n",
       "      <td>19500000.0</td>\n",
       "      <td>NaN</td>\n",
       "      <td>5</td>\n",
       "      <td>5</td>\n",
       "      <td>NaN</td>\n",
       "      <td>0</td>\n",
       "      <td>0</td>\n",
       "      <td>0</td>\n",
       "      <td>0</td>\n",
       "      <td>For Sale</td>\n",
       "      <td>House</td>\n",
       "      <td>Townhouse</td>\n",
       "      <td>Kajiado</td>\n",
       "      <td>Kitengela</td>\n",
       "      <td>NaN</td>\n",
       "      <td>2020-07-18 00:00:00</td>\n",
       "    </tr>\n",
       "    <tr>\n",
       "      <th>5</th>\n",
       "      <td>6</td>\n",
       "      <td>19500000.0</td>\n",
       "      <td>NaN</td>\n",
       "      <td>5</td>\n",
       "      <td>0</td>\n",
       "      <td>NaN</td>\n",
       "      <td>0</td>\n",
       "      <td>0</td>\n",
       "      <td>0</td>\n",
       "      <td>5</td>\n",
       "      <td>For Sale</td>\n",
       "      <td>House</td>\n",
       "      <td>Townhouse</td>\n",
       "      <td>Kajiado</td>\n",
       "      <td>Kitengela</td>\n",
       "      <td>NaN</td>\n",
       "      <td>2020-07-18 00:00:00</td>\n",
       "    </tr>\n",
       "    <tr>\n",
       "      <th>6</th>\n",
       "      <td>7</td>\n",
       "      <td>200000.0</td>\n",
       "      <td>per month</td>\n",
       "      <td>5</td>\n",
       "      <td>5</td>\n",
       "      <td>5.0</td>\n",
       "      <td>0</td>\n",
       "      <td>0</td>\n",
       "      <td>0</td>\n",
       "      <td>0</td>\n",
       "      <td>For Rent</td>\n",
       "      <td>House</td>\n",
       "      <td>Townhouse</td>\n",
       "      <td>Nairobi</td>\n",
       "      <td>Nairobi Central</td>\n",
       "      <td>NaN</td>\n",
       "      <td>2020-07-18 00:00:00</td>\n",
       "    </tr>\n",
       "    <tr>\n",
       "      <th>7</th>\n",
       "      <td>8</td>\n",
       "      <td>100000.0</td>\n",
       "      <td>per month</td>\n",
       "      <td>3</td>\n",
       "      <td>3</td>\n",
       "      <td>3.0</td>\n",
       "      <td>0</td>\n",
       "      <td>0</td>\n",
       "      <td>0</td>\n",
       "      <td>0</td>\n",
       "      <td>For Rent</td>\n",
       "      <td>Apartment</td>\n",
       "      <td>NaN</td>\n",
       "      <td>Nairobi</td>\n",
       "      <td>Parklands</td>\n",
       "      <td>NaN</td>\n",
       "      <td>2020-07-18 00:00:00</td>\n",
       "    </tr>\n",
       "    <tr>\n",
       "      <th>8</th>\n",
       "      <td>9</td>\n",
       "      <td>9250000.0</td>\n",
       "      <td>NaN</td>\n",
       "      <td>3</td>\n",
       "      <td>2</td>\n",
       "      <td>NaN</td>\n",
       "      <td>0</td>\n",
       "      <td>0</td>\n",
       "      <td>0</td>\n",
       "      <td>0</td>\n",
       "      <td>For Sale</td>\n",
       "      <td>House</td>\n",
       "      <td>Detached Bungalow</td>\n",
       "      <td>Kajiado</td>\n",
       "      <td>Kitengela</td>\n",
       "      <td>NaN</td>\n",
       "      <td>2020-07-18 00:00:00</td>\n",
       "    </tr>\n",
       "    <tr>\n",
       "      <th>9</th>\n",
       "      <td>10</td>\n",
       "      <td>120000.0</td>\n",
       "      <td>per month</td>\n",
       "      <td>3</td>\n",
       "      <td>3</td>\n",
       "      <td>3.0</td>\n",
       "      <td>0</td>\n",
       "      <td>0</td>\n",
       "      <td>0</td>\n",
       "      <td>0</td>\n",
       "      <td>For Rent</td>\n",
       "      <td>Apartment</td>\n",
       "      <td>NaN</td>\n",
       "      <td>Nairobi</td>\n",
       "      <td>Lavington</td>\n",
       "      <td>NaN</td>\n",
       "      <td>2020-07-18 00:00:00</td>\n",
       "    </tr>\n",
       "  </tbody>\n",
       "</table>\n",
       "</div>"
      ],
      "text/plain": [
       "   id       price price_qualifier  bedrooms  bathrooms  toilets  furnished  \\\n",
       "0   1      5000.0       per month         3          0      NaN          0   \n",
       "1   2  12500000.0             NaN         4          3      NaN          0   \n",
       "2   3  19500000.0             NaN         5          5      NaN          0   \n",
       "3   4  19500000.0             NaN         4          0      NaN          0   \n",
       "4   5  19500000.0             NaN         5          5      NaN          0   \n",
       "5   6  19500000.0             NaN         5          0      NaN          0   \n",
       "6   7    200000.0       per month         5          5      5.0          0   \n",
       "7   8    100000.0       per month         3          3      3.0          0   \n",
       "8   9   9250000.0             NaN         3          2      NaN          0   \n",
       "9  10    120000.0       per month         3          3      3.0          0   \n",
       "\n",
       "   serviced  shared  parking  category       type           sub_type    state  \\\n",
       "0         0       0        0  For Rent  Apartment                NaN  Nairobi   \n",
       "1         0       0        0  For Sale      House    Detached Duplex  Kajiado   \n",
       "2         0       0        0  For Sale      House    Detached Duplex  Kajiado   \n",
       "3         0       0        4  For Sale      House    Detached Duplex  Kajiado   \n",
       "4         0       0        0  For Sale      House          Townhouse  Kajiado   \n",
       "5         0       0        5  For Sale      House          Townhouse  Kajiado   \n",
       "6         0       0        0  For Rent      House          Townhouse  Nairobi   \n",
       "7         0       0        0  For Rent  Apartment                NaN  Nairobi   \n",
       "8         0       0        0  For Sale      House  Detached Bungalow  Kajiado   \n",
       "9         0       0        0  For Rent  Apartment                NaN  Nairobi   \n",
       "\n",
       "          locality sub_locality             listdate  \n",
       "0         Embakasi       Tassia  2020-07-18 00:00:00  \n",
       "1        Kitengela          NaN  2020-07-18 00:00:00  \n",
       "2        Kitengela          NaN  2020-07-18 00:00:00  \n",
       "3        Kitengela          NaN  2020-07-18 00:00:00  \n",
       "4        Kitengela          NaN  2020-07-18 00:00:00  \n",
       "5        Kitengela          NaN  2020-07-18 00:00:00  \n",
       "6  Nairobi Central          NaN  2020-07-18 00:00:00  \n",
       "7        Parklands          NaN  2020-07-18 00:00:00  \n",
       "8        Kitengela          NaN  2020-07-18 00:00:00  \n",
       "9        Lavington          NaN  2020-07-18 00:00:00  "
      ]
     },
     "execution_count": 7,
     "metadata": {},
     "output_type": "execute_result"
    }
   ],
   "source": [
    "df.head(10)"
   ]
  },
  {
   "cell_type": "markdown",
   "metadata": {},
   "source": [
    "<p>The following are the last ten properties in the dataset.</p>"
   ]
  },
  {
   "cell_type": "code",
   "execution_count": 8,
   "metadata": {
    "jupyter": {
     "source_hidden": true
    },
    "scrolled": true
   },
   "outputs": [
    {
     "data": {
      "text/html": [
       "<div>\n",
       "<style scoped>\n",
       "    .dataframe tbody tr th:only-of-type {\n",
       "        vertical-align: middle;\n",
       "    }\n",
       "\n",
       "    .dataframe tbody tr th {\n",
       "        vertical-align: top;\n",
       "    }\n",
       "\n",
       "    .dataframe thead th {\n",
       "        text-align: right;\n",
       "    }\n",
       "</style>\n",
       "<table border=\"1\" class=\"dataframe\">\n",
       "  <thead>\n",
       "    <tr style=\"text-align: right;\">\n",
       "      <th></th>\n",
       "      <th>id</th>\n",
       "      <th>price</th>\n",
       "      <th>price_qualifier</th>\n",
       "      <th>bedrooms</th>\n",
       "      <th>bathrooms</th>\n",
       "      <th>toilets</th>\n",
       "      <th>furnished</th>\n",
       "      <th>serviced</th>\n",
       "      <th>shared</th>\n",
       "      <th>parking</th>\n",
       "      <th>category</th>\n",
       "      <th>type</th>\n",
       "      <th>sub_type</th>\n",
       "      <th>state</th>\n",
       "      <th>locality</th>\n",
       "      <th>sub_locality</th>\n",
       "      <th>listdate</th>\n",
       "    </tr>\n",
       "  </thead>\n",
       "  <tbody>\n",
       "    <tr>\n",
       "      <th>16107</th>\n",
       "      <td>16115</td>\n",
       "      <td>25000.0</td>\n",
       "      <td>per month</td>\n",
       "      <td>3</td>\n",
       "      <td>3</td>\n",
       "      <td>3.0</td>\n",
       "      <td>0</td>\n",
       "      <td>0</td>\n",
       "      <td>0</td>\n",
       "      <td>2</td>\n",
       "      <td>For Rent</td>\n",
       "      <td>House</td>\n",
       "      <td>Detached Bungalow</td>\n",
       "      <td>Nairobi</td>\n",
       "      <td>Embakasi</td>\n",
       "      <td>NaN</td>\n",
       "      <td>2022-06-16 13:02:20</td>\n",
       "    </tr>\n",
       "    <tr>\n",
       "      <th>16108</th>\n",
       "      <td>16116</td>\n",
       "      <td>5800000.0</td>\n",
       "      <td>NaN</td>\n",
       "      <td>4</td>\n",
       "      <td>4</td>\n",
       "      <td>4.0</td>\n",
       "      <td>0</td>\n",
       "      <td>0</td>\n",
       "      <td>0</td>\n",
       "      <td>4</td>\n",
       "      <td>For Sale</td>\n",
       "      <td>House</td>\n",
       "      <td>Detached Bungalow</td>\n",
       "      <td>Kajiado</td>\n",
       "      <td>Ongata Rongai</td>\n",
       "      <td>NaN</td>\n",
       "      <td>2022-06-16 13:08:35</td>\n",
       "    </tr>\n",
       "    <tr>\n",
       "      <th>16109</th>\n",
       "      <td>16117</td>\n",
       "      <td>18000.0</td>\n",
       "      <td>per month</td>\n",
       "      <td>2</td>\n",
       "      <td>2</td>\n",
       "      <td>2.0</td>\n",
       "      <td>0</td>\n",
       "      <td>0</td>\n",
       "      <td>0</td>\n",
       "      <td>2</td>\n",
       "      <td>For Rent</td>\n",
       "      <td>House</td>\n",
       "      <td>Semi-detached Bungalow</td>\n",
       "      <td>Nairobi</td>\n",
       "      <td>Thindigua</td>\n",
       "      <td>NaN</td>\n",
       "      <td>2022-06-16 13:19:41</td>\n",
       "    </tr>\n",
       "    <tr>\n",
       "      <th>16110</th>\n",
       "      <td>16118</td>\n",
       "      <td>16000.0</td>\n",
       "      <td>per month</td>\n",
       "      <td>2</td>\n",
       "      <td>2</td>\n",
       "      <td>2.0</td>\n",
       "      <td>0</td>\n",
       "      <td>0</td>\n",
       "      <td>0</td>\n",
       "      <td>2</td>\n",
       "      <td>For Rent</td>\n",
       "      <td>House</td>\n",
       "      <td>Semi-detached Bungalow</td>\n",
       "      <td>Kajiado</td>\n",
       "      <td>Ngong</td>\n",
       "      <td>NaN</td>\n",
       "      <td>2022-06-16 13:29:17</td>\n",
       "    </tr>\n",
       "    <tr>\n",
       "      <th>16111</th>\n",
       "      <td>16119</td>\n",
       "      <td>10000.0</td>\n",
       "      <td>per month</td>\n",
       "      <td>1</td>\n",
       "      <td>1</td>\n",
       "      <td>1.0</td>\n",
       "      <td>0</td>\n",
       "      <td>0</td>\n",
       "      <td>0</td>\n",
       "      <td>1</td>\n",
       "      <td>For Rent</td>\n",
       "      <td>House</td>\n",
       "      <td>Semi-detached Bungalow</td>\n",
       "      <td>Nairobi</td>\n",
       "      <td>Thindigua</td>\n",
       "      <td>NaN</td>\n",
       "      <td>2022-06-16 13:39:40</td>\n",
       "    </tr>\n",
       "    <tr>\n",
       "      <th>16112</th>\n",
       "      <td>16120</td>\n",
       "      <td>8000.0</td>\n",
       "      <td>per month</td>\n",
       "      <td>1</td>\n",
       "      <td>1</td>\n",
       "      <td>1.0</td>\n",
       "      <td>0</td>\n",
       "      <td>0</td>\n",
       "      <td>0</td>\n",
       "      <td>1</td>\n",
       "      <td>For Rent</td>\n",
       "      <td>House</td>\n",
       "      <td>Semi-detached Bungalow</td>\n",
       "      <td>Machakos</td>\n",
       "      <td>Machakos Central</td>\n",
       "      <td>NaN</td>\n",
       "      <td>2022-06-16 13:48:50</td>\n",
       "    </tr>\n",
       "    <tr>\n",
       "      <th>16113</th>\n",
       "      <td>16121</td>\n",
       "      <td>20000.0</td>\n",
       "      <td>per month</td>\n",
       "      <td>3</td>\n",
       "      <td>3</td>\n",
       "      <td>3.0</td>\n",
       "      <td>0</td>\n",
       "      <td>0</td>\n",
       "      <td>0</td>\n",
       "      <td>2</td>\n",
       "      <td>For Rent</td>\n",
       "      <td>House</td>\n",
       "      <td>Detached Bungalow</td>\n",
       "      <td>Kisii</td>\n",
       "      <td>Kisii Central</td>\n",
       "      <td>NaN</td>\n",
       "      <td>2022-06-16 13:57:43</td>\n",
       "    </tr>\n",
       "    <tr>\n",
       "      <th>16114</th>\n",
       "      <td>16122</td>\n",
       "      <td>10000.0</td>\n",
       "      <td>per month</td>\n",
       "      <td>1</td>\n",
       "      <td>1</td>\n",
       "      <td>1.0</td>\n",
       "      <td>0</td>\n",
       "      <td>0</td>\n",
       "      <td>0</td>\n",
       "      <td>1</td>\n",
       "      <td>For Rent</td>\n",
       "      <td>House</td>\n",
       "      <td>Semi-detached Bungalow</td>\n",
       "      <td>Nairobi</td>\n",
       "      <td>Kasarani</td>\n",
       "      <td>NaN</td>\n",
       "      <td>2022-06-16 14:07:00</td>\n",
       "    </tr>\n",
       "    <tr>\n",
       "      <th>16115</th>\n",
       "      <td>16123</td>\n",
       "      <td>6000000.0</td>\n",
       "      <td>NaN</td>\n",
       "      <td>3</td>\n",
       "      <td>3</td>\n",
       "      <td>3.0</td>\n",
       "      <td>0</td>\n",
       "      <td>0</td>\n",
       "      <td>0</td>\n",
       "      <td>4</td>\n",
       "      <td>For Sale</td>\n",
       "      <td>House</td>\n",
       "      <td>Detached Bungalow</td>\n",
       "      <td>Kajiado</td>\n",
       "      <td>Kitengela</td>\n",
       "      <td>NaN</td>\n",
       "      <td>2022-06-16 14:54:29</td>\n",
       "    </tr>\n",
       "    <tr>\n",
       "      <th>16116</th>\n",
       "      <td>16124</td>\n",
       "      <td>35000.0</td>\n",
       "      <td>NaN</td>\n",
       "      <td>4</td>\n",
       "      <td>4</td>\n",
       "      <td>4.0</td>\n",
       "      <td>0</td>\n",
       "      <td>0</td>\n",
       "      <td>0</td>\n",
       "      <td>4</td>\n",
       "      <td>For Rent</td>\n",
       "      <td>House</td>\n",
       "      <td>Detached Bungalow</td>\n",
       "      <td>Kajiado</td>\n",
       "      <td>Ongata Rongai</td>\n",
       "      <td>NaN</td>\n",
       "      <td>2022-06-16 16:31:24</td>\n",
       "    </tr>\n",
       "  </tbody>\n",
       "</table>\n",
       "</div>"
      ],
      "text/plain": [
       "          id      price price_qualifier  bedrooms  bathrooms  toilets  \\\n",
       "16107  16115    25000.0       per month         3          3      3.0   \n",
       "16108  16116  5800000.0             NaN         4          4      4.0   \n",
       "16109  16117    18000.0       per month         2          2      2.0   \n",
       "16110  16118    16000.0       per month         2          2      2.0   \n",
       "16111  16119    10000.0       per month         1          1      1.0   \n",
       "16112  16120     8000.0       per month         1          1      1.0   \n",
       "16113  16121    20000.0       per month         3          3      3.0   \n",
       "16114  16122    10000.0       per month         1          1      1.0   \n",
       "16115  16123  6000000.0             NaN         3          3      3.0   \n",
       "16116  16124    35000.0             NaN         4          4      4.0   \n",
       "\n",
       "       furnished  serviced  shared  parking  category   type  \\\n",
       "16107          0         0       0        2  For Rent  House   \n",
       "16108          0         0       0        4  For Sale  House   \n",
       "16109          0         0       0        2  For Rent  House   \n",
       "16110          0         0       0        2  For Rent  House   \n",
       "16111          0         0       0        1  For Rent  House   \n",
       "16112          0         0       0        1  For Rent  House   \n",
       "16113          0         0       0        2  For Rent  House   \n",
       "16114          0         0       0        1  For Rent  House   \n",
       "16115          0         0       0        4  For Sale  House   \n",
       "16116          0         0       0        4  For Rent  House   \n",
       "\n",
       "                     sub_type     state          locality sub_locality  \\\n",
       "16107       Detached Bungalow   Nairobi          Embakasi          NaN   \n",
       "16108       Detached Bungalow   Kajiado     Ongata Rongai          NaN   \n",
       "16109  Semi-detached Bungalow   Nairobi         Thindigua          NaN   \n",
       "16110  Semi-detached Bungalow   Kajiado             Ngong          NaN   \n",
       "16111  Semi-detached Bungalow   Nairobi         Thindigua          NaN   \n",
       "16112  Semi-detached Bungalow  Machakos  Machakos Central          NaN   \n",
       "16113       Detached Bungalow     Kisii     Kisii Central          NaN   \n",
       "16114  Semi-detached Bungalow   Nairobi          Kasarani          NaN   \n",
       "16115       Detached Bungalow   Kajiado         Kitengela          NaN   \n",
       "16116       Detached Bungalow   Kajiado     Ongata Rongai          NaN   \n",
       "\n",
       "                  listdate  \n",
       "16107  2022-06-16 13:02:20  \n",
       "16108  2022-06-16 13:08:35  \n",
       "16109  2022-06-16 13:19:41  \n",
       "16110  2022-06-16 13:29:17  \n",
       "16111  2022-06-16 13:39:40  \n",
       "16112  2022-06-16 13:48:50  \n",
       "16113  2022-06-16 13:57:43  \n",
       "16114  2022-06-16 14:07:00  \n",
       "16115  2022-06-16 14:54:29  \n",
       "16116  2022-06-16 16:31:24  "
      ]
     },
     "execution_count": 8,
     "metadata": {},
     "output_type": "execute_result"
    }
   ],
   "source": [
    "df.tail(10)"
   ]
  },
  {
   "cell_type": "markdown",
   "metadata": {
    "jupyter": {
     "outputs_hidden": true
    }
   },
   "source": [
    "<p>The following are the five most expensive rental properties in the dataset.</p>"
   ]
  },
  {
   "cell_type": "code",
   "execution_count": 9,
   "metadata": {
    "jupyter": {
     "source_hidden": true
    }
   },
   "outputs": [
    {
     "data": {
      "text/html": [
       "<div>\n",
       "<style scoped>\n",
       "    .dataframe tbody tr th:only-of-type {\n",
       "        vertical-align: middle;\n",
       "    }\n",
       "\n",
       "    .dataframe tbody tr th {\n",
       "        vertical-align: top;\n",
       "    }\n",
       "\n",
       "    .dataframe thead th {\n",
       "        text-align: right;\n",
       "    }\n",
       "</style>\n",
       "<table border=\"1\" class=\"dataframe\">\n",
       "  <thead>\n",
       "    <tr style=\"text-align: right;\">\n",
       "      <th></th>\n",
       "      <th>id</th>\n",
       "      <th>price</th>\n",
       "      <th>price_qualifier</th>\n",
       "      <th>bedrooms</th>\n",
       "      <th>bathrooms</th>\n",
       "      <th>toilets</th>\n",
       "      <th>furnished</th>\n",
       "      <th>serviced</th>\n",
       "      <th>shared</th>\n",
       "      <th>parking</th>\n",
       "      <th>category</th>\n",
       "      <th>type</th>\n",
       "      <th>sub_type</th>\n",
       "      <th>state</th>\n",
       "      <th>locality</th>\n",
       "      <th>sub_locality</th>\n",
       "      <th>listdate</th>\n",
       "    </tr>\n",
       "  </thead>\n",
       "  <tbody>\n",
       "    <tr>\n",
       "      <th>6166</th>\n",
       "      <td>6167</td>\n",
       "      <td>1.500000e+09</td>\n",
       "      <td>per month</td>\n",
       "      <td>0</td>\n",
       "      <td>0</td>\n",
       "      <td>NaN</td>\n",
       "      <td>0</td>\n",
       "      <td>0</td>\n",
       "      <td>0</td>\n",
       "      <td>0</td>\n",
       "      <td>For Rent</td>\n",
       "      <td>Land</td>\n",
       "      <td>NaN</td>\n",
       "      <td>Nairobi</td>\n",
       "      <td>Nairobi Central</td>\n",
       "      <td>NaN</td>\n",
       "      <td>2020-08-19 22:23:04</td>\n",
       "    </tr>\n",
       "    <tr>\n",
       "      <th>15525</th>\n",
       "      <td>15533</td>\n",
       "      <td>5.000000e+08</td>\n",
       "      <td>per month</td>\n",
       "      <td>1</td>\n",
       "      <td>1</td>\n",
       "      <td>1.0</td>\n",
       "      <td>0</td>\n",
       "      <td>0</td>\n",
       "      <td>0</td>\n",
       "      <td>1</td>\n",
       "      <td>For Rent</td>\n",
       "      <td>House</td>\n",
       "      <td>NaN</td>\n",
       "      <td>Nakuru</td>\n",
       "      <td>London</td>\n",
       "      <td>NaN</td>\n",
       "      <td>2022-05-18 11:19:03</td>\n",
       "    </tr>\n",
       "    <tr>\n",
       "      <th>5298</th>\n",
       "      <td>5299</td>\n",
       "      <td>4.500000e+08</td>\n",
       "      <td>per month</td>\n",
       "      <td>0</td>\n",
       "      <td>0</td>\n",
       "      <td>NaN</td>\n",
       "      <td>0</td>\n",
       "      <td>0</td>\n",
       "      <td>0</td>\n",
       "      <td>0</td>\n",
       "      <td>For Rent</td>\n",
       "      <td>Commercial Property</td>\n",
       "      <td>Office Space</td>\n",
       "      <td>Nairobi</td>\n",
       "      <td>Kahawa West</td>\n",
       "      <td>NaN</td>\n",
       "      <td>2020-08-12 18:19:17</td>\n",
       "    </tr>\n",
       "    <tr>\n",
       "      <th>3903</th>\n",
       "      <td>3904</td>\n",
       "      <td>3.200000e+08</td>\n",
       "      <td>per month</td>\n",
       "      <td>0</td>\n",
       "      <td>0</td>\n",
       "      <td>NaN</td>\n",
       "      <td>0</td>\n",
       "      <td>0</td>\n",
       "      <td>0</td>\n",
       "      <td>0</td>\n",
       "      <td>For Rent</td>\n",
       "      <td>Commercial Property</td>\n",
       "      <td>NaN</td>\n",
       "      <td>Nairobi</td>\n",
       "      <td>Parklands</td>\n",
       "      <td>NaN</td>\n",
       "      <td>2020-07-31 01:06:38</td>\n",
       "    </tr>\n",
       "    <tr>\n",
       "      <th>3904</th>\n",
       "      <td>3905</td>\n",
       "      <td>3.000000e+08</td>\n",
       "      <td>per month</td>\n",
       "      <td>0</td>\n",
       "      <td>0</td>\n",
       "      <td>NaN</td>\n",
       "      <td>0</td>\n",
       "      <td>0</td>\n",
       "      <td>0</td>\n",
       "      <td>0</td>\n",
       "      <td>For Rent</td>\n",
       "      <td>Commercial Property</td>\n",
       "      <td>NaN</td>\n",
       "      <td>Nairobi</td>\n",
       "      <td>Westlands</td>\n",
       "      <td>NaN</td>\n",
       "      <td>2020-07-31 01:08:20</td>\n",
       "    </tr>\n",
       "  </tbody>\n",
       "</table>\n",
       "</div>"
      ],
      "text/plain": [
       "          id         price price_qualifier  bedrooms  bathrooms  toilets  \\\n",
       "6166    6167  1.500000e+09       per month         0          0      NaN   \n",
       "15525  15533  5.000000e+08       per month         1          1      1.0   \n",
       "5298    5299  4.500000e+08       per month         0          0      NaN   \n",
       "3903    3904  3.200000e+08       per month         0          0      NaN   \n",
       "3904    3905  3.000000e+08       per month         0          0      NaN   \n",
       "\n",
       "       furnished  serviced  shared  parking  category                 type  \\\n",
       "6166           0         0       0        0  For Rent                 Land   \n",
       "15525          0         0       0        1  For Rent                House   \n",
       "5298           0         0       0        0  For Rent  Commercial Property   \n",
       "3903           0         0       0        0  For Rent  Commercial Property   \n",
       "3904           0         0       0        0  For Rent  Commercial Property   \n",
       "\n",
       "           sub_type    state         locality sub_locality  \\\n",
       "6166            NaN  Nairobi  Nairobi Central          NaN   \n",
       "15525           NaN   Nakuru           London          NaN   \n",
       "5298   Office Space  Nairobi      Kahawa West          NaN   \n",
       "3903            NaN  Nairobi        Parklands          NaN   \n",
       "3904            NaN  Nairobi        Westlands          NaN   \n",
       "\n",
       "                  listdate  \n",
       "6166   2020-08-19 22:23:04  \n",
       "15525  2022-05-18 11:19:03  \n",
       "5298   2020-08-12 18:19:17  \n",
       "3903   2020-07-31 01:06:38  \n",
       "3904   2020-07-31 01:08:20  "
      ]
     },
     "execution_count": 9,
     "metadata": {},
     "output_type": "execute_result"
    }
   ],
   "source": [
    "df_rental.sort_values(by='price',ascending=False).head(5)"
   ]
  },
  {
   "cell_type": "markdown",
   "metadata": {},
   "source": [
    "<p>The following are the most expensive properties listed for sale</p>"
   ]
  },
  {
   "cell_type": "code",
   "execution_count": 10,
   "metadata": {
    "jupyter": {
     "source_hidden": true
    }
   },
   "outputs": [
    {
     "data": {
      "text/html": [
       "<div>\n",
       "<style scoped>\n",
       "    .dataframe tbody tr th:only-of-type {\n",
       "        vertical-align: middle;\n",
       "    }\n",
       "\n",
       "    .dataframe tbody tr th {\n",
       "        vertical-align: top;\n",
       "    }\n",
       "\n",
       "    .dataframe thead th {\n",
       "        text-align: right;\n",
       "    }\n",
       "</style>\n",
       "<table border=\"1\" class=\"dataframe\">\n",
       "  <thead>\n",
       "    <tr style=\"text-align: right;\">\n",
       "      <th></th>\n",
       "      <th>id</th>\n",
       "      <th>price</th>\n",
       "      <th>price_qualifier</th>\n",
       "      <th>bedrooms</th>\n",
       "      <th>bathrooms</th>\n",
       "      <th>toilets</th>\n",
       "      <th>furnished</th>\n",
       "      <th>serviced</th>\n",
       "      <th>shared</th>\n",
       "      <th>parking</th>\n",
       "      <th>category</th>\n",
       "      <th>type</th>\n",
       "      <th>sub_type</th>\n",
       "      <th>state</th>\n",
       "      <th>locality</th>\n",
       "      <th>sub_locality</th>\n",
       "      <th>listdate</th>\n",
       "    </tr>\n",
       "  </thead>\n",
       "  <tbody>\n",
       "    <tr>\n",
       "      <th>2174</th>\n",
       "      <td>2175</td>\n",
       "      <td>3.000000e+09</td>\n",
       "      <td>NaN</td>\n",
       "      <td>0</td>\n",
       "      <td>0</td>\n",
       "      <td>NaN</td>\n",
       "      <td>1</td>\n",
       "      <td>0</td>\n",
       "      <td>0</td>\n",
       "      <td>0</td>\n",
       "      <td>For Sale</td>\n",
       "      <td>Commercial Property</td>\n",
       "      <td>Hotel / Guest House</td>\n",
       "      <td>Kilifi</td>\n",
       "      <td>Malindi Town</td>\n",
       "      <td>NaN</td>\n",
       "      <td>2020-07-23 00:00:00</td>\n",
       "    </tr>\n",
       "    <tr>\n",
       "      <th>10145</th>\n",
       "      <td>10146</td>\n",
       "      <td>2.000000e+09</td>\n",
       "      <td>NaN</td>\n",
       "      <td>0</td>\n",
       "      <td>0</td>\n",
       "      <td>NaN</td>\n",
       "      <td>0</td>\n",
       "      <td>0</td>\n",
       "      <td>0</td>\n",
       "      <td>0</td>\n",
       "      <td>For Sale</td>\n",
       "      <td>Commercial Property</td>\n",
       "      <td>NaN</td>\n",
       "      <td>Nairobi</td>\n",
       "      <td>Nairobi Central</td>\n",
       "      <td>NaN</td>\n",
       "      <td>2021-09-27 02:43:10</td>\n",
       "    </tr>\n",
       "    <tr>\n",
       "      <th>10354</th>\n",
       "      <td>10355</td>\n",
       "      <td>1.600000e+09</td>\n",
       "      <td>NaN</td>\n",
       "      <td>0</td>\n",
       "      <td>0</td>\n",
       "      <td>NaN</td>\n",
       "      <td>0</td>\n",
       "      <td>0</td>\n",
       "      <td>0</td>\n",
       "      <td>0</td>\n",
       "      <td>For Sale</td>\n",
       "      <td>Commercial Property</td>\n",
       "      <td>NaN</td>\n",
       "      <td>Nairobi</td>\n",
       "      <td>Kileleshwa</td>\n",
       "      <td>NaN</td>\n",
       "      <td>2021-10-11 22:55:48</td>\n",
       "    </tr>\n",
       "    <tr>\n",
       "      <th>11302</th>\n",
       "      <td>11303</td>\n",
       "      <td>1.600000e+09</td>\n",
       "      <td>NaN</td>\n",
       "      <td>0</td>\n",
       "      <td>0</td>\n",
       "      <td>NaN</td>\n",
       "      <td>1</td>\n",
       "      <td>0</td>\n",
       "      <td>0</td>\n",
       "      <td>1000</td>\n",
       "      <td>For Sale</td>\n",
       "      <td>Commercial Property</td>\n",
       "      <td>Hotel / Guest House</td>\n",
       "      <td>Nairobi</td>\n",
       "      <td>Kileleshwa</td>\n",
       "      <td>NaN</td>\n",
       "      <td>2021-11-24 16:33:10</td>\n",
       "    </tr>\n",
       "    <tr>\n",
       "      <th>9708</th>\n",
       "      <td>9709</td>\n",
       "      <td>1.600000e+09</td>\n",
       "      <td>NaN</td>\n",
       "      <td>76</td>\n",
       "      <td>80</td>\n",
       "      <td>80.0</td>\n",
       "      <td>0</td>\n",
       "      <td>0</td>\n",
       "      <td>0</td>\n",
       "      <td>50</td>\n",
       "      <td>For Sale</td>\n",
       "      <td>Commercial Property</td>\n",
       "      <td>Hotel / Guest House</td>\n",
       "      <td>Nairobi</td>\n",
       "      <td>Kileleshwa</td>\n",
       "      <td>NaN</td>\n",
       "      <td>2021-09-08 01:07:15</td>\n",
       "    </tr>\n",
       "  </tbody>\n",
       "</table>\n",
       "</div>"
      ],
      "text/plain": [
       "          id         price price_qualifier  bedrooms  bathrooms  toilets  \\\n",
       "2174    2175  3.000000e+09             NaN         0          0      NaN   \n",
       "10145  10146  2.000000e+09             NaN         0          0      NaN   \n",
       "10354  10355  1.600000e+09             NaN         0          0      NaN   \n",
       "11302  11303  1.600000e+09             NaN         0          0      NaN   \n",
       "9708    9709  1.600000e+09             NaN        76         80     80.0   \n",
       "\n",
       "       furnished  serviced  shared  parking  category                 type  \\\n",
       "2174           1         0       0        0  For Sale  Commercial Property   \n",
       "10145          0         0       0        0  For Sale  Commercial Property   \n",
       "10354          0         0       0        0  For Sale  Commercial Property   \n",
       "11302          1         0       0     1000  For Sale  Commercial Property   \n",
       "9708           0         0       0       50  For Sale  Commercial Property   \n",
       "\n",
       "                  sub_type    state         locality sub_locality  \\\n",
       "2174   Hotel / Guest House   Kilifi     Malindi Town          NaN   \n",
       "10145                  NaN  Nairobi  Nairobi Central          NaN   \n",
       "10354                  NaN  Nairobi       Kileleshwa          NaN   \n",
       "11302  Hotel / Guest House  Nairobi       Kileleshwa          NaN   \n",
       "9708   Hotel / Guest House  Nairobi       Kileleshwa          NaN   \n",
       "\n",
       "                  listdate  \n",
       "2174   2020-07-23 00:00:00  \n",
       "10145  2021-09-27 02:43:10  \n",
       "10354  2021-10-11 22:55:48  \n",
       "11302  2021-11-24 16:33:10  \n",
       "9708   2021-09-08 01:07:15  "
      ]
     },
     "execution_count": 10,
     "metadata": {},
     "output_type": "execute_result"
    }
   ],
   "source": [
    "df_sale.sort_values(by='price',ascending=False).head()"
   ]
  },
  {
   "cell_type": "markdown",
   "metadata": {},
   "source": [
    "<p>The five cheapest rental properties in the dataset are:</p>"
   ]
  },
  {
   "cell_type": "code",
   "execution_count": 11,
   "metadata": {
    "jupyter": {
     "source_hidden": true
    }
   },
   "outputs": [
    {
     "data": {
      "text/html": [
       "<div>\n",
       "<style scoped>\n",
       "    .dataframe tbody tr th:only-of-type {\n",
       "        vertical-align: middle;\n",
       "    }\n",
       "\n",
       "    .dataframe tbody tr th {\n",
       "        vertical-align: top;\n",
       "    }\n",
       "\n",
       "    .dataframe thead th {\n",
       "        text-align: right;\n",
       "    }\n",
       "</style>\n",
       "<table border=\"1\" class=\"dataframe\">\n",
       "  <thead>\n",
       "    <tr style=\"text-align: right;\">\n",
       "      <th></th>\n",
       "      <th>id</th>\n",
       "      <th>price</th>\n",
       "      <th>price_qualifier</th>\n",
       "      <th>bedrooms</th>\n",
       "      <th>bathrooms</th>\n",
       "      <th>toilets</th>\n",
       "      <th>furnished</th>\n",
       "      <th>serviced</th>\n",
       "      <th>shared</th>\n",
       "      <th>parking</th>\n",
       "      <th>category</th>\n",
       "      <th>type</th>\n",
       "      <th>sub_type</th>\n",
       "      <th>state</th>\n",
       "      <th>locality</th>\n",
       "      <th>sub_locality</th>\n",
       "      <th>listdate</th>\n",
       "    </tr>\n",
       "  </thead>\n",
       "  <tbody>\n",
       "    <tr>\n",
       "      <th>2624</th>\n",
       "      <td>2625</td>\n",
       "      <td>12.0</td>\n",
       "      <td>per month</td>\n",
       "      <td>0</td>\n",
       "      <td>0</td>\n",
       "      <td>NaN</td>\n",
       "      <td>0</td>\n",
       "      <td>0</td>\n",
       "      <td>0</td>\n",
       "      <td>0</td>\n",
       "      <td>For Rent</td>\n",
       "      <td>Apartment</td>\n",
       "      <td>NaN</td>\n",
       "      <td>Nairobi</td>\n",
       "      <td>Kahawa North</td>\n",
       "      <td>NaN</td>\n",
       "      <td>2020-07-24 16:18:42</td>\n",
       "    </tr>\n",
       "    <tr>\n",
       "      <th>659</th>\n",
       "      <td>660</td>\n",
       "      <td>10.0</td>\n",
       "      <td>per square meter / per month</td>\n",
       "      <td>0</td>\n",
       "      <td>0</td>\n",
       "      <td>NaN</td>\n",
       "      <td>0</td>\n",
       "      <td>0</td>\n",
       "      <td>0</td>\n",
       "      <td>0</td>\n",
       "      <td>For Rent</td>\n",
       "      <td>Commercial Property</td>\n",
       "      <td>Warehouse</td>\n",
       "      <td>Nairobi</td>\n",
       "      <td>Embakasi</td>\n",
       "      <td>NaN</td>\n",
       "      <td>2020-07-20 00:00:00</td>\n",
       "    </tr>\n",
       "    <tr>\n",
       "      <th>626</th>\n",
       "      <td>627</td>\n",
       "      <td>6.2</td>\n",
       "      <td>per square meter / per week</td>\n",
       "      <td>0</td>\n",
       "      <td>0</td>\n",
       "      <td>NaN</td>\n",
       "      <td>0</td>\n",
       "      <td>0</td>\n",
       "      <td>0</td>\n",
       "      <td>0</td>\n",
       "      <td>For Rent</td>\n",
       "      <td>Commercial Property</td>\n",
       "      <td>Warehouse</td>\n",
       "      <td>Mombasa</td>\n",
       "      <td>Likoni</td>\n",
       "      <td>NaN</td>\n",
       "      <td>2020-07-20 00:00:00</td>\n",
       "    </tr>\n",
       "    <tr>\n",
       "      <th>8416</th>\n",
       "      <td>8417</td>\n",
       "      <td>1.0</td>\n",
       "      <td>per month</td>\n",
       "      <td>0</td>\n",
       "      <td>0</td>\n",
       "      <td>NaN</td>\n",
       "      <td>0</td>\n",
       "      <td>0</td>\n",
       "      <td>0</td>\n",
       "      <td>0</td>\n",
       "      <td>For Rent</td>\n",
       "      <td>Land</td>\n",
       "      <td>NaN</td>\n",
       "      <td>Nairobi</td>\n",
       "      <td>Umoja</td>\n",
       "      <td>NaN</td>\n",
       "      <td>2021-04-19 17:02:26</td>\n",
       "    </tr>\n",
       "    <tr>\n",
       "      <th>8850</th>\n",
       "      <td>8851</td>\n",
       "      <td>1.0</td>\n",
       "      <td>per month</td>\n",
       "      <td>0</td>\n",
       "      <td>0</td>\n",
       "      <td>2.0</td>\n",
       "      <td>0</td>\n",
       "      <td>0</td>\n",
       "      <td>0</td>\n",
       "      <td>2</td>\n",
       "      <td>For Rent</td>\n",
       "      <td>Commercial Property</td>\n",
       "      <td>Office Space</td>\n",
       "      <td>Nairobi</td>\n",
       "      <td>Kilimani</td>\n",
       "      <td>NaN</td>\n",
       "      <td>2021-06-24 14:26:23</td>\n",
       "    </tr>\n",
       "  </tbody>\n",
       "</table>\n",
       "</div>"
      ],
      "text/plain": [
       "        id  price               price_qualifier  bedrooms  bathrooms  toilets  \\\n",
       "2624  2625   12.0                     per month         0          0      NaN   \n",
       "659    660   10.0  per square meter / per month         0          0      NaN   \n",
       "626    627    6.2   per square meter / per week         0          0      NaN   \n",
       "8416  8417    1.0                     per month         0          0      NaN   \n",
       "8850  8851    1.0                     per month         0          0      2.0   \n",
       "\n",
       "      furnished  serviced  shared  parking  category                 type  \\\n",
       "2624          0         0       0        0  For Rent            Apartment   \n",
       "659           0         0       0        0  For Rent  Commercial Property   \n",
       "626           0         0       0        0  For Rent  Commercial Property   \n",
       "8416          0         0       0        0  For Rent                 Land   \n",
       "8850          0         0       0        2  For Rent  Commercial Property   \n",
       "\n",
       "          sub_type    state      locality sub_locality             listdate  \n",
       "2624           NaN  Nairobi  Kahawa North          NaN  2020-07-24 16:18:42  \n",
       "659      Warehouse  Nairobi      Embakasi          NaN  2020-07-20 00:00:00  \n",
       "626      Warehouse  Mombasa        Likoni          NaN  2020-07-20 00:00:00  \n",
       "8416           NaN  Nairobi         Umoja          NaN  2021-04-19 17:02:26  \n",
       "8850  Office Space  Nairobi      Kilimani          NaN  2021-06-24 14:26:23  "
      ]
     },
     "execution_count": 11,
     "metadata": {},
     "output_type": "execute_result"
    }
   ],
   "source": [
    "# df_rental.df[df.category == 'For Rent']\n",
    "df_rental.loc[(df_rental['price']!=0)].sort_values(by='price',ascending=False).tail()"
   ]
  },
  {
   "cell_type": "markdown",
   "metadata": {},
   "source": [
    "<p>The five cheapest properties that were listed for sale are:</p>"
   ]
  },
  {
   "cell_type": "code",
   "execution_count": 12,
   "metadata": {
    "jupyter": {
     "source_hidden": true
    }
   },
   "outputs": [
    {
     "data": {
      "text/html": [
       "<div>\n",
       "<style scoped>\n",
       "    .dataframe tbody tr th:only-of-type {\n",
       "        vertical-align: middle;\n",
       "    }\n",
       "\n",
       "    .dataframe tbody tr th {\n",
       "        vertical-align: top;\n",
       "    }\n",
       "\n",
       "    .dataframe thead th {\n",
       "        text-align: right;\n",
       "    }\n",
       "</style>\n",
       "<table border=\"1\" class=\"dataframe\">\n",
       "  <thead>\n",
       "    <tr style=\"text-align: right;\">\n",
       "      <th></th>\n",
       "      <th>id</th>\n",
       "      <th>price</th>\n",
       "      <th>price_qualifier</th>\n",
       "      <th>bedrooms</th>\n",
       "      <th>bathrooms</th>\n",
       "      <th>toilets</th>\n",
       "      <th>furnished</th>\n",
       "      <th>serviced</th>\n",
       "      <th>shared</th>\n",
       "      <th>parking</th>\n",
       "      <th>category</th>\n",
       "      <th>type</th>\n",
       "      <th>sub_type</th>\n",
       "      <th>state</th>\n",
       "      <th>locality</th>\n",
       "      <th>sub_locality</th>\n",
       "      <th>listdate</th>\n",
       "    </tr>\n",
       "  </thead>\n",
       "  <tbody>\n",
       "    <tr>\n",
       "      <th>484</th>\n",
       "      <td>485</td>\n",
       "      <td>14.50</td>\n",
       "      <td>NaN</td>\n",
       "      <td>2</td>\n",
       "      <td>2</td>\n",
       "      <td>NaN</td>\n",
       "      <td>0</td>\n",
       "      <td>0</td>\n",
       "      <td>0</td>\n",
       "      <td>0</td>\n",
       "      <td>For Sale</td>\n",
       "      <td>Apartment</td>\n",
       "      <td>NaN</td>\n",
       "      <td>Mombasa</td>\n",
       "      <td>Likoni</td>\n",
       "      <td>NaN</td>\n",
       "      <td>2020-07-19 00:00:00</td>\n",
       "    </tr>\n",
       "    <tr>\n",
       "      <th>7179</th>\n",
       "      <td>7180</td>\n",
       "      <td>7.75</td>\n",
       "      <td>NaN</td>\n",
       "      <td>0</td>\n",
       "      <td>0</td>\n",
       "      <td>NaN</td>\n",
       "      <td>0</td>\n",
       "      <td>0</td>\n",
       "      <td>0</td>\n",
       "      <td>0</td>\n",
       "      <td>For Sale</td>\n",
       "      <td>Apartment</td>\n",
       "      <td>NaN</td>\n",
       "      <td>Kiambu</td>\n",
       "      <td>Kikuyu</td>\n",
       "      <td>NaN</td>\n",
       "      <td>2020-08-26 01:26:59</td>\n",
       "    </tr>\n",
       "    <tr>\n",
       "      <th>3309</th>\n",
       "      <td>3310</td>\n",
       "      <td>NaN</td>\n",
       "      <td>NaN</td>\n",
       "      <td>4</td>\n",
       "      <td>4</td>\n",
       "      <td>NaN</td>\n",
       "      <td>0</td>\n",
       "      <td>0</td>\n",
       "      <td>0</td>\n",
       "      <td>0</td>\n",
       "      <td>For Sale</td>\n",
       "      <td>House</td>\n",
       "      <td>NaN</td>\n",
       "      <td>Nairobi</td>\n",
       "      <td>Karen</td>\n",
       "      <td>NaN</td>\n",
       "      <td>2020-07-28 06:01:48</td>\n",
       "    </tr>\n",
       "    <tr>\n",
       "      <th>3351</th>\n",
       "      <td>3352</td>\n",
       "      <td>NaN</td>\n",
       "      <td>NaN</td>\n",
       "      <td>4</td>\n",
       "      <td>4</td>\n",
       "      <td>NaN</td>\n",
       "      <td>0</td>\n",
       "      <td>0</td>\n",
       "      <td>0</td>\n",
       "      <td>0</td>\n",
       "      <td>For Sale</td>\n",
       "      <td>House</td>\n",
       "      <td>NaN</td>\n",
       "      <td>Kajiado</td>\n",
       "      <td>Ngong</td>\n",
       "      <td>NaN</td>\n",
       "      <td>2020-07-28 13:10:15</td>\n",
       "    </tr>\n",
       "    <tr>\n",
       "      <th>3421</th>\n",
       "      <td>3422</td>\n",
       "      <td>NaN</td>\n",
       "      <td>NaN</td>\n",
       "      <td>0</td>\n",
       "      <td>0</td>\n",
       "      <td>NaN</td>\n",
       "      <td>0</td>\n",
       "      <td>0</td>\n",
       "      <td>0</td>\n",
       "      <td>0</td>\n",
       "      <td>For Sale</td>\n",
       "      <td>Land</td>\n",
       "      <td>NaN</td>\n",
       "      <td>Mombasa</td>\n",
       "      <td>Bamburi</td>\n",
       "      <td>NaN</td>\n",
       "      <td>2020-07-29 14:03:52</td>\n",
       "    </tr>\n",
       "  </tbody>\n",
       "</table>\n",
       "</div>"
      ],
      "text/plain": [
       "        id  price price_qualifier  bedrooms  bathrooms  toilets  furnished  \\\n",
       "484    485  14.50             NaN         2          2      NaN          0   \n",
       "7179  7180   7.75             NaN         0          0      NaN          0   \n",
       "3309  3310    NaN             NaN         4          4      NaN          0   \n",
       "3351  3352    NaN             NaN         4          4      NaN          0   \n",
       "3421  3422    NaN             NaN         0          0      NaN          0   \n",
       "\n",
       "      serviced  shared  parking  category       type sub_type    state  \\\n",
       "484          0       0        0  For Sale  Apartment      NaN  Mombasa   \n",
       "7179         0       0        0  For Sale  Apartment      NaN   Kiambu   \n",
       "3309         0       0        0  For Sale      House      NaN  Nairobi   \n",
       "3351         0       0        0  For Sale      House      NaN  Kajiado   \n",
       "3421         0       0        0  For Sale       Land      NaN  Mombasa   \n",
       "\n",
       "     locality sub_locality             listdate  \n",
       "484    Likoni          NaN  2020-07-19 00:00:00  \n",
       "7179   Kikuyu          NaN  2020-08-26 01:26:59  \n",
       "3309    Karen          NaN  2020-07-28 06:01:48  \n",
       "3351    Ngong          NaN  2020-07-28 13:10:15  \n",
       "3421  Bamburi          NaN  2020-07-29 14:03:52  "
      ]
     },
     "execution_count": 12,
     "metadata": {},
     "output_type": "execute_result"
    }
   ],
   "source": [
    "# replace null values with zero since there are rows with null\n",
    "df.fillna({'price':0},  inplace=True)\n",
    "df_sale.loc[(df_sale['price']!=0)].sort_values(by='price',ascending=False).tail()"
   ]
  },
  {
   "cell_type": "markdown",
   "metadata": {},
   "source": [
    "<h2>Univariate analysis</h2>\n",
    "<p></p>\n",
    "<h2>Distribution of categorical feautures</h2>"
   ]
  },
  {
   "cell_type": "code",
   "execution_count": 15,
   "metadata": {
    "jupyter": {
     "source_hidden": true
    }
   },
   "outputs": [
    {
     "data": {
      "image/png": "[encoded data removed]",
      "text/plain": [
       "<Figure size 1080x576 with 1 Axes>"
      ]
     },
     "metadata": {
      "needs_background": "light"
     },
     "output_type": "display_data"
    },
    {
     "data": {
      "image/png": "[encoded data removed]",
      "text/plain": [
       "<Figure size 1080x576 with 1 Axes>"
      ]
     },
     "metadata": {
      "needs_background": "light"
     },
     "output_type": "display_data"
    },
    {
     "data": {
      "image/png": "[encoded data removed]",
      "text/plain": [
       "<Figure size 1080x576 with 1 Axes>"
      ]
     },
     "metadata": {
      "needs_background": "light"
     },
     "output_type": "display_data"
    },
    {
     "data": {
      "image/png": "[encoded data removed]",
      "text/plain": [
       "<Figure size 1080x576 with 1 Axes>"
      ]
     },
     "metadata": {
      "needs_background": "light"
     },
     "output_type": "display_data"
    },
    {
     "data": {
      "image/png": "[encoded data removed]",
      "text/plain": [
       "<Figure size 1080x576 with 1 Axes>"
      ]
     },
     "metadata": {
      "needs_background": "light"
     },
     "output_type": "display_data"
    },
    {
     "data": {
      "image/png": "[encoded data removed]",
      "text/plain": [
       "<Figure size 1080x576 with 1 Axes>"
      ]
     },
     "metadata": {
      "needs_background": "light"
     },
     "output_type": "display_data"
    }
   ],
   "source": [
    "# Plot bar plot for each categorical feature\n",
    "for feature in categorical_features:\n",
    "    fig, ax = plt.subplots(figsize=(15, 8))\n",
    "    sns.countplot(y=feature ,data=df,ax=ax)\n",
    "    plt.show()"
   ]
  },
  {
   "cell_type": "markdown",
   "metadata": {},
   "source": [
    "<p>Summary statistics of categorical features</p>"
   ]
  },
  {
   "cell_type": "code",
   "execution_count": 16,
   "metadata": {
    "jupyter": {
     "source_hidden": true
    }
   },
   "outputs": [
    {
     "data": {
      "text/html": [
       "<div>\n",
       "<style scoped>\n",
       "    .dataframe tbody tr th:only-of-type {\n",
       "        vertical-align: middle;\n",
       "    }\n",
       "\n",
       "    .dataframe tbody tr th {\n",
       "        vertical-align: top;\n",
       "    }\n",
       "\n",
       "    .dataframe thead th {\n",
       "        text-align: right;\n",
       "    }\n",
       "</style>\n",
       "<table border=\"1\" class=\"dataframe\">\n",
       "  <thead>\n",
       "    <tr style=\"text-align: right;\">\n",
       "      <th></th>\n",
       "      <th>price_qualifier</th>\n",
       "      <th>category</th>\n",
       "      <th>type</th>\n",
       "      <th>sub_type</th>\n",
       "      <th>state</th>\n",
       "      <th>locality</th>\n",
       "      <th>sub_locality</th>\n",
       "      <th>listdate</th>\n",
       "    </tr>\n",
       "  </thead>\n",
       "  <tbody>\n",
       "    <tr>\n",
       "      <th>count</th>\n",
       "      <td>7247</td>\n",
       "      <td>16117</td>\n",
       "      <td>16117</td>\n",
       "      <td>6300</td>\n",
       "      <td>16117</td>\n",
       "      <td>16111</td>\n",
       "      <td>1046</td>\n",
       "      <td>16117</td>\n",
       "    </tr>\n",
       "    <tr>\n",
       "      <th>unique</th>\n",
       "      <td>13</td>\n",
       "      <td>4</td>\n",
       "      <td>5</td>\n",
       "      <td>26</td>\n",
       "      <td>42</td>\n",
       "      <td>357</td>\n",
       "      <td>27</td>\n",
       "      <td>13783</td>\n",
       "    </tr>\n",
       "    <tr>\n",
       "      <th>top</th>\n",
       "      <td>per month</td>\n",
       "      <td>For Sale</td>\n",
       "      <td>House</td>\n",
       "      <td>Townhouse</td>\n",
       "      <td>Nairobi</td>\n",
       "      <td>Westlands</td>\n",
       "      <td>Runda</td>\n",
       "      <td>2020-07-22 00:00:00</td>\n",
       "    </tr>\n",
       "    <tr>\n",
       "      <th>freq</th>\n",
       "      <td>6227</td>\n",
       "      <td>9108</td>\n",
       "      <td>6026</td>\n",
       "      <td>1563</td>\n",
       "      <td>8935</td>\n",
       "      <td>2446</td>\n",
       "      <td>553</td>\n",
       "      <td>426</td>\n",
       "    </tr>\n",
       "  </tbody>\n",
       "</table>\n",
       "</div>"
      ],
      "text/plain": [
       "       price_qualifier  category   type   sub_type    state   locality  \\\n",
       "count             7247     16117  16117       6300    16117      16111   \n",
       "unique              13         4      5         26       42        357   \n",
       "top          per month  For Sale  House  Townhouse  Nairobi  Westlands   \n",
       "freq              6227      9108   6026       1563     8935       2446   \n",
       "\n",
       "       sub_locality             listdate  \n",
       "count          1046                16117  \n",
       "unique           27                13783  \n",
       "top           Runda  2020-07-22 00:00:00  \n",
       "freq            553                  426  "
      ]
     },
     "execution_count": 16,
     "metadata": {},
     "output_type": "execute_result"
    }
   ],
   "source": [
    "df_cat.describe()"
   ]
  },
  {
   "cell_type": "markdown",
   "metadata": {},
   "source": [
    "<h2>Distribution of numerical features</h2>"
   ]
  },
  {
   "cell_type": "code",
   "execution_count": 17,
   "metadata": {
    "jupyter": {
     "source_hidden": true
    }
   },
   "outputs": [
    {
     "data": {
      "image/png": "[encoded data removed]",
      "text/plain": [
       "<Figure size 576x576 with 1 Axes>"
      ]
     },
     "metadata": {
      "needs_background": "light"
     },
     "output_type": "display_data"
    },
    {
     "data": {
      "image/png": "[encoded data removed]",
      "text/plain": [
       "<Figure size 576x576 with 1 Axes>"
      ]
     },
     "metadata": {
      "needs_background": "light"
     },
     "output_type": "display_data"
    },
    {
     "data": {
      "image/png": "[encoded data removed]",
      "text/plain": [
       "<Figure size 576x576 with 1 Axes>"
      ]
     },
     "metadata": {
      "needs_background": "light"
     },
     "output_type": "display_data"
    },
    {
     "data": {
      "image/png": "[encoded data removed]",
      "text/plain": [
       "<Figure size 576x576 with 1 Axes>"
      ]
     },
     "metadata": {
      "needs_background": "light"
     },
     "output_type": "display_data"
    },
    {
     "data": {
      "image/png": "[encoded data removed]",
      "text/plain": [
       "<Figure size 576x576 with 1 Axes>"
      ]
     },
     "metadata": {
      "needs_background": "light"
     },
     "output_type": "display_data"
    },
    {
     "data": {
      "image/png": "[encoded data removed]",
      "text/plain": [
       "<Figure size 576x576 with 1 Axes>"
      ]
     },
     "metadata": {
      "needs_background": "light"
     },
     "output_type": "display_data"
    },
    {
     "data": {
      "image/png": "[encoded data removed]",
      "text/plain": [
       "<Figure size 576x576 with 1 Axes>"
      ]
     },
     "metadata": {
      "needs_background": "light"
     },
     "output_type": "display_data"
    }
   ],
   "source": [
    "df_num = df.loc[:, ~df.columns.isin(['id', 'price'])].select_dtypes(include = np.number)\n",
    "for feature in df_num:\n",
    "    fig, ax = plt.subplots(figsize=(8, 8))\n",
    "    sns.countplot(y=feature ,data=df,ax=ax)\n",
    "    ax.set_ylim(0,15)\n",
    "    plt.show()"
   ]
  },
  {
   "cell_type": "markdown",
   "metadata": {
    "jupyter": {
     "outputs_hidden": true
    }
   },
   "source": [
    "<h3>Disp plot for rental values</h3>\n",
    "<p>Distplot are used to show the denstity distribution</p> "
   ]
  },
  {
   "cell_type": "code",
   "execution_count": 18,
   "metadata": {
    "jupyter": {
     "source_hidden": true
    }
   },
   "outputs": [
    {
     "data": {
      "image/png": "[encoded data removed]",
      "text/plain": [
       "<Figure size 864x576 with 1 Axes>"
      ]
     },
     "metadata": {
      "needs_background": "light"
     },
     "output_type": "display_data"
    }
   ],
   "source": [
    "plt.figure(figsize=(12,8))\n",
    "sns.distplot(df_rental['price'])\n",
    "plt.show()"
   ]
  },
  {
   "cell_type": "markdown",
   "metadata": {},
   "source": [
    "<p> Summary statistics of numerical features</p>"
   ]
  },
  {
   "cell_type": "code",
   "execution_count": 19,
   "metadata": {
    "jupyter": {
     "source_hidden": true
    }
   },
   "outputs": [
    {
     "data": {
      "text/html": [
       "<div>\n",
       "<style scoped>\n",
       "    .dataframe tbody tr th:only-of-type {\n",
       "        vertical-align: middle;\n",
       "    }\n",
       "\n",
       "    .dataframe tbody tr th {\n",
       "        vertical-align: top;\n",
       "    }\n",
       "\n",
       "    .dataframe thead th {\n",
       "        text-align: right;\n",
       "    }\n",
       "</style>\n",
       "<table border=\"1\" class=\"dataframe\">\n",
       "  <thead>\n",
       "    <tr style=\"text-align: right;\">\n",
       "      <th></th>\n",
       "      <th>id</th>\n",
       "      <th>price</th>\n",
       "      <th>bedrooms</th>\n",
       "      <th>bathrooms</th>\n",
       "      <th>toilets</th>\n",
       "      <th>furnished</th>\n",
       "      <th>serviced</th>\n",
       "      <th>shared</th>\n",
       "      <th>parking</th>\n",
       "    </tr>\n",
       "  </thead>\n",
       "  <tbody>\n",
       "    <tr>\n",
       "      <th>count</th>\n",
       "      <td>16117.000000</td>\n",
       "      <td>1.611700e+04</td>\n",
       "      <td>16117.000000</td>\n",
       "      <td>16117.000000</td>\n",
       "      <td>6089.000000</td>\n",
       "      <td>16117.000000</td>\n",
       "      <td>16117.000000</td>\n",
       "      <td>16117.000000</td>\n",
       "      <td>1.611700e+04</td>\n",
       "    </tr>\n",
       "    <tr>\n",
       "      <th>mean</th>\n",
       "      <td>8060.895328</td>\n",
       "      <td>2.262749e+07</td>\n",
       "      <td>2.265868</td>\n",
       "      <td>1.786809</td>\n",
       "      <td>3.175562</td>\n",
       "      <td>0.042750</td>\n",
       "      <td>0.051188</td>\n",
       "      <td>0.003971</td>\n",
       "      <td>5.221860e+04</td>\n",
       "    </tr>\n",
       "    <tr>\n",
       "      <th>std</th>\n",
       "      <td>4655.115101</td>\n",
       "      <td>7.391662e+07</td>\n",
       "      <td>9.966560</td>\n",
       "      <td>2.292134</td>\n",
       "      <td>14.319435</td>\n",
       "      <td>0.202299</td>\n",
       "      <td>0.220388</td>\n",
       "      <td>0.062892</td>\n",
       "      <td>5.771765e+06</td>\n",
       "    </tr>\n",
       "    <tr>\n",
       "      <th>min</th>\n",
       "      <td>1.000000</td>\n",
       "      <td>0.000000e+00</td>\n",
       "      <td>0.000000</td>\n",
       "      <td>0.000000</td>\n",
       "      <td>0.000000</td>\n",
       "      <td>0.000000</td>\n",
       "      <td>0.000000</td>\n",
       "      <td>0.000000</td>\n",
       "      <td>0.000000e+00</td>\n",
       "    </tr>\n",
       "    <tr>\n",
       "      <th>25%</th>\n",
       "      <td>4030.000000</td>\n",
       "      <td>1.000000e+05</td>\n",
       "      <td>0.000000</td>\n",
       "      <td>0.000000</td>\n",
       "      <td>2.000000</td>\n",
       "      <td>0.000000</td>\n",
       "      <td>0.000000</td>\n",
       "      <td>0.000000</td>\n",
       "      <td>0.000000e+00</td>\n",
       "    </tr>\n",
       "    <tr>\n",
       "      <th>50%</th>\n",
       "      <td>8059.000000</td>\n",
       "      <td>3.000000e+06</td>\n",
       "      <td>2.000000</td>\n",
       "      <td>1.000000</td>\n",
       "      <td>3.000000</td>\n",
       "      <td>0.000000</td>\n",
       "      <td>0.000000</td>\n",
       "      <td>0.000000</td>\n",
       "      <td>0.000000e+00</td>\n",
       "    </tr>\n",
       "    <tr>\n",
       "      <th>75%</th>\n",
       "      <td>12095.000000</td>\n",
       "      <td>1.750000e+07</td>\n",
       "      <td>4.000000</td>\n",
       "      <td>3.000000</td>\n",
       "      <td>4.000000</td>\n",
       "      <td>0.000000</td>\n",
       "      <td>0.000000</td>\n",
       "      <td>0.000000</td>\n",
       "      <td>2.000000e+00</td>\n",
       "    </tr>\n",
       "    <tr>\n",
       "      <th>max</th>\n",
       "      <td>16124.000000</td>\n",
       "      <td>3.000000e+09</td>\n",
       "      <td>1231.000000</td>\n",
       "      <td>100.000000</td>\n",
       "      <td>1101.000000</td>\n",
       "      <td>1.000000</td>\n",
       "      <td>1.000000</td>\n",
       "      <td>1.000000</td>\n",
       "      <td>7.231109e+08</td>\n",
       "    </tr>\n",
       "  </tbody>\n",
       "</table>\n",
       "</div>"
      ],
      "text/plain": [
       "                 id         price      bedrooms     bathrooms      toilets  \\\n",
       "count  16117.000000  1.611700e+04  16117.000000  16117.000000  6089.000000   \n",
       "mean    8060.895328  2.262749e+07      2.265868      1.786809     3.175562   \n",
       "std     4655.115101  7.391662e+07      9.966560      2.292134    14.319435   \n",
       "min        1.000000  0.000000e+00      0.000000      0.000000     0.000000   \n",
       "25%     4030.000000  1.000000e+05      0.000000      0.000000     2.000000   \n",
       "50%     8059.000000  3.000000e+06      2.000000      1.000000     3.000000   \n",
       "75%    12095.000000  1.750000e+07      4.000000      3.000000     4.000000   \n",
       "max    16124.000000  3.000000e+09   1231.000000    100.000000  1101.000000   \n",
       "\n",
       "          furnished      serviced        shared       parking  \n",
       "count  16117.000000  16117.000000  16117.000000  1.611700e+04  \n",
       "mean       0.042750      0.051188      0.003971  5.221860e+04  \n",
       "std        0.202299      0.220388      0.062892  5.771765e+06  \n",
       "min        0.000000      0.000000      0.000000  0.000000e+00  \n",
       "25%        0.000000      0.000000      0.000000  0.000000e+00  \n",
       "50%        0.000000      0.000000      0.000000  0.000000e+00  \n",
       "75%        0.000000      0.000000      0.000000  2.000000e+00  \n",
       "max        1.000000      1.000000      1.000000  7.231109e+08  "
      ]
     },
     "execution_count": 19,
     "metadata": {},
     "output_type": "execute_result"
    }
   ],
   "source": [
    "df.describe()"
   ]
  },
  {
   "cell_type": "markdown",
   "metadata": {},
   "source": [
    "<h2> Bivariate analysis</h2>\n",
    "<h3>Pairplot visualisation</h3>"
   ]
  },
  {
   "cell_type": "code",
   "execution_count": null,
   "metadata": {},
   "outputs": [],
   "source": [
    "fig, ax = plt.subplots(figsize =(80,80))\n",
    "sns.pairplot(df.loc[:, ~df.columns.isin(['id'])])\n",
    "plt.show()"
   ]
  },
  {
   "cell_type": "markdown",
   "metadata": {
    "jupyter": {
     "outputs_hidden": true
    }
   },
   "source": [
    "<h3>Segmentations</h3>\n",
    "<p>In this section we get to observe relationships between categorical features and numeric features</p>\n",
    "<h3>Segmentation between property type and price for sale propperties</h3>"
   ]
  },
  {
   "cell_type": "code",
   "execution_count": 73,
   "metadata": {
    "jupyter": {
     "source_hidden": true
    }
   },
   "outputs": [],
   "source": [
    "df['date'] = pd.to_datetime(df['listdate'])"
   ]
  },
  {
   "cell_type": "code",
   "execution_count": 74,
   "metadata": {
    "jupyter": {
     "source_hidden": true
    }
   },
   "outputs": [],
   "source": [
    "df['month'] = df['date'].apply(lambda date:date.month)"
   ]
  },
  {
   "cell_type": "code",
   "execution_count": null,
   "metadata": {},
   "outputs": [],
   "source": [
    "df['year'] = df['date'].apply(lambda date:date.year)"
   ]
  },
  {
   "cell_type": "code",
   "execution_count": 64,
   "metadata": {
    "jupyter": {
     "source_hidden": true
    }
   },
   "outputs": [
    {
     "data": {
      "text/plain": [
       "<matplotlib.axes._subplots.AxesSubplot at 0x2b503ca0a48>"
      ]
     },
     "execution_count": 64,
     "metadata": {},
     "output_type": "execute_result"
    },
    {
     "data": {
      "image/png": "[encoded data removed]",
      "text/plain": [
       "<Figure size 432x288 with 1 Axes>"
      ]
     },
     "metadata": {},
     "output_type": "display_data"
    }
   ],
   "source": [
    "# sns.boxplot(x='listdate',y='price',data=df.loc[(df['category']=='For Sale')])\n",
    "sns.boxplot(y='type', x='price', data=df.loc[(df['category']=='For Sale')])"
   ]
  },
  {
   "cell_type": "code",
   "execution_count": 65,
   "metadata": {
    "jupyter": {
     "source_hidden": true
    }
   },
   "outputs": [
    {
     "data": {
      "text/html": [
       "<div>\n",
       "<style scoped>\n",
       "    .dataframe tbody tr th:only-of-type {\n",
       "        vertical-align: middle;\n",
       "    }\n",
       "\n",
       "    .dataframe tbody tr th {\n",
       "        vertical-align: top;\n",
       "    }\n",
       "\n",
       "    .dataframe thead tr th {\n",
       "        text-align: left;\n",
       "    }\n",
       "\n",
       "    .dataframe thead tr:last-of-type th {\n",
       "        text-align: right;\n",
       "    }\n",
       "</style>\n",
       "<table border=\"1\" class=\"dataframe\">\n",
       "  <thead>\n",
       "    <tr>\n",
       "      <th></th>\n",
       "      <th colspan=\"2\" halign=\"left\">id</th>\n",
       "      <th colspan=\"2\" halign=\"left\">price</th>\n",
       "      <th colspan=\"2\" halign=\"left\">bedrooms</th>\n",
       "      <th colspan=\"2\" halign=\"left\">bathrooms</th>\n",
       "      <th colspan=\"2\" halign=\"left\">toilets</th>\n",
       "      <th>...</th>\n",
       "      <th colspan=\"2\" halign=\"left\">serviced</th>\n",
       "      <th colspan=\"2\" halign=\"left\">shared</th>\n",
       "      <th colspan=\"2\" halign=\"left\">parking</th>\n",
       "      <th colspan=\"2\" halign=\"left\">month</th>\n",
       "      <th colspan=\"2\" halign=\"left\">year</th>\n",
       "    </tr>\n",
       "    <tr>\n",
       "      <th></th>\n",
       "      <th>mean</th>\n",
       "      <th>std</th>\n",
       "      <th>mean</th>\n",
       "      <th>std</th>\n",
       "      <th>mean</th>\n",
       "      <th>std</th>\n",
       "      <th>mean</th>\n",
       "      <th>std</th>\n",
       "      <th>mean</th>\n",
       "      <th>std</th>\n",
       "      <th>...</th>\n",
       "      <th>mean</th>\n",
       "      <th>std</th>\n",
       "      <th>mean</th>\n",
       "      <th>std</th>\n",
       "      <th>mean</th>\n",
       "      <th>std</th>\n",
       "      <th>mean</th>\n",
       "      <th>std</th>\n",
       "      <th>mean</th>\n",
       "      <th>std</th>\n",
       "    </tr>\n",
       "    <tr>\n",
       "      <th>type</th>\n",
       "      <th></th>\n",
       "      <th></th>\n",
       "      <th></th>\n",
       "      <th></th>\n",
       "      <th></th>\n",
       "      <th></th>\n",
       "      <th></th>\n",
       "      <th></th>\n",
       "      <th></th>\n",
       "      <th></th>\n",
       "      <th></th>\n",
       "      <th></th>\n",
       "      <th></th>\n",
       "      <th></th>\n",
       "      <th></th>\n",
       "      <th></th>\n",
       "      <th></th>\n",
       "      <th></th>\n",
       "      <th></th>\n",
       "      <th></th>\n",
       "      <th></th>\n",
       "    </tr>\n",
       "  </thead>\n",
       "  <tbody>\n",
       "    <tr>\n",
       "      <th>Apartment</th>\n",
       "      <td>6865.424036</td>\n",
       "      <td>4341.490631</td>\n",
       "      <td>1.792146e+07</td>\n",
       "      <td>2.224416e+07</td>\n",
       "      <td>2.485490</td>\n",
       "      <td>1.371006</td>\n",
       "      <td>1.725845</td>\n",
       "      <td>1.664567</td>\n",
       "      <td>2.627557</td>\n",
       "      <td>1.127217</td>\n",
       "      <td>...</td>\n",
       "      <td>0.046091</td>\n",
       "      <td>0.209718</td>\n",
       "      <td>0.000683</td>\n",
       "      <td>0.026126</td>\n",
       "      <td>0.630249</td>\n",
       "      <td>1.048444</td>\n",
       "      <td>6.960737</td>\n",
       "      <td>2.227075</td>\n",
       "      <td>2020.525435</td>\n",
       "      <td>0.739303</td>\n",
       "    </tr>\n",
       "    <tr>\n",
       "      <th>Commercial Property</th>\n",
       "      <td>6634.636905</td>\n",
       "      <td>3797.395122</td>\n",
       "      <td>1.232334e+08</td>\n",
       "      <td>3.065926e+08</td>\n",
       "      <td>1.458333</td>\n",
       "      <td>10.107396</td>\n",
       "      <td>0.866071</td>\n",
       "      <td>7.189747</td>\n",
       "      <td>16.956522</td>\n",
       "      <td>30.886123</td>\n",
       "      <td>...</td>\n",
       "      <td>0.029762</td>\n",
       "      <td>0.170183</td>\n",
       "      <td>0.000000</td>\n",
       "      <td>0.000000</td>\n",
       "      <td>19.369048</td>\n",
       "      <td>171.966608</td>\n",
       "      <td>7.211310</td>\n",
       "      <td>1.913032</td>\n",
       "      <td>2020.369048</td>\n",
       "      <td>0.695912</td>\n",
       "    </tr>\n",
       "    <tr>\n",
       "      <th>House</th>\n",
       "      <td>8797.513178</td>\n",
       "      <td>4392.746521</td>\n",
       "      <td>4.547473e+07</td>\n",
       "      <td>5.953006e+07</td>\n",
       "      <td>3.949147</td>\n",
       "      <td>1.522745</td>\n",
       "      <td>3.299845</td>\n",
       "      <td>2.266588</td>\n",
       "      <td>4.170522</td>\n",
       "      <td>1.405997</td>\n",
       "      <td>...</td>\n",
       "      <td>0.026357</td>\n",
       "      <td>0.160218</td>\n",
       "      <td>0.000000</td>\n",
       "      <td>0.000000</td>\n",
       "      <td>8.521550</td>\n",
       "      <td>382.104741</td>\n",
       "      <td>7.023566</td>\n",
       "      <td>3.036186</td>\n",
       "      <td>2020.856124</td>\n",
       "      <td>0.783523</td>\n",
       "    </tr>\n",
       "    <tr>\n",
       "      <th>Land</th>\n",
       "      <td>8109.133690</td>\n",
       "      <td>4656.972403</td>\n",
       "      <td>4.460408e+07</td>\n",
       "      <td>1.081968e+08</td>\n",
       "      <td>0.003056</td>\n",
       "      <td>0.113941</td>\n",
       "      <td>0.000764</td>\n",
       "      <td>0.039088</td>\n",
       "      <td>2.000000</td>\n",
       "      <td>NaN</td>\n",
       "      <td>...</td>\n",
       "      <td>0.000382</td>\n",
       "      <td>0.019544</td>\n",
       "      <td>0.000000</td>\n",
       "      <td>0.000000</td>\n",
       "      <td>0.302521</td>\n",
       "      <td>9.856835</td>\n",
       "      <td>6.529412</td>\n",
       "      <td>2.573210</td>\n",
       "      <td>2020.763560</td>\n",
       "      <td>0.840929</td>\n",
       "    </tr>\n",
       "  </tbody>\n",
       "</table>\n",
       "<p>4 rows × 22 columns</p>\n",
       "</div>"
      ],
      "text/plain": [
       "                              id                      price                \\\n",
       "                            mean          std          mean           std   \n",
       "type                                                                        \n",
       "Apartment            6865.424036  4341.490631  1.792146e+07  2.224416e+07   \n",
       "Commercial Property  6634.636905  3797.395122  1.232334e+08  3.065926e+08   \n",
       "House                8797.513178  4392.746521  4.547473e+07  5.953006e+07   \n",
       "Land                 8109.133690  4656.972403  4.460408e+07  1.081968e+08   \n",
       "\n",
       "                     bedrooms            bathrooms              toilets  \\\n",
       "                         mean        std      mean       std       mean   \n",
       "type                                                                      \n",
       "Apartment            2.485490   1.371006  1.725845  1.664567   2.627557   \n",
       "Commercial Property  1.458333  10.107396  0.866071  7.189747  16.956522   \n",
       "House                3.949147   1.522745  3.299845  2.266588   4.170522   \n",
       "Land                 0.003056   0.113941  0.000764  0.039088   2.000000   \n",
       "\n",
       "                                ...  serviced              shared            \\\n",
       "                           std  ...      mean       std      mean       std   \n",
       "type                            ...                                           \n",
       "Apartment             1.127217  ...  0.046091  0.209718  0.000683  0.026126   \n",
       "Commercial Property  30.886123  ...  0.029762  0.170183  0.000000  0.000000   \n",
       "House                 1.405997  ...  0.026357  0.160218  0.000000  0.000000   \n",
       "Land                       NaN  ...  0.000382  0.019544  0.000000  0.000000   \n",
       "\n",
       "                       parking                 month                   year  \\\n",
       "                          mean         std      mean       std         mean   \n",
       "type                                                                          \n",
       "Apartment             0.630249    1.048444  6.960737  2.227075  2020.525435   \n",
       "Commercial Property  19.369048  171.966608  7.211310  1.913032  2020.369048   \n",
       "House                 8.521550  382.104741  7.023566  3.036186  2020.856124   \n",
       "Land                  0.302521    9.856835  6.529412  2.573210  2020.763560   \n",
       "\n",
       "                               \n",
       "                          std  \n",
       "type                           \n",
       "Apartment            0.739303  \n",
       "Commercial Property  0.695912  \n",
       "House                0.783523  \n",
       "Land                 0.840929  \n",
       "\n",
       "[4 rows x 22 columns]"
      ]
     },
     "execution_count": 65,
     "metadata": {},
     "output_type": "execute_result"
    }
   ],
   "source": [
    "# Segment by property_type and display the means and standard deviations within each class\n",
    "df.loc[(df['category']=='For Sale')].groupby('type').agg([np.mean,np.std])"
   ]
  },
  {
   "cell_type": "markdown",
   "metadata": {
    "jupyter": {
     "outputs_hidden": true
    }
   },
   "source": [
    "<h3>Segmentation between property type and price for rental propperties</h3>"
   ]
  },
  {
   "cell_type": "code",
   "execution_count": 67,
   "metadata": {
    "jupyter": {
     "source_hidden": true
    }
   },
   "outputs": [
    {
     "data": {
      "text/plain": [
       "<matplotlib.axes._subplots.AxesSubplot at 0x2b503e5c588>"
      ]
     },
     "execution_count": 67,
     "metadata": {},
     "output_type": "execute_result"
    },
    {
     "data": {
      "image/png": "[encoded data removed]",
      "text/plain": [
       "<Figure size 432x288 with 1 Axes>"
      ]
     },
     "metadata": {},
     "output_type": "display_data"
    }
   ],
   "source": [
    "sns.boxplot(y='type', x='price', data=df.loc[(df['category']=='For Rent')])"
   ]
  },
  {
   "cell_type": "code",
   "execution_count": 68,
   "metadata": {
    "jupyter": {
     "source_hidden": true
    }
   },
   "outputs": [],
   "source": [
    "df.loc[(df['category']=='For Rent')].groupby('type').agg([np.mean,np.std])"
   ]
  },
  {
   "cell_type": "markdown",
   "metadata": {},
   "source": [
    "<h2>Comparison of average price over the years</h2>\n",
    "<h3>1. Rental prices</h3>"
   ]
  },
  {
   "cell_type": "code",
   "execution_count": 91,
   "metadata": {
    "jupyter": {
     "source_hidden": true
    }
   },
   "outputs": [
    {
     "data": {
      "image/png": "[encoded data removed]",
      "text/plain": [
       "<Figure size 1440x576 with 1 Axes>"
      ]
     },
     "metadata": {},
     "output_type": "display_data"
    }
   ],
   "source": [
    "plt.figure(figsize=(20,8))\n",
    "sns.lineplot(\n",
    "    data=df.loc[(df['category']=='For Rent')].groupby('year')['price'].mean().to_frame(),  # or .reset_index()\n",
    ")\n",
    "plt.show()"
   ]
  },
  {
   "cell_type": "markdown",
   "metadata": {},
   "source": [
    "<h3>2. Sale price</h3>"
   ]
  },
  {
   "cell_type": "code",
   "execution_count": 90,
   "metadata": {
    "jupyter": {
     "source_hidden": true
    }
   },
   "outputs": [],
   "source": [
    "plt.figure(figsize=(20,8))\n",
    "sns.lineplot(\n",
    "    data=df.loc[(df['category']=='For Sale')].groupby('year')['price'].mean().to_frame(),  # or .reset_index()\n",
    ")\n",
    "\n",
    "plt.show()"
   ]
  },
  {
   "cell_type": "markdown",
   "metadata": {},
   "source": [
    "<h2>Comparison of average price across one calender year</h2>\n",
    "<h3>1. Rental prices</h3>"
   ]
  },
  {
   "cell_type": "code",
   "execution_count": 104,
   "metadata": {
    "jupyter": {
     "source_hidden": true
    }
   },
   "outputs": [
    {
     "data": {
      "image/png": "[encoded data removed]",
      "text/plain": [
       "<Figure size 1440x576 with 1 Axes>"
      ]
     },
     "metadata": {},
     "output_type": "display_data"
    }
   ],
   "source": [
    "plt.figure(figsize=(20,8))\n",
    "sns.lineplot(\n",
    "    data=df.loc[(df['category']=='For Rent')].groupby('month')['price'].mean().to_frame(),  # or .reset_index()\n",
    ")\n",
    "plt.show()"
   ]
  },
  {
   "cell_type": "markdown",
   "metadata": {},
   "source": [
    "<h3>2. Sale prices</h3>"
   ]
  },
  {
   "cell_type": "code",
   "execution_count": 108,
   "metadata": {
    "jupyter": {
     "source_hidden": true
    }
   },
   "outputs": [
    {
     "data": {
      "image/png": "[encoded data removed]",
      "text/plain": [
       "<Figure size 1440x576 with 1 Axes>"
      ]
     },
     "metadata": {},
     "output_type": "display_data"
    }
   ],
   "source": [
    "plt.figure(figsize=(20,8))\n",
    "sns.lineplot(\n",
    "    data=df.loc[(df['category']=='For Sale')].groupby('month')['price'].mean().to_frame(),  # or .reset_index()\n",
    ")\n",
    "\n",
    "plt.show()"
   ]
  },
  {
   "cell_type": "markdown",
   "metadata": {},
   "source": [
    "<h2>Number of house listings change over the years</h2>"
   ]
  },
  {
   "cell_type": "code",
   "execution_count": 131,
   "metadata": {},
   "outputs": [
    {
     "data": {
      "image/png": "[encoded data removed]",
      "text/plain": [
       "<Figure size 720x576 with 1 Axes>"
      ]
     },
     "metadata": {},
     "output_type": "display_data"
    }
   ],
   "source": [
    "fig,ax = plt.subplots(figsize=(10,8))\n",
    "grouped=df.groupby('year').size().plot(kind='barh',ax=ax)"
   ]
  },
  {
   "cell_type": "markdown",
   "metadata": {},
   "source": [
    "<h2>Multivariate analysis</h2>\n",
    "<p>Here we look at relationships between numeric features and other numeric features</p>\n",
    "<h3>Correlations in the dataset properties<i>(both rental and sale)</i></h3>"
   ]
  },
  {
   "cell_type": "code",
   "execution_count": 134,
   "metadata": {},
   "outputs": [],
   "source": [
    "correlations = df.corr()"
   ]
  },
  {
   "cell_type": "code",
   "execution_count": 135,
   "metadata": {},
   "outputs": [],
   "source": [
    "mask = np.zeros_like(correlations, dtype=np.bool)\n",
    "mask[np.triu_indices_from(mask)] = True"
   ]
  },
  {
   "cell_type": "code",
   "execution_count": 136,
   "metadata": {},
   "outputs": [
    {
     "data": {
      "text/plain": [
       "<matplotlib.axes._subplots.AxesSubplot at 0x2b56ce995c8>"
      ]
     },
     "execution_count": 136,
     "metadata": {},
     "output_type": "execute_result"
    },
    {
     "data": {
      "image/png": "[encoded data removed]",
      "text/plain": [
       "<Figure size 720x576 with 2 Axes>"
      ]
     },
     "metadata": {},
     "output_type": "display_data"
    }
   ],
   "source": [
    "plt.figure(figsize=(10,8))\n",
    "sns.set_style('white')\n",
    "sns.heatmap(correlations*100, annot=True, fmt ='.0f', mask=mask)"
   ]
  },
  {
   "cell_type": "markdown",
   "metadata": {},
   "source": [
    "<h3>Correlations in the rental properties</h3>"
   ]
  },
  {
   "cell_type": "code",
   "execution_count": 37,
   "metadata": {},
   "outputs": [],
   "source": [
    "rental_correlations = df_rental.loc[:, ~df_rental.columns.isin(['id'])].corr()"
   ]
  },
  {
   "cell_type": "code",
   "execution_count": 51,
   "metadata": {},
   "outputs": [],
   "source": [
    "rental_mask = np.zeros_like(rental_correlations, dtype=np.bool)\n",
    "rental_mask[np.triu_indices_from(rental_mask)] = True"
   ]
  },
  {
   "cell_type": "code",
   "execution_count": 54,
   "metadata": {},
   "outputs": [
    {
     "data": {
      "text/plain": [
       "<matplotlib.axes._subplots.AxesSubplot at 0x2b51be4e208>"
      ]
     },
     "execution_count": 54,
     "metadata": {},
     "output_type": "execute_result"
    },
    {
     "data": {
      "image/png": "[encoded data removed]",
      "text/plain": [
       "<Figure size 720x576 with 2 Axes>"
      ]
     },
     "metadata": {},
     "output_type": "display_data"
    }
   ],
   "source": [
    "plt.figure(figsize=(10,8))\n",
    "sns.set_style('white')\n",
    "sns.heatmap(rental_correlations*100, annot=True, fmt ='.0f', mask=rental_mask)"
   ]
  },
  {
   "cell_type": "markdown",
   "metadata": {},
   "source": [
    "<h3>Correlations in properties listed for sale</h3>"
   ]
  },
  {
   "cell_type": "code",
   "execution_count": 49,
   "metadata": {
    "jupyter": {
     "source_hidden": true
    }
   },
   "outputs": [],
   "source": [
    "sale_correlations = df_sale.loc[:, ~df_sale.columns.isin(['id'])].corr()"
   ]
  },
  {
   "cell_type": "code",
   "execution_count": 55,
   "metadata": {
    "jupyter": {
     "source_hidden": true
    }
   },
   "outputs": [],
   "source": [
    "sale_mask = np.zeros_like(sale_correlations, dtype=np.bool)\n",
    "sale_mask[np.triu_indices_from(mask)] = True"
   ]
  },
  {
   "cell_type": "code",
   "execution_count": 56,
   "metadata": {
    "jupyter": {
     "source_hidden": true
    }
   },
   "outputs": [
    {
     "data": {
      "text/plain": [
       "<matplotlib.axes._subplots.AxesSubplot at 0x2b51be4e708>"
      ]
     },
     "execution_count": 56,
     "metadata": {},
     "output_type": "execute_result"
    },
    {
     "data": {
      "image/png": "[encoded data removed]",
      "text/plain": [
       "<Figure size 720x576 with 2 Axes>"
      ]
     },
     "metadata": {},
     "output_type": "display_data"
    }
   ],
   "source": [
    "plt.figure(figsize=(10,8))\n",
    "sns.set_style('white')\n",
    "sns.heatmap(sale_correlations*100, annot=True, fmt ='.0f', mask=sale_mask)"
   ]
  },
  {
   "cell_type": "code",
   "execution_count": null,
   "metadata": {
    "jupyter": {
     "source_hidden": true
    }
   },
   "outputs": [],
   "source": [
    "# sns.heatmap(df.corr(), annot = True, annot_kws = {\"Size\": 50}, fmt =\".2f\", vmin = -1, vmax = 1)\n",
    "# plt.show()\n",
    "\n",
    "# # replace null values with zero\n",
    "# df.fillna({'price':0},  inplace=True)\n",
    "# df.loc[(df['category']=='For Sale')& (df['type']=='Land')].sort_values(by='price',ascending=False).head(20)\n",
    "# # df.loc[df['category'] == 'For Sale'].sort_values(by='price',ascending=False).tail()"
   ]
  }
 ],
 "metadata": {
  "kernelspec": {
   "display_name": "Python 3",
   "language": "python",
   "name": "python3"
  },
  "language_info": {
   "codemirror_mode": {
    "name": "ipython",
    "version": 3
   },
   "file_extension": ".py",
   "mimetype": "text/x-python",
   "name": "python",
   "nbconvert_exporter": "python",
   "pygments_lexer": "ipython3",
   "version": "3.7.6"
  }
 },
 "nbformat": 4,
 "nbformat_minor": 4
}
