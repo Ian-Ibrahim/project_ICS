{
 "cells": [
  {
   "cell_type": "code",
   "execution_count": 1,
   "metadata": {},
   "outputs": [],
   "source": [
    "\n",
    "import numpy as np\n",
    "import pandas as pd\n",
    "from matplotlib import pyplot as plt\n",
    "# display plots in the notebook\n",
    "%matplotlib inline \n",
    "import seaborn as sns\n",
    "import sklearn"
   ]
  },
  {
   "cell_type": "code",
   "execution_count": 5,
   "metadata": {},
   "outputs": [],
   "source": [
    "import matplotlib.dates as mdates"
   ]
  },
  {
   "cell_type": "code",
   "execution_count": 2,
   "metadata": {},
   "outputs": [],
   "source": [
    "from sklearn.linear_model import ElasticNet, Ridge, Lasso\n",
    "from sklearn.ensemble import RandomForestRegressor, GradientBoostingRegressor"
   ]
  },
  {
   "cell_type": "code",
   "execution_count": 3,
   "metadata": {},
   "outputs": [],
   "source": [
    "df=pd.read_csv('project_files/analytical_table.csv')"
   ]
  },
  {
   "cell_type": "code",
   "execution_count": 9,
   "metadata": {},
   "outputs": [
    {
     "data": {
      "text/plain": [
       "<bound method Series.unique of 0       2020-07-18 00:00:00\n",
       "1       2020-07-18 00:00:00\n",
       "2       2020-07-18 00:00:00\n",
       "3       2020-07-18 00:00:00\n",
       "4       2020-07-18 00:00:00\n",
       "               ...         \n",
       "6913    2022-06-16 11:55:28\n",
       "6914    2022-06-16 12:21:02\n",
       "6915    2022-06-16 12:23:53\n",
       "6916    2022-06-16 13:08:35\n",
       "6917    2022-06-16 14:54:29\n",
       "Name: listdate, Length: 6918, dtype: object>"
      ]
     },
     "execution_count": 9,
     "metadata": {},
     "output_type": "execute_result"
    }
   ],
   "source": [
    "# df.listdate.unique"
   ]
  },
  {
   "cell_type": "code",
   "execution_count": 4,
   "metadata": {},
   "outputs": [
    {
     "data": {
      "text/plain": [
       "id                                    int64\n",
       "price                               float64\n",
       "bedrooms                              int64\n",
       "bathrooms                             int64\n",
       "toilets                             float64\n",
       "furnished                             int64\n",
       "serviced                              int64\n",
       "shared                                int64\n",
       "parking                               int64\n",
       "listdate                             object\n",
       "pre_covid                             int64\n",
       "category_For Rent                     int64\n",
       "category_For Sale                     int64\n",
       "type_Apartment                        int64\n",
       "type_House                            int64\n",
       "sub_type_Bedsitter (Single Room)      int64\n",
       "sub_type_Block of Flats               int64\n",
       "sub_type_Detached Bungalow            int64\n",
       "sub_type_Detached Duplex              int64\n",
       "sub_type_Mini Flat                    int64\n",
       "sub_type_Missing                      int64\n",
       "sub_type_Semi-detached Bungalow       int64\n",
       "sub_type_Semi-detached Duplex         int64\n",
       "sub_type_Terraced Bungalow            int64\n",
       "sub_type_Terraced Duplex              int64\n",
       "sub_type_Townhouse                    int64\n",
       "state_Kajiado                         int64\n",
       "state_Kiambu                          int64\n",
       "state_Mombasa                         int64\n",
       "state_Nairobi                         int64\n",
       "locality_Bamburi                      int64\n",
       "locality_Embakasi                     int64\n",
       "locality_Juja                         int64\n",
       "locality_Kabete                       int64\n",
       "locality_Karen                        int64\n",
       "locality_Kasarani                     int64\n",
       "locality_Kikuyu                       int64\n",
       "locality_Kileleshwa                   int64\n",
       "locality_Kilimani                     int64\n",
       "locality_Kitengela                    int64\n",
       "locality_Kitisuru                     int64\n",
       "locality_Lavington                    int64\n",
       "locality_Mugumo-Ini (Langata)         int64\n",
       "locality_Nairobi Central              int64\n",
       "locality_Nairobi West                 int64\n",
       "locality_Ngong                        int64\n",
       "locality_Nyali                        int64\n",
       "locality_Ongata Rongai                int64\n",
       "locality_Parklands                    int64\n",
       "locality_Ruiru                        int64\n",
       "locality_Thika                        int64\n",
       "locality_Westlands                    int64\n",
       "two_and_two                           int64\n",
       "dtype: object"
      ]
     },
     "execution_count": 4,
     "metadata": {},
     "output_type": "execute_result"
    }
   ],
   "source": [
    "df.dtypes"
   ]
  },
  {
   "cell_type": "code",
   "execution_count": 5,
   "metadata": {},
   "outputs": [],
   "source": [
    "df['listdate']= pd.to_datetime(df['listdate'])"
   ]
  },
  {
   "cell_type": "code",
   "execution_count": 6,
   "metadata": {},
   "outputs": [
    {
     "data": {
      "text/plain": [
       "id                                           int64\n",
       "price                                      float64\n",
       "bedrooms                                     int64\n",
       "bathrooms                                    int64\n",
       "toilets                                    float64\n",
       "furnished                                    int64\n",
       "serviced                                     int64\n",
       "shared                                       int64\n",
       "parking                                      int64\n",
       "listdate                            datetime64[ns]\n",
       "pre_covid                                    int64\n",
       "category_For Rent                            int64\n",
       "category_For Sale                            int64\n",
       "type_Apartment                               int64\n",
       "type_House                                   int64\n",
       "sub_type_Bedsitter (Single Room)             int64\n",
       "sub_type_Block of Flats                      int64\n",
       "sub_type_Detached Bungalow                   int64\n",
       "sub_type_Detached Duplex                     int64\n",
       "sub_type_Mini Flat                           int64\n",
       "sub_type_Missing                             int64\n",
       "sub_type_Semi-detached Bungalow              int64\n",
       "sub_type_Semi-detached Duplex                int64\n",
       "sub_type_Terraced Bungalow                   int64\n",
       "sub_type_Terraced Duplex                     int64\n",
       "sub_type_Townhouse                           int64\n",
       "state_Kajiado                                int64\n",
       "state_Kiambu                                 int64\n",
       "state_Mombasa                                int64\n",
       "state_Nairobi                                int64\n",
       "locality_Bamburi                             int64\n",
       "locality_Embakasi                            int64\n",
       "locality_Juja                                int64\n",
       "locality_Kabete                              int64\n",
       "locality_Karen                               int64\n",
       "locality_Kasarani                            int64\n",
       "locality_Kikuyu                              int64\n",
       "locality_Kileleshwa                          int64\n",
       "locality_Kilimani                            int64\n",
       "locality_Kitengela                           int64\n",
       "locality_Kitisuru                            int64\n",
       "locality_Lavington                           int64\n",
       "locality_Mugumo-Ini (Langata)                int64\n",
       "locality_Nairobi Central                     int64\n",
       "locality_Nairobi West                        int64\n",
       "locality_Ngong                               int64\n",
       "locality_Nyali                               int64\n",
       "locality_Ongata Rongai                       int64\n",
       "locality_Parklands                           int64\n",
       "locality_Ruiru                               int64\n",
       "locality_Thika                               int64\n",
       "locality_Westlands                           int64\n",
       "two_and_two                                  int64\n",
       "dtype: object"
      ]
     },
     "execution_count": 6,
     "metadata": {},
     "output_type": "execute_result"
    }
   ],
   "source": [
    "df.dtypes"
   ]
  },
  {
   "cell_type": "code",
   "execution_count": 7,
   "metadata": {},
   "outputs": [],
   "source": [
    "#split the dataset\n",
    "from sklearn.model_selection import train_test_split"
   ]
  },
  {
   "cell_type": "code",
   "execution_count": 8,
   "metadata": {},
   "outputs": [],
   "source": [
    "import matplotlib.dates as mdates"
   ]
  },
  {
   "cell_type": "code",
   "execution_count": 9,
   "metadata": {},
   "outputs": [],
   "source": [
    "df=df.drop('listdate',axis=1)"
   ]
  },
  {
   "cell_type": "code",
   "execution_count": 10,
   "metadata": {},
   "outputs": [],
   "source": [
    "#object for target variable\n",
    "y = df.price\n",
    "\n",
    "#  input features object\n",
    "X = df.drop('price', axis = 1)"
   ]
  },
  {
   "cell_type": "code",
   "execution_count": 83,
   "metadata": {},
   "outputs": [],
   "source": [
    "# Split X and y into train and test sets\n",
    "X_train, X_test, y_train, y_test = train_test_split(X, y, test_size= 0.2,\\\n",
    "                                                    random_state = 376)"
   ]
  },
  {
   "cell_type": "code",
   "execution_count": 84,
   "metadata": {},
   "outputs": [
    {
     "name": "stdout",
     "output_type": "stream",
     "text": [
      "4612 2306 4612 2306\n"
     ]
    }
   ],
   "source": [
    "print( len(X_train), len(X_test), len(y_train), len(y_test) )"
   ]
  },
  {
   "cell_type": "code",
   "execution_count": 85,
   "metadata": {},
   "outputs": [
    {
     "data": {
      "text/html": [
       "<div>\n",
       "<style scoped>\n",
       "    .dataframe tbody tr th:only-of-type {\n",
       "        vertical-align: middle;\n",
       "    }\n",
       "\n",
       "    .dataframe tbody tr th {\n",
       "        vertical-align: top;\n",
       "    }\n",
       "\n",
       "    .dataframe thead th {\n",
       "        text-align: right;\n",
       "    }\n",
       "</style>\n",
       "<table border=\"1\" class=\"dataframe\">\n",
       "  <thead>\n",
       "    <tr style=\"text-align: right;\">\n",
       "      <th></th>\n",
       "      <th>id</th>\n",
       "      <th>bedrooms</th>\n",
       "      <th>bathrooms</th>\n",
       "      <th>toilets</th>\n",
       "      <th>furnished</th>\n",
       "      <th>serviced</th>\n",
       "      <th>shared</th>\n",
       "      <th>parking</th>\n",
       "      <th>pre_covid</th>\n",
       "      <th>category_For Rent</th>\n",
       "      <th>...</th>\n",
       "      <th>locality_Nairobi Central</th>\n",
       "      <th>locality_Nairobi West</th>\n",
       "      <th>locality_Ngong</th>\n",
       "      <th>locality_Nyali</th>\n",
       "      <th>locality_Ongata Rongai</th>\n",
       "      <th>locality_Parklands</th>\n",
       "      <th>locality_Ruiru</th>\n",
       "      <th>locality_Thika</th>\n",
       "      <th>locality_Westlands</th>\n",
       "      <th>two_and_two</th>\n",
       "    </tr>\n",
       "  </thead>\n",
       "  <tbody>\n",
       "    <tr>\n",
       "      <th>count</th>\n",
       "      <td>4612.000000</td>\n",
       "      <td>4612.000000</td>\n",
       "      <td>4612.000000</td>\n",
       "      <td>4612.000000</td>\n",
       "      <td>4612.000000</td>\n",
       "      <td>4612.000000</td>\n",
       "      <td>4612.000000</td>\n",
       "      <td>4612.000000</td>\n",
       "      <td>4612.000000</td>\n",
       "      <td>4612.000000</td>\n",
       "      <td>...</td>\n",
       "      <td>4612.000000</td>\n",
       "      <td>4612.000000</td>\n",
       "      <td>4612.000000</td>\n",
       "      <td>4612.000000</td>\n",
       "      <td>4612.000000</td>\n",
       "      <td>4612.000000</td>\n",
       "      <td>4612.000000</td>\n",
       "      <td>4612.000000</td>\n",
       "      <td>4612.000000</td>\n",
       "      <td>4612.000000</td>\n",
       "    </tr>\n",
       "    <tr>\n",
       "      <th>mean</th>\n",
       "      <td>8841.350173</td>\n",
       "      <td>3.097788</td>\n",
       "      <td>3.001951</td>\n",
       "      <td>1.824805</td>\n",
       "      <td>0.057892</td>\n",
       "      <td>0.064614</td>\n",
       "      <td>0.007589</td>\n",
       "      <td>1.326973</td>\n",
       "      <td>0.371422</td>\n",
       "      <td>0.516696</td>\n",
       "      <td>...</td>\n",
       "      <td>0.024284</td>\n",
       "      <td>0.020815</td>\n",
       "      <td>0.038595</td>\n",
       "      <td>0.070252</td>\n",
       "      <td>0.026886</td>\n",
       "      <td>0.042064</td>\n",
       "      <td>0.048135</td>\n",
       "      <td>0.024284</td>\n",
       "      <td>0.198179</td>\n",
       "      <td>0.188422</td>\n",
       "    </tr>\n",
       "    <tr>\n",
       "      <th>std</th>\n",
       "      <td>4690.276695</td>\n",
       "      <td>1.711893</td>\n",
       "      <td>1.749368</td>\n",
       "      <td>1.960046</td>\n",
       "      <td>0.233565</td>\n",
       "      <td>0.245870</td>\n",
       "      <td>0.086793</td>\n",
       "      <td>1.508231</td>\n",
       "      <td>0.483237</td>\n",
       "      <td>0.499775</td>\n",
       "      <td>...</td>\n",
       "      <td>0.153948</td>\n",
       "      <td>0.142781</td>\n",
       "      <td>0.192649</td>\n",
       "      <td>0.255598</td>\n",
       "      <td>0.161769</td>\n",
       "      <td>0.200757</td>\n",
       "      <td>0.214075</td>\n",
       "      <td>0.153948</td>\n",
       "      <td>0.398671</td>\n",
       "      <td>0.391091</td>\n",
       "    </tr>\n",
       "    <tr>\n",
       "      <th>min</th>\n",
       "      <td>7.000000</td>\n",
       "      <td>0.000000</td>\n",
       "      <td>0.000000</td>\n",
       "      <td>0.000000</td>\n",
       "      <td>0.000000</td>\n",
       "      <td>0.000000</td>\n",
       "      <td>0.000000</td>\n",
       "      <td>0.000000</td>\n",
       "      <td>0.000000</td>\n",
       "      <td>0.000000</td>\n",
       "      <td>...</td>\n",
       "      <td>0.000000</td>\n",
       "      <td>0.000000</td>\n",
       "      <td>0.000000</td>\n",
       "      <td>0.000000</td>\n",
       "      <td>0.000000</td>\n",
       "      <td>0.000000</td>\n",
       "      <td>0.000000</td>\n",
       "      <td>0.000000</td>\n",
       "      <td>0.000000</td>\n",
       "      <td>0.000000</td>\n",
       "    </tr>\n",
       "    <tr>\n",
       "      <th>25%</th>\n",
       "      <td>5648.500000</td>\n",
       "      <td>2.000000</td>\n",
       "      <td>2.000000</td>\n",
       "      <td>0.000000</td>\n",
       "      <td>0.000000</td>\n",
       "      <td>0.000000</td>\n",
       "      <td>0.000000</td>\n",
       "      <td>0.000000</td>\n",
       "      <td>0.000000</td>\n",
       "      <td>0.000000</td>\n",
       "      <td>...</td>\n",
       "      <td>0.000000</td>\n",
       "      <td>0.000000</td>\n",
       "      <td>0.000000</td>\n",
       "      <td>0.000000</td>\n",
       "      <td>0.000000</td>\n",
       "      <td>0.000000</td>\n",
       "      <td>0.000000</td>\n",
       "      <td>0.000000</td>\n",
       "      <td>0.000000</td>\n",
       "      <td>0.000000</td>\n",
       "    </tr>\n",
       "    <tr>\n",
       "      <th>50%</th>\n",
       "      <td>9650.500000</td>\n",
       "      <td>3.000000</td>\n",
       "      <td>3.000000</td>\n",
       "      <td>1.000000</td>\n",
       "      <td>0.000000</td>\n",
       "      <td>0.000000</td>\n",
       "      <td>0.000000</td>\n",
       "      <td>1.000000</td>\n",
       "      <td>0.000000</td>\n",
       "      <td>1.000000</td>\n",
       "      <td>...</td>\n",
       "      <td>0.000000</td>\n",
       "      <td>0.000000</td>\n",
       "      <td>0.000000</td>\n",
       "      <td>0.000000</td>\n",
       "      <td>0.000000</td>\n",
       "      <td>0.000000</td>\n",
       "      <td>0.000000</td>\n",
       "      <td>0.000000</td>\n",
       "      <td>0.000000</td>\n",
       "      <td>0.000000</td>\n",
       "    </tr>\n",
       "    <tr>\n",
       "      <th>75%</th>\n",
       "      <td>12646.250000</td>\n",
       "      <td>4.000000</td>\n",
       "      <td>4.000000</td>\n",
       "      <td>3.000000</td>\n",
       "      <td>0.000000</td>\n",
       "      <td>0.000000</td>\n",
       "      <td>0.000000</td>\n",
       "      <td>2.000000</td>\n",
       "      <td>1.000000</td>\n",
       "      <td>1.000000</td>\n",
       "      <td>...</td>\n",
       "      <td>0.000000</td>\n",
       "      <td>0.000000</td>\n",
       "      <td>0.000000</td>\n",
       "      <td>0.000000</td>\n",
       "      <td>0.000000</td>\n",
       "      <td>0.000000</td>\n",
       "      <td>0.000000</td>\n",
       "      <td>0.000000</td>\n",
       "      <td>0.000000</td>\n",
       "      <td>0.000000</td>\n",
       "    </tr>\n",
       "    <tr>\n",
       "      <th>max</th>\n",
       "      <td>16123.000000</td>\n",
       "      <td>50.000000</td>\n",
       "      <td>54.000000</td>\n",
       "      <td>33.000000</td>\n",
       "      <td>1.000000</td>\n",
       "      <td>1.000000</td>\n",
       "      <td>1.000000</td>\n",
       "      <td>22.000000</td>\n",
       "      <td>1.000000</td>\n",
       "      <td>1.000000</td>\n",
       "      <td>...</td>\n",
       "      <td>1.000000</td>\n",
       "      <td>1.000000</td>\n",
       "      <td>1.000000</td>\n",
       "      <td>1.000000</td>\n",
       "      <td>1.000000</td>\n",
       "      <td>1.000000</td>\n",
       "      <td>1.000000</td>\n",
       "      <td>1.000000</td>\n",
       "      <td>1.000000</td>\n",
       "      <td>1.000000</td>\n",
       "    </tr>\n",
       "  </tbody>\n",
       "</table>\n",
       "<p>8 rows × 51 columns</p>\n",
       "</div>"
      ],
      "text/plain": [
       "                 id     bedrooms    bathrooms      toilets    furnished  \\\n",
       "count   4612.000000  4612.000000  4612.000000  4612.000000  4612.000000   \n",
       "mean    8841.350173     3.097788     3.001951     1.824805     0.057892   \n",
       "std     4690.276695     1.711893     1.749368     1.960046     0.233565   \n",
       "min        7.000000     0.000000     0.000000     0.000000     0.000000   \n",
       "25%     5648.500000     2.000000     2.000000     0.000000     0.000000   \n",
       "50%     9650.500000     3.000000     3.000000     1.000000     0.000000   \n",
       "75%    12646.250000     4.000000     4.000000     3.000000     0.000000   \n",
       "max    16123.000000    50.000000    54.000000    33.000000     1.000000   \n",
       "\n",
       "          serviced       shared      parking    pre_covid  category_For Rent  \\\n",
       "count  4612.000000  4612.000000  4612.000000  4612.000000        4612.000000   \n",
       "mean      0.064614     0.007589     1.326973     0.371422           0.516696   \n",
       "std       0.245870     0.086793     1.508231     0.483237           0.499775   \n",
       "min       0.000000     0.000000     0.000000     0.000000           0.000000   \n",
       "25%       0.000000     0.000000     0.000000     0.000000           0.000000   \n",
       "50%       0.000000     0.000000     1.000000     0.000000           1.000000   \n",
       "75%       0.000000     0.000000     2.000000     1.000000           1.000000   \n",
       "max       1.000000     1.000000    22.000000     1.000000           1.000000   \n",
       "\n",
       "       ...  locality_Nairobi Central  locality_Nairobi West  locality_Ngong  \\\n",
       "count  ...               4612.000000            4612.000000     4612.000000   \n",
       "mean   ...                  0.024284               0.020815        0.038595   \n",
       "std    ...                  0.153948               0.142781        0.192649   \n",
       "min    ...                  0.000000               0.000000        0.000000   \n",
       "25%    ...                  0.000000               0.000000        0.000000   \n",
       "50%    ...                  0.000000               0.000000        0.000000   \n",
       "75%    ...                  0.000000               0.000000        0.000000   \n",
       "max    ...                  1.000000               1.000000        1.000000   \n",
       "\n",
       "       locality_Nyali  locality_Ongata Rongai  locality_Parklands  \\\n",
       "count     4612.000000             4612.000000         4612.000000   \n",
       "mean         0.070252                0.026886            0.042064   \n",
       "std          0.255598                0.161769            0.200757   \n",
       "min          0.000000                0.000000            0.000000   \n",
       "25%          0.000000                0.000000            0.000000   \n",
       "50%          0.000000                0.000000            0.000000   \n",
       "75%          0.000000                0.000000            0.000000   \n",
       "max          1.000000                1.000000            1.000000   \n",
       "\n",
       "       locality_Ruiru  locality_Thika  locality_Westlands  two_and_two  \n",
       "count     4612.000000     4612.000000         4612.000000  4612.000000  \n",
       "mean         0.048135        0.024284            0.198179     0.188422  \n",
       "std          0.214075        0.153948            0.398671     0.391091  \n",
       "min          0.000000        0.000000            0.000000     0.000000  \n",
       "25%          0.000000        0.000000            0.000000     0.000000  \n",
       "50%          0.000000        0.000000            0.000000     0.000000  \n",
       "75%          0.000000        0.000000            0.000000     0.000000  \n",
       "max          1.000000        1.000000            1.000000     1.000000  \n",
       "\n",
       "[8 rows x 51 columns]"
      ]
     },
     "execution_count": 85,
     "metadata": {},
     "output_type": "execute_result"
    }
   ],
   "source": [
    "X_train.describe()"
   ]
  },
  {
   "cell_type": "code",
   "execution_count": 86,
   "metadata": {},
   "outputs": [],
   "source": [
    "# Standardize X_train\n",
    "X_train_new = (X_train - X_train.mean())/X_train.std()"
   ]
  },
  {
   "cell_type": "code",
   "execution_count": 87,
   "metadata": {},
   "outputs": [],
   "source": [
    "# Function for creating model pipelines\n",
    "from sklearn.pipeline import make_pipeline"
   ]
  },
  {
   "cell_type": "code",
   "execution_count": 88,
   "metadata": {},
   "outputs": [],
   "source": [
    "# For standardization\n",
    "from sklearn.preprocessing import StandardScaler"
   ]
  },
  {
   "cell_type": "code",
   "execution_count": 89,
   "metadata": {},
   "outputs": [],
   "source": [
    "# Create pipelines dictionary\n",
    "pipelines =  {\n",
    "            'lasso': make_pipeline(StandardScaler(), Lasso(random_state=192)),\n",
    "            'ridge': make_pipeline(StandardScaler(), Ridge(random_state=192)),\n",
    "            'enet': make_pipeline(StandardScaler(), ElasticNet(random_state=192)),\n",
    "            'rf': make_pipeline(StandardScaler(), RandomForestRegressor(random_state=192)),\n",
    "            'gb': make_pipeline(StandardScaler(), GradientBoostingRegressor(random_state=192))\n",
    "                }"
   ]
  },
  {
   "cell_type": "code",
   "execution_count": 90,
   "metadata": {},
   "outputs": [
    {
     "name": "stdout",
     "output_type": "stream",
     "text": [
      "lasso <class 'sklearn.pipeline.Pipeline'>\n",
      "ridge <class 'sklearn.pipeline.Pipeline'>\n",
      "enet <class 'sklearn.pipeline.Pipeline'>\n",
      "rf <class 'sklearn.pipeline.Pipeline'>\n",
      "gb <class 'sklearn.pipeline.Pipeline'>\n"
     ]
    }
   ],
   "source": [
    "for key, value in pipelines.items():\n",
    "    print( key, type(value) )"
   ]
  },
  {
   "cell_type": "code",
   "execution_count": 91,
   "metadata": {},
   "outputs": [
    {
     "data": {
      "text/plain": [
       "{'memory': None,\n",
       " 'steps': [('standardscaler',\n",
       "   StandardScaler(copy=True, with_mean=True, with_std=True)),\n",
       "  ('lasso',\n",
       "   Lasso(alpha=1.0, copy_X=True, fit_intercept=True, max_iter=1000,\n",
       "         normalize=False, positive=False, precompute=False, random_state=192,\n",
       "         selection='cyclic', tol=0.0001, warm_start=False))],\n",
       " 'verbose': False,\n",
       " 'standardscaler': StandardScaler(copy=True, with_mean=True, with_std=True),\n",
       " 'lasso': Lasso(alpha=1.0, copy_X=True, fit_intercept=True, max_iter=1000,\n",
       "       normalize=False, positive=False, precompute=False, random_state=192,\n",
       "       selection='cyclic', tol=0.0001, warm_start=False),\n",
       " 'standardscaler__copy': True,\n",
       " 'standardscaler__with_mean': True,\n",
       " 'standardscaler__with_std': True,\n",
       " 'lasso__alpha': 1.0,\n",
       " 'lasso__copy_X': True,\n",
       " 'lasso__fit_intercept': True,\n",
       " 'lasso__max_iter': 1000,\n",
       " 'lasso__normalize': False,\n",
       " 'lasso__positive': False,\n",
       " 'lasso__precompute': False,\n",
       " 'lasso__random_state': 192,\n",
       " 'lasso__selection': 'cyclic',\n",
       " 'lasso__tol': 0.0001,\n",
       " 'lasso__warm_start': False}"
      ]
     },
     "execution_count": 91,
     "metadata": {},
     "output_type": "execute_result"
    }
   ],
   "source": [
    "# List tuneable hyperparameters of our Lasso pipeline\n",
    "pipelines['lasso'].get_params()"
   ]
  },
  {
   "cell_type": "code",
   "execution_count": 92,
   "metadata": {},
   "outputs": [],
   "source": [
    "# Lasso hyperparameters\n",
    "lasso_hyperparameters = {'lasso__alpha':[0.001, 0.005, 0.01, 0.05, 0.1, 0.5, 1, 5, 10] }\n",
    "\n",
    "# Ridge hyperparameters\n",
    "ridge_hyperparameters = {'ridge__alpha': [0.001, 0.005, 0.01, 0.05, 0.1, 0.5, 1, 5, 10] }"
   ]
  },
  {
   "cell_type": "code",
   "execution_count": 93,
   "metadata": {},
   "outputs": [],
   "source": [
    "# Elastic Net hyperparameters\n",
    "enet_hyperparameters = {\n",
    "    'elasticnet__alpha': [0.001, 0.005, 0.01, 0.05, 0.1, 0.5, 1, 5, 10],\n",
    "    'elasticnet__l1_ratio': [0.1, 0.3, 0.5, 0.7, 0.9]\n",
    "}"
   ]
  },
  {
   "cell_type": "code",
   "execution_count": 94,
   "metadata": {},
   "outputs": [],
   "source": [
    "# Random forest hyperparameters\n",
    "rf_hyperparameters  = {\n",
    "    'randomforestregressor__n_estimators': [100,200],\n",
    "    'randomforestregressor__max_features': ['auto', 'sqrt', 0.33]\n",
    "}"
   ]
  },
  {
   "cell_type": "code",
   "execution_count": 95,
   "metadata": {},
   "outputs": [],
   "source": [
    "gb_hyperparameters = {\n",
    "            'gradientboostingregressor__n_estimators' : [100,200],\n",
    "            'gradientboostingregressor__learning_rate': [0.05, 0.1,0.2],\n",
    "            'gradientboostingregressor__max_depth': [1,3,5]\n",
    "}"
   ]
  },
  {
   "cell_type": "code",
   "execution_count": 96,
   "metadata": {},
   "outputs": [],
   "source": [
    "# Create hyperparameters dictionary\n",
    "hyperparameters = {\n",
    "    'rf': rf_hyperparameters,\n",
    "    'gb': gb_hyperparameters,\n",
    "    'lasso': lasso_hyperparameters,\n",
    "    'ridge': ridge_hyperparameters,\n",
    "    'enet': enet_hyperparameters\n",
    "}"
   ]
  },
  {
   "cell_type": "code",
   "execution_count": 97,
   "metadata": {},
   "outputs": [
    {
     "name": "stdout",
     "output_type": "stream",
     "text": [
      "enet was found in hyperparameters, and it is a grid.\n",
      "gb was found in hyperparameters, and it is a grid.\n",
      "ridge was found in hyperparameters, and it is a grid.\n",
      "rf was found in hyperparameters, and it is a grid.\n",
      "lasso was found in hyperparameters, and it is a grid.\n"
     ]
    }
   ],
   "source": [
    "for key in ['enet', 'gb', 'ridge', 'rf', 'lasso']:\n",
    "    if key in hyperparameters:\n",
    "        if type(hyperparameters[key]) is dict:\n",
    "            print( key, 'was found in hyperparameters, and it is a grid.' )\n",
    "        else:\n",
    "            print( key, 'was found in hyperparameters, but it is not a grid.' )\n",
    "    else:\n",
    "        print( key, 'was not found in hyperparameters')\n"
   ]
  },
  {
   "cell_type": "code",
   "execution_count": 98,
   "metadata": {},
   "outputs": [],
   "source": [
    "#helper for cross validation\n",
    "from sklearn.model_selection import GridSearchCV"
   ]
  },
  {
   "cell_type": "code",
   "execution_count": 99,
   "metadata": {},
   "outputs": [
    {
     "name": "stderr",
     "output_type": "stream",
     "text": [
      "C:\\Users\\ianok\\anaconda3\\lib\\site-packages\\sklearn\\linear_model\\_coordinate_descent.py:476: ConvergenceWarning: Objective did not converge. You might want to increase the number of iterations. Duality gap: 1.3188391122359296e+16, tolerance: 170677800558513.53\n",
      "  positive)\n"
     ]
    },
    {
     "name": "stdout",
     "output_type": "stream",
     "text": [
      "lasso has been fitted.\n",
      "ridge has been fitted.\n",
      "enet has been fitted.\n",
      "rf has been fitted.\n",
      "gb has been fitted.\n"
     ]
    }
   ],
   "source": [
    "# Create empty dictionary called fitted_models\n",
    "fitted_models = {}\n",
    "\n",
    "# Loop through model pipelines, tuning each one and saving it to fitted_models\n",
    "for name, pipeline in pipelines.items():\n",
    "    # Create cross-validation object from pipeline and hyperparameters\n",
    "    model = GridSearchCV(pipeline, hyperparameters[name], cv = 10, n_jobs=-1)\n",
    "    \n",
    "    # Fit model on X_train, y_train\n",
    "    model.fit(X_train, y_train)\n",
    "    \n",
    "    # Store model in fitted_models[name] \n",
    "    fitted_models[name] = model\n",
    "    \n",
    "    # Print '{name} has been fitted'\n",
    "    print(name, 'has been fitted.')"
   ]
  },
  {
   "cell_type": "code",
   "execution_count": 100,
   "metadata": {},
   "outputs": [
    {
     "name": "stdout",
     "output_type": "stream",
     "text": [
      "lasso <class 'sklearn.model_selection._search.GridSearchCV'>\n",
      "ridge <class 'sklearn.model_selection._search.GridSearchCV'>\n",
      "enet <class 'sklearn.model_selection._search.GridSearchCV'>\n",
      "rf <class 'sklearn.model_selection._search.GridSearchCV'>\n",
      "gb <class 'sklearn.model_selection._search.GridSearchCV'>\n"
     ]
    }
   ],
   "source": [
    "# Check that we have 5 cross-validation objects\n",
    "for key, value in fitted_models.items():\n",
    "    print( key, type(value) )"
   ]
  },
  {
   "cell_type": "code",
   "execution_count": 101,
   "metadata": {},
   "outputs": [
    {
     "name": "stdout",
     "output_type": "stream",
     "text": [
      "lasso has been fitted.\n",
      "ridge has been fitted.\n",
      "enet has been fitted.\n",
      "rf has been fitted.\n",
      "gb has been fitted.\n"
     ]
    }
   ],
   "source": [
    "from sklearn.exceptions import NotFittedError\n",
    "\n",
    "for name, model in fitted_models.items():\n",
    "    try:\n",
    "        pred = model.predict(X_test)\n",
    "        print(name, 'has been fitted.')\n",
    "    except NotFittedError as e:\n",
    "        print(repr(e))"
   ]
  },
  {
   "cell_type": "code",
   "execution_count": 102,
   "metadata": {},
   "outputs": [
    {
     "name": "stdout",
     "output_type": "stream",
     "text": [
      "lasso 0.5791322554834939\n",
      "ridge 0.579192503988575\n",
      "enet 0.5795478421581622\n",
      "rf 0.8196943673467706\n",
      "gb 0.8316034887652071\n"
     ]
    }
   ],
   "source": [
    "# Display best_score_ for each fitted model\n",
    "for name, model in fitted_models.items():\n",
    "    print(name, model.best_score_)"
   ]
  },
  {
   "cell_type": "code",
   "execution_count": 73,
   "metadata": {},
   "outputs": [],
   "source": [
    "# Import r2_score and mean_absolute_error functions\n",
    "from sklearn.metrics import r2_score, mean_absolute_error,mean_squared_error\n",
    "\t"
   ]
  },
  {
   "cell_type": "code",
   "execution_count": 77,
   "metadata": {},
   "outputs": [
    {
     "name": "stdout",
     "output_type": "stream",
     "text": [
      "lasso\n",
      "--------\n",
      "R^2: 0.5954183208275001\n",
      "MSE: 166910741458402.62\n",
      "MAE:  8960768.43865641\n",
      "\n",
      "\n",
      "ridge\n",
      "--------\n",
      "R^2: 0.5953817527033554\n",
      "MSE: 166925827689512.34\n",
      "MAE:  8956047.089761192\n",
      "\n",
      "\n",
      "enet\n",
      "--------\n",
      "R^2: 0.5943647156422461\n",
      "MSE: 167345407761224.0\n",
      "MAE:  8877089.282678992\n",
      "\n",
      "\n",
      "rf\n",
      "--------\n",
      "R^2: 0.842845549745634\n",
      "MSE: 64834289751068.99\n",
      "MAE:  3492953.8774895635\n",
      "\n",
      "\n",
      "gb\n",
      "--------\n",
      "R^2: 0.8317933210473274\n",
      "MSE: 69393902263863.125\n",
      "MAE:  3908050.4372006524\n",
      "\n",
      "\n"
     ]
    }
   ],
   "source": [
    "# Code here\n",
    "for name, model in fitted_models.items():\n",
    "    print(name)\n",
    "    print('--------')\n",
    "    pred = model.predict(X_test)\n",
    "    print('R^2:', r2_score(y_test, pred))\n",
    "    print('MSE:', mean_squared_error(y_test, pred))\n",
    "    print('MAE: ', mean_absolute_error(y_test, pred))\n",
    "    print('\\n')"
   ]
  },
  {
   "cell_type": "code",
   "execution_count": 103,
   "metadata": {},
   "outputs": [
    {
     "data": {
      "image/png": "[encoded data removed]",
      "text/plain": [
       "<Figure size 432x288 with 1 Axes>"
      ]
     },
     "metadata": {
      "needs_background": "light"
     },
     "output_type": "display_data"
    },
    {
     "data": {
      "image/png": "[encoded data removed]",
      "text/plain": [
       "<Figure size 432x288 with 1 Axes>"
      ]
     },
     "metadata": {
      "needs_background": "light"
     },
     "output_type": "display_data"
    },
    {
     "data": {
      "image/png": "[encoded data removed]",
      "text/plain": [
       "<Figure size 432x288 with 1 Axes>"
      ]
     },
     "metadata": {
      "needs_background": "light"
     },
     "output_type": "display_data"
    },
    {
     "data": {
      "image/png": "[encoded data removed]",
      "text/plain": [
       "<Figure size 432x288 with 1 Axes>"
      ]
     },
     "metadata": {
      "needs_background": "light"
     },
     "output_type": "display_data"
    },
    {
     "data": {
      "image/png": "[encoded data removed]",
      "text/plain": [
       "<Figure size 432x288 with 1 Axes>"
      ]
     },
     "metadata": {
      "needs_background": "light"
     },
     "output_type": "display_data"
    }
   ],
   "source": [
    "# Code here\n",
    "for name, model in fitted_models.items():\n",
    "    pred = fitted_models[name].predict(X_test)\n",
    "    plt.scatter(pred, y_test)\n",
    "    plt.title(name)\n",
    "    plt.xlabel('predicted')\n",
    "    plt.ylabel('actual')\n",
    "    plt.show()"
   ]
  }
 ],
 "metadata": {
  "kernelspec": {
   "display_name": "Python 3",
   "language": "python",
   "name": "python3"
  },
  "language_info": {
   "codemirror_mode": {
    "name": "ipython",
    "version": 3
   },
   "file_extension": ".py",
   "mimetype": "text/x-python",
   "name": "python",
   "nbconvert_exporter": "python",
   "pygments_lexer": "ipython3",
   "version": "3.7.6"
  }
 },
 "nbformat": 4,
 "nbformat_minor": 4
}
