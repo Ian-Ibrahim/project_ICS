{
 "cells": [
  {
   "cell_type": "markdown",
   "metadata": {},
   "source": [
    "<h1>Data cleaning</h1>\n",
    "<p>In this module we will:</p>\n",
    "<ul>\n",
    "    <li>Remove unwanted outliers</li>\n",
    "    <li>Remove unwanted observations</li>\n",
    "    <li>Label missing categorical data</li>\n",
    "    <li>Drop unwanted outliers</li>\n",
    "    <li>Flag and fill missing numerical data</li>\n",
    "</ul>"
   ]
  },
  {
   "cell_type": "code",
   "execution_count": 2,
   "metadata": {},
   "outputs": [],
   "source": [
    "# import libraries\n",
    "import numpy as np\n",
    "import pandas as pd\n",
    "from matplotlib import pyplot as plt\n",
    "%matplotlib inline \n",
    "import seaborn as sns"
   ]
  },
  {
   "cell_type": "code",
   "execution_count": 3,
   "metadata": {},
   "outputs": [],
   "source": [
    "#import dataset\n",
    "df=pd.read_csv(\"project_files/kenya_listings.csv\")"
   ]
  },
  {
   "cell_type": "markdown",
   "metadata": {},
   "source": [
    "<p>Removing unwanted observations</p>\n",
    "<p>Checking duplicate valuess</p>"
   ]
  },
  {
   "cell_type": "code",
   "execution_count": 8,
   "metadata": {},
   "outputs": [
    {
     "data": {
      "text/plain": [
       "(16117, 17)"
      ]
     },
     "execution_count": 8,
     "metadata": {},
     "output_type": "execute_result"
    }
   ],
   "source": [
    "df=df.drop_duplicates()\n",
    "df.shape"
   ]
  },
  {
   "cell_type": "code",
   "execution_count": 9,
   "metadata": {},
   "outputs": [
    {
     "data": {
      "text/plain": [
       "id                   int64\n",
       "price              float64\n",
       "price_qualifier     object\n",
       "bedrooms             int64\n",
       "bathrooms            int64\n",
       "toilets            float64\n",
       "furnished            int64\n",
       "serviced             int64\n",
       "shared               int64\n",
       "parking              int64\n",
       "category            object\n",
       "type                object\n",
       "sub_type            object\n",
       "state               object\n",
       "locality            object\n",
       "sub_locality        object\n",
       "listdate            object\n",
       "dtype: object"
      ]
     },
     "execution_count": 9,
     "metadata": {},
     "output_type": "execute_result"
    }
   ],
   "source": [
    "df.dtypes"
   ]
  },
  {
   "cell_type": "code",
   "execution_count": 11,
   "metadata": {},
   "outputs": [
    {
     "data": {
      "text/plain": [
       "id                     0\n",
       "price                  3\n",
       "price_qualifier     8870\n",
       "bedrooms               0\n",
       "bathrooms              0\n",
       "toilets            10028\n",
       "furnished              0\n",
       "serviced               0\n",
       "shared                 0\n",
       "parking                0\n",
       "category               0\n",
       "type                   0\n",
       "sub_type            9817\n",
       "state                  0\n",
       "locality               6\n",
       "sub_locality       15071\n",
       "listdate               0\n",
       "dtype: int64"
      ]
     },
     "execution_count": 11,
     "metadata": {},
     "output_type": "execute_result"
    }
   ],
   "source": [
    "df.isnull().sum()"
   ]
  },
  {
   "cell_type": "code",
   "execution_count": 20,
   "metadata": {},
   "outputs": [
    {
     "data": {
      "text/plain": [
       "array([0.000e+00, 5.000e+00, 3.000e+00, 2.000e+00, 4.000e+00, 6.000e+00,\n",
       "       1.000e+00, 1.000e+01, 7.000e+00, 2.200e+01, 3.300e+01, 9.000e+00,\n",
       "       8.000e+00, 8.000e+01, 1.500e+01, 1.200e+01, 1.000e+02, 1.101e+03,\n",
       "       1.100e+01, 1.600e+01, 2.300e+01])"
      ]
     },
     "execution_count": 20,
     "metadata": {},
     "output_type": "execute_result"
    }
   ],
   "source": [
    "# Display unique values of toilet\n",
    "df['toilets'].unique()"
   ]
  },
  {
   "cell_type": "code",
   "execution_count": 16,
   "metadata": {},
   "outputs": [],
   "source": [
    "# Missing toilet values should be 0\n",
    "df['toilets'] = df['toilets'].fillna(0)"
   ]
  },
  {
   "cell_type": "code",
   "execution_count": 22,
   "metadata": {},
   "outputs": [],
   "source": [
    "df['price'] = df['price'].fillna(0)"
   ]
  },
  {
   "cell_type": "code",
   "execution_count": null,
   "metadata": {},
   "outputs": [],
   "source": []
  }
 ],
 "metadata": {
  "kernelspec": {
   "display_name": "Python 3",
   "language": "python",
   "name": "python3"
  },
  "language_info": {
   "codemirror_mode": {
    "name": "ipython",
    "version": 3
   },
   "file_extension": ".py",
   "mimetype": "text/x-python",
   "name": "python",
   "nbconvert_exporter": "python",
   "pygments_lexer": "ipython3",
   "version": "3.7.6"
  }
 },
 "nbformat": 4,
 "nbformat_minor": 4
}
