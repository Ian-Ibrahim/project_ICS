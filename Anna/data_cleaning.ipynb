{
 "cells": [
  {
   "cell_type": "markdown",
   "metadata": {},
   "source": [
    "<h1>Data cleaning</h1>\n",
    "<p>In this module we will:</p>\n",
    "<ul>\n",
    "    <li>Remove unwanted outliers</li>\n",
    "    <li>Remove unwanted observations</li>\n",
    "    <li>Label missing categorical data</li>\n",
    "    <li>Drop unwanted outliers</li>\n",
    "    <li>Flag and fill missing numerical data</li>\n",
    "</ul>"
   ]
  },
  {
   "cell_type": "code",
   "execution_count": 2,
   "metadata": {},
   "outputs": [],
   "source": [
    "# import libraries\n",
    "import numpy as np\n",
    "import pandas as pd\n",
    "from matplotlib import pyplot as plt\n",
    "%matplotlib inline \n",
    "import seaborn as sns"
   ]
  },
  {
   "cell_type": "code",
   "execution_count": 3,
   "metadata": {},
   "outputs": [],
   "source": [
    "#import dataset\n",
    "df=pd.read_csv(\"project_files/kenya_listings.csv\")"
   ]
  },
  {
   "cell_type": "markdown",
   "metadata": {},
   "source": [
    "<h2>Flag and fill missing numerical data</h2>\n",
    "<p>Checking null/missing values in the dataset</p>"
   ]
  },
  {
   "cell_type": "code",
   "execution_count": 9,
   "metadata": {},
   "outputs": [
    {
     "data": {
      "text/html": [
       "<div>\n",
       "<style scoped>\n",
       "    .dataframe tbody tr th:only-of-type {\n",
       "        vertical-align: middle;\n",
       "    }\n",
       "\n",
       "    .dataframe tbody tr th {\n",
       "        vertical-align: top;\n",
       "    }\n",
       "\n",
       "    .dataframe thead th {\n",
       "        text-align: right;\n",
       "    }\n",
       "</style>\n",
       "<table border=\"1\" class=\"dataframe\">\n",
       "  <thead>\n",
       "    <tr style=\"text-align: right;\">\n",
       "      <th></th>\n",
       "      <th>Missing values</th>\n",
       "      <th>% Missing values</th>\n",
       "    </tr>\n",
       "  </thead>\n",
       "  <tbody>\n",
       "    <tr>\n",
       "      <th>id</th>\n",
       "      <td>0</td>\n",
       "      <td>0.000000</td>\n",
       "    </tr>\n",
       "    <tr>\n",
       "      <th>price</th>\n",
       "      <td>3</td>\n",
       "      <td>0.018614</td>\n",
       "    </tr>\n",
       "    <tr>\n",
       "      <th>price_qualifier</th>\n",
       "      <td>8870</td>\n",
       "      <td>55.035056</td>\n",
       "    </tr>\n",
       "    <tr>\n",
       "      <th>bedrooms</th>\n",
       "      <td>0</td>\n",
       "      <td>0.000000</td>\n",
       "    </tr>\n",
       "    <tr>\n",
       "      <th>bathrooms</th>\n",
       "      <td>0</td>\n",
       "      <td>0.000000</td>\n",
       "    </tr>\n",
       "    <tr>\n",
       "      <th>toilets</th>\n",
       "      <td>10028</td>\n",
       "      <td>62.220016</td>\n",
       "    </tr>\n",
       "    <tr>\n",
       "      <th>furnished</th>\n",
       "      <td>0</td>\n",
       "      <td>0.000000</td>\n",
       "    </tr>\n",
       "    <tr>\n",
       "      <th>serviced</th>\n",
       "      <td>0</td>\n",
       "      <td>0.000000</td>\n",
       "    </tr>\n",
       "    <tr>\n",
       "      <th>shared</th>\n",
       "      <td>0</td>\n",
       "      <td>0.000000</td>\n",
       "    </tr>\n",
       "    <tr>\n",
       "      <th>parking</th>\n",
       "      <td>0</td>\n",
       "      <td>0.000000</td>\n",
       "    </tr>\n",
       "    <tr>\n",
       "      <th>category</th>\n",
       "      <td>0</td>\n",
       "      <td>0.000000</td>\n",
       "    </tr>\n",
       "    <tr>\n",
       "      <th>type</th>\n",
       "      <td>0</td>\n",
       "      <td>0.000000</td>\n",
       "    </tr>\n",
       "    <tr>\n",
       "      <th>sub_type</th>\n",
       "      <td>9817</td>\n",
       "      <td>60.910839</td>\n",
       "    </tr>\n",
       "    <tr>\n",
       "      <th>state</th>\n",
       "      <td>0</td>\n",
       "      <td>0.000000</td>\n",
       "    </tr>\n",
       "    <tr>\n",
       "      <th>locality</th>\n",
       "      <td>6</td>\n",
       "      <td>0.037228</td>\n",
       "    </tr>\n",
       "    <tr>\n",
       "      <th>sub_locality</th>\n",
       "      <td>15071</td>\n",
       "      <td>93.509958</td>\n",
       "    </tr>\n",
       "    <tr>\n",
       "      <th>listdate</th>\n",
       "      <td>0</td>\n",
       "      <td>0.000000</td>\n",
       "    </tr>\n",
       "  </tbody>\n",
       "</table>\n",
       "</div>"
      ],
      "text/plain": [
       "                 Missing values  % Missing values\n",
       "id                            0          0.000000\n",
       "price                         3          0.018614\n",
       "price_qualifier            8870         55.035056\n",
       "bedrooms                      0          0.000000\n",
       "bathrooms                     0          0.000000\n",
       "toilets                   10028         62.220016\n",
       "furnished                     0          0.000000\n",
       "serviced                      0          0.000000\n",
       "shared                        0          0.000000\n",
       "parking                       0          0.000000\n",
       "category                      0          0.000000\n",
       "type                          0          0.000000\n",
       "sub_type                   9817         60.910839\n",
       "state                         0          0.000000\n",
       "locality                      6          0.037228\n",
       "sub_locality              15071         93.509958\n",
       "listdate                      0          0.000000"
      ]
     },
     "execution_count": 9,
     "metadata": {},
     "output_type": "execute_result"
    }
   ],
   "source": [
    "count=df.isna().sum()\n",
    "percent=((count/df.shape[0])*100)\n",
    "null=pd.DataFrame(pd.concat([count,percent],keys=['Missing values','% Missing values'],axis=1))\n",
    "null"
   ]
  },
  {
   "cell_type": "code",
   "execution_count": 11,
   "metadata": {},
   "outputs": [],
   "source": [
    "# Missing toilet values should be 0\n",
    "df['toilets'] = df['toilets'].fillna(0)"
   ]
  },
  {
   "cell_type": "code",
   "execution_count": 14,
   "metadata": {},
   "outputs": [],
   "source": [
    "df['price'] = df['price'].fillna(0)"
   ]
  },
  {
   "cell_type": "markdown",
   "metadata": {},
   "source": [
    "<h2>Fixing structural errors</h2>"
   ]
  },
  {
   "cell_type": "code",
   "execution_count": 25,
   "metadata": {},
   "outputs": [
    {
     "data": {
      "text/plain": [
       "per month                       6227\n",
       "per calendar month               373\n",
       "per plot                         228\n",
       "per acre                         128\n",
       "per square foot / per month      112\n",
       "per day                           62\n",
       "per square meter / per month      55\n",
       "per square foot / per week        46\n",
       "per hectare                        6\n",
       "per square meter / per week        5\n",
       "per square foot / per annum        3\n",
       "per square meter                   1\n",
       "per square foot                    1\n",
       "Name: price_qualifier, dtype: int64"
      ]
     },
     "execution_count": 25,
     "metadata": {},
     "output_type": "execute_result"
    }
   ],
   "source": [
    "df.price_qualifier.value_counts()"
   ]
  },
  {
   "cell_type": "code",
   "execution_count": 26,
   "metadata": {},
   "outputs": [
    {
     "data": {
      "text/plain": [
       "House                   6026\n",
       "Apartment               5840\n",
       "Land                    2669\n",
       "Commercial Property     1580\n",
       "Event Centre / Venue       2\n",
       "Name: type, dtype: int64"
      ]
     },
     "execution_count": 26,
     "metadata": {},
     "output_type": "execute_result"
    }
   ],
   "source": [
    "df.type.value_counts()"
   ]
  },
  {
   "cell_type": "code",
   "execution_count": 27,
   "metadata": {},
   "outputs": [
    {
     "data": {
      "text/plain": [
       "Townhouse                               1563\n",
       "Office Space                             872\n",
       "Residential Land                         810\n",
       "Detached Duplex                          630\n",
       "Detached Bungalow                        579\n",
       "Mixed-use Land                           376\n",
       "Semi-detached Bungalow                   286\n",
       "Mini Flat                                244\n",
       "Commercial Land                          205\n",
       "Bedsitter (Single Room)                  191\n",
       "Warehouse                                186\n",
       "Semi-detached Duplex                      74\n",
       "Terraced Duplex                           55\n",
       "Plaza / Complex / Mall                    45\n",
       "Shop                                      45\n",
       "Block of Flats                            30\n",
       "Terraced Bungalow                         29\n",
       "Hotel / Guest House                       27\n",
       "Restaurant / Bar                          24\n",
       "Industrial Land                           14\n",
       "School                                     5\n",
       "Filling Station                            3\n",
       "Factory                                    3\n",
       "Tank Farm                                  2\n",
       "Hostel                                     1\n",
       "Conference / Meeting / Training Room       1\n",
       "Name: sub_type, dtype: int64"
      ]
     },
     "execution_count": 27,
     "metadata": {},
     "output_type": "execute_result"
    }
   ],
   "source": [
    "df.sub_type.value_counts()"
   ]
  },
  {
   "cell_type": "code",
   "execution_count": 28,
   "metadata": {},
   "outputs": [
    {
     "data": {
      "text/plain": [
       "Nairobi          8935\n",
       "Kiambu           2694\n",
       "Kajiado          1294\n",
       "Mombasa          1125\n",
       "Machakos          534\n",
       "Kilifi            480\n",
       "Nakuru            290\n",
       "Kisumu            150\n",
       "Laikipia           97\n",
       "Kwale              78\n",
       "Embu               44\n",
       "Uasin Gishu        43\n",
       "Meru               42\n",
       "Nyeri              39\n",
       "Nandi              38\n",
       "Makueni            30\n",
       "Baringo            28\n",
       "Muranga            27\n",
       "Bungoma            21\n",
       "Kirinyaga          17\n",
       "Kitui              13\n",
       "Nyandarua          12\n",
       "Kericho            11\n",
       "Kakamega           10\n",
       "Trans Nzoia        10\n",
       "Kisii               9\n",
       "Isiolo              7\n",
       "Lamu                6\n",
       "Busia               6\n",
       "Narok               4\n",
       "Bomet               3\n",
       "Tharaka-Nithi       3\n",
       "Homa Bay            3\n",
       "Samburu             2\n",
       "Migori              2\n",
       "Vihiga              2\n",
       "Garissa             2\n",
       "Siaya               2\n",
       "Taita Taveta        1\n",
       "Turkana             1\n",
       "West Pokot          1\n",
       "Marsabit            1\n",
       "Name: state, dtype: int64"
      ]
     },
     "execution_count": 28,
     "metadata": {},
     "output_type": "execute_result"
    }
   ],
   "source": [
    "df.state.value_counts()"
   ]
  },
  {
   "cell_type": "code",
   "execution_count": 29,
   "metadata": {},
   "outputs": [
    {
     "data": {
      "text/plain": [
       "Westlands                2446\n",
       "Kilimani                 1199\n",
       "Kikuyu                   1064\n",
       "Lavington                 891\n",
       "Karen                     750\n",
       "                         ... \n",
       "Lodwar Township             1\n",
       "Maringo                     1\n",
       "Theta                       1\n",
       "Shella                      1\n",
       "Central Sakwa (Bondo)       1\n",
       "Name: locality, Length: 357, dtype: int64"
      ]
     },
     "execution_count": 29,
     "metadata": {},
     "output_type": "execute_result"
    }
   ],
   "source": [
    "df.locality.value_counts()"
   ]
  },
  {
   "cell_type": "code",
   "execution_count": 30,
   "metadata": {},
   "outputs": [
    {
     "data": {
      "text/plain": [
       "Runda              553\n",
       "Loresho            107\n",
       "South C             83\n",
       "Industrial Area     80\n",
       "Thigio              34\n",
       "Muthaiga North      23\n",
       "Old Muthaiga        22\n",
       "Chiromo             20\n",
       "South B             19\n",
       "Rimpa               18\n",
       "Tassia              13\n",
       "Yukos               11\n",
       "Imara Daima         10\n",
       "Githurai 44         10\n",
       "Rosslyn              9\n",
       "Clay City            8\n",
       "Umoja Phase 1        5\n",
       "Githurai 45          5\n",
       "Lucky Summer         4\n",
       "New Muthaiga         3\n",
       "Umoja Phase 2        3\n",
       "Kwa Njenga           1\n",
       "Kiembeni             1\n",
       "Kihingo              1\n",
       "Mukuru Village       1\n",
       "Kariba               1\n",
       "Lindi                1\n",
       "Name: sub_locality, dtype: int64"
      ]
     },
     "execution_count": 30,
     "metadata": {},
     "output_type": "execute_result"
    }
   ],
   "source": [
    "df.sub_locality.value_counts()"
   ]
  },
  {
   "cell_type": "code",
   "execution_count": 23,
   "metadata": {},
   "outputs": [
    {
     "data": {
      "text/plain": [
       "For Sale         9108\n",
       "For Rent         6916\n",
       "Short Let          84\n",
       "Joint Venture       9\n",
       "Name: category, dtype: int64"
      ]
     },
     "execution_count": 23,
     "metadata": {},
     "output_type": "execute_result"
    }
   ],
   "source": [
    "df.category.value_counts()"
   ]
  },
  {
   "cell_type": "markdown",
   "metadata": {},
   "source": [
    "<h3>No structural errors were noted.</h3>"
   ]
  },
  {
   "cell_type": "markdown",
   "metadata": {},
   "source": [
    "<h2>Labelling missing categorical features</h2>"
   ]
  },
  {
   "cell_type": "code",
   "execution_count": 32,
   "metadata": {},
   "outputs": [
    {
     "data": {
      "text/plain": [
       "price_qualifier     8870\n",
       "category               0\n",
       "type                   0\n",
       "sub_type            9817\n",
       "state                  0\n",
       "locality               6\n",
       "sub_locality       15071\n",
       "listdate               0\n",
       "dtype: int64"
      ]
     },
     "execution_count": 32,
     "metadata": {},
     "output_type": "execute_result"
    }
   ],
   "source": [
    "df.select_dtypes(include=['object']).isnull().sum()"
   ]
  },
  {
   "cell_type": "code",
   "execution_count": 33,
   "metadata": {},
   "outputs": [],
   "source": [
    "for column in df.select_dtypes(include=['object']).columns.tolist():\n",
    "    df[column] = df[column].fillna('Missing')"
   ]
  },
  {
   "cell_type": "code",
   "execution_count": 34,
   "metadata": {},
   "outputs": [
    {
     "data": {
      "text/plain": [
       "price_qualifier    0\n",
       "category           0\n",
       "type               0\n",
       "sub_type           0\n",
       "state              0\n",
       "locality           0\n",
       "sub_locality       0\n",
       "listdate           0\n",
       "dtype: int64"
      ]
     },
     "execution_count": 34,
     "metadata": {},
     "output_type": "execute_result"
    }
   ],
   "source": [
    "df.select_dtypes(include=['object']).isnull().sum()"
   ]
  },
  {
   "cell_type": "markdown",
   "metadata": {},
   "source": [
    "<h2>Dropping unwanted observations</h2>"
   ]
  },
  {
   "cell_type": "code",
   "execution_count": 36,
   "metadata": {},
   "outputs": [
    {
     "data": {
      "text/plain": [
       "(16117, 17)"
      ]
     },
     "execution_count": 36,
     "metadata": {},
     "output_type": "execute_result"
    }
   ],
   "source": [
    "df=df.drop_duplicates()\n",
    "df.shape"
   ]
  }
 ],
 "metadata": {
  "kernelspec": {
   "display_name": "Python 3",
   "language": "python",
   "name": "python3"
  },
  "language_info": {
   "codemirror_mode": {
    "name": "ipython",
    "version": 3
   },
   "file_extension": ".py",
   "mimetype": "text/x-python",
   "name": "python",
   "nbconvert_exporter": "python",
   "pygments_lexer": "ipython3",
   "version": "3.7.6"
  }
 },
 "nbformat": 4,
 "nbformat_minor": 4
}
