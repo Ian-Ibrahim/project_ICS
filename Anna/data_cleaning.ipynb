{
 "cells": [
  {
   "cell_type": "markdown",
   "metadata": {},
   "source": [
    "<h1>Data cleaning</h1>\n",
    "<p>In this module we will:</p>\n",
    "<ul>\n",
    "    <li>Remove unwanted outliers</li>\n",
    "    <li>Remove unwanted observations</li>\n",
    "    <li>Label missing categorical data</li>\n",
    "    <li>Drop unwanted outliers</li>\n",
    "    <li>Flag and fill missing numerical data</li>\n",
    "    <li>Change to correct data types</li>\n",
    "</ul>"
   ]
  },
  {
   "cell_type": "code",
   "execution_count": 1,
   "metadata": {},
   "outputs": [],
   "source": [
    "# import libraries\n",
    "import numpy as np\n",
    "import pandas as pd\n",
    "from matplotlib import pyplot as plt\n",
    "%matplotlib inline \n",
    "import seaborn as sns"
   ]
  },
  {
   "cell_type": "code",
   "execution_count": 2,
   "metadata": {},
   "outputs": [],
   "source": [
    "#import dataset\n",
    "df=pd.read_csv(\"project_files/kenya_listings.csv\")"
   ]
  },
  {
   "cell_type": "markdown",
   "metadata": {},
   "source": [
    "<h2>Flag and fill missing numerical data</h2>\n",
    "<p>Checking null/missing values in the dataset</p>"
   ]
  },
  {
   "cell_type": "code",
   "execution_count": 3,
   "metadata": {},
   "outputs": [
    {
     "data": {
      "text/html": [
       "<div>\n",
       "<style scoped>\n",
       "    .dataframe tbody tr th:only-of-type {\n",
       "        vertical-align: middle;\n",
       "    }\n",
       "\n",
       "    .dataframe tbody tr th {\n",
       "        vertical-align: top;\n",
       "    }\n",
       "\n",
       "    .dataframe thead th {\n",
       "        text-align: right;\n",
       "    }\n",
       "</style>\n",
       "<table border=\"1\" class=\"dataframe\">\n",
       "  <thead>\n",
       "    <tr style=\"text-align: right;\">\n",
       "      <th></th>\n",
       "      <th>Missing values</th>\n",
       "      <th>% Missing values</th>\n",
       "    </tr>\n",
       "  </thead>\n",
       "  <tbody>\n",
       "    <tr>\n",
       "      <th>id</th>\n",
       "      <td>0</td>\n",
       "      <td>0.000000</td>\n",
       "    </tr>\n",
       "    <tr>\n",
       "      <th>price</th>\n",
       "      <td>3</td>\n",
       "      <td>0.018614</td>\n",
       "    </tr>\n",
       "    <tr>\n",
       "      <th>price_qualifier</th>\n",
       "      <td>8870</td>\n",
       "      <td>55.035056</td>\n",
       "    </tr>\n",
       "    <tr>\n",
       "      <th>bedrooms</th>\n",
       "      <td>0</td>\n",
       "      <td>0.000000</td>\n",
       "    </tr>\n",
       "    <tr>\n",
       "      <th>bathrooms</th>\n",
       "      <td>0</td>\n",
       "      <td>0.000000</td>\n",
       "    </tr>\n",
       "    <tr>\n",
       "      <th>toilets</th>\n",
       "      <td>10028</td>\n",
       "      <td>62.220016</td>\n",
       "    </tr>\n",
       "    <tr>\n",
       "      <th>furnished</th>\n",
       "      <td>0</td>\n",
       "      <td>0.000000</td>\n",
       "    </tr>\n",
       "    <tr>\n",
       "      <th>serviced</th>\n",
       "      <td>0</td>\n",
       "      <td>0.000000</td>\n",
       "    </tr>\n",
       "    <tr>\n",
       "      <th>shared</th>\n",
       "      <td>0</td>\n",
       "      <td>0.000000</td>\n",
       "    </tr>\n",
       "    <tr>\n",
       "      <th>parking</th>\n",
       "      <td>0</td>\n",
       "      <td>0.000000</td>\n",
       "    </tr>\n",
       "    <tr>\n",
       "      <th>category</th>\n",
       "      <td>0</td>\n",
       "      <td>0.000000</td>\n",
       "    </tr>\n",
       "    <tr>\n",
       "      <th>type</th>\n",
       "      <td>0</td>\n",
       "      <td>0.000000</td>\n",
       "    </tr>\n",
       "    <tr>\n",
       "      <th>sub_type</th>\n",
       "      <td>9817</td>\n",
       "      <td>60.910839</td>\n",
       "    </tr>\n",
       "    <tr>\n",
       "      <th>state</th>\n",
       "      <td>0</td>\n",
       "      <td>0.000000</td>\n",
       "    </tr>\n",
       "    <tr>\n",
       "      <th>locality</th>\n",
       "      <td>6</td>\n",
       "      <td>0.037228</td>\n",
       "    </tr>\n",
       "    <tr>\n",
       "      <th>sub_locality</th>\n",
       "      <td>15071</td>\n",
       "      <td>93.509958</td>\n",
       "    </tr>\n",
       "    <tr>\n",
       "      <th>listdate</th>\n",
       "      <td>0</td>\n",
       "      <td>0.000000</td>\n",
       "    </tr>\n",
       "  </tbody>\n",
       "</table>\n",
       "</div>"
      ],
      "text/plain": [
       "                 Missing values  % Missing values\n",
       "id                            0          0.000000\n",
       "price                         3          0.018614\n",
       "price_qualifier            8870         55.035056\n",
       "bedrooms                      0          0.000000\n",
       "bathrooms                     0          0.000000\n",
       "toilets                   10028         62.220016\n",
       "furnished                     0          0.000000\n",
       "serviced                      0          0.000000\n",
       "shared                        0          0.000000\n",
       "parking                       0          0.000000\n",
       "category                      0          0.000000\n",
       "type                          0          0.000000\n",
       "sub_type                   9817         60.910839\n",
       "state                         0          0.000000\n",
       "locality                      6          0.037228\n",
       "sub_locality              15071         93.509958\n",
       "listdate                      0          0.000000"
      ]
     },
     "execution_count": 3,
     "metadata": {},
     "output_type": "execute_result"
    }
   ],
   "source": [
    "#df.select_dtypes(exclude=['object']).isnull().sum()\n",
    "count=df.isna().sum()\n",
    "percent=((count/df.shape[0])*100)\n",
    "null=pd.DataFrame(pd.concat([count,percent],keys=['Missing values','% Missing values'],axis=1))\n",
    "null"
   ]
  },
  {
   "cell_type": "code",
   "execution_count": 4,
   "metadata": {},
   "outputs": [],
   "source": [
    "# Missing toilet values should be 0\n",
    "df['toilets'] = df['toilets'].fillna(0)"
   ]
  },
  {
   "cell_type": "code",
   "execution_count": 5,
   "metadata": {},
   "outputs": [],
   "source": [
    "df['price'] = df['price'].fillna(0)"
   ]
  },
  {
   "cell_type": "markdown",
   "metadata": {},
   "source": [
    "<h2>Fixing structural errors</h2>"
   ]
  },
  {
   "cell_type": "code",
   "execution_count": 6,
   "metadata": {},
   "outputs": [
    {
     "data": {
      "text/plain": [
       "per month                       6227\n",
       "per calendar month               373\n",
       "per plot                         228\n",
       "per acre                         128\n",
       "per square foot / per month      112\n",
       "per day                           62\n",
       "per square meter / per month      55\n",
       "per square foot / per week        46\n",
       "per hectare                        6\n",
       "per square meter / per week        5\n",
       "per square foot / per annum        3\n",
       "per square foot                    1\n",
       "per square meter                   1\n",
       "Name: price_qualifier, dtype: int64"
      ]
     },
     "execution_count": 6,
     "metadata": {},
     "output_type": "execute_result"
    }
   ],
   "source": [
    "df.price_qualifier.value_counts()"
   ]
  },
  {
   "cell_type": "code",
   "execution_count": 7,
   "metadata": {},
   "outputs": [
    {
     "data": {
      "text/plain": [
       "House                   6026\n",
       "Apartment               5840\n",
       "Land                    2669\n",
       "Commercial Property     1580\n",
       "Event Centre / Venue       2\n",
       "Name: type, dtype: int64"
      ]
     },
     "execution_count": 7,
     "metadata": {},
     "output_type": "execute_result"
    }
   ],
   "source": [
    "df.type.value_counts()"
   ]
  },
  {
   "cell_type": "code",
   "execution_count": 8,
   "metadata": {},
   "outputs": [
    {
     "data": {
      "text/plain": [
       "Townhouse                               1563\n",
       "Office Space                             872\n",
       "Residential Land                         810\n",
       "Detached Duplex                          630\n",
       "Detached Bungalow                        579\n",
       "Mixed-use Land                           376\n",
       "Semi-detached Bungalow                   286\n",
       "Mini Flat                                244\n",
       "Commercial Land                          205\n",
       "Bedsitter (Single Room)                  191\n",
       "Warehouse                                186\n",
       "Semi-detached Duplex                      74\n",
       "Terraced Duplex                           55\n",
       "Shop                                      45\n",
       "Plaza / Complex / Mall                    45\n",
       "Block of Flats                            30\n",
       "Terraced Bungalow                         29\n",
       "Hotel / Guest House                       27\n",
       "Restaurant / Bar                          24\n",
       "Industrial Land                           14\n",
       "School                                     5\n",
       "Filling Station                            3\n",
       "Factory                                    3\n",
       "Tank Farm                                  2\n",
       "Hostel                                     1\n",
       "Conference / Meeting / Training Room       1\n",
       "Name: sub_type, dtype: int64"
      ]
     },
     "execution_count": 8,
     "metadata": {},
     "output_type": "execute_result"
    }
   ],
   "source": [
    "df.sub_type.value_counts()"
   ]
  },
  {
   "cell_type": "code",
   "execution_count": 9,
   "metadata": {},
   "outputs": [
    {
     "data": {
      "text/plain": [
       "Nairobi          8935\n",
       "Kiambu           2694\n",
       "Kajiado          1294\n",
       "Mombasa          1125\n",
       "Machakos          534\n",
       "Kilifi            480\n",
       "Nakuru            290\n",
       "Kisumu            150\n",
       "Laikipia           97\n",
       "Kwale              78\n",
       "Embu               44\n",
       "Uasin Gishu        43\n",
       "Meru               42\n",
       "Nyeri              39\n",
       "Nandi              38\n",
       "Makueni            30\n",
       "Baringo            28\n",
       "Muranga            27\n",
       "Bungoma            21\n",
       "Kirinyaga          17\n",
       "Kitui              13\n",
       "Nyandarua          12\n",
       "Kericho            11\n",
       "Kakamega           10\n",
       "Trans Nzoia        10\n",
       "Kisii               9\n",
       "Isiolo              7\n",
       "Busia               6\n",
       "Lamu                6\n",
       "Narok               4\n",
       "Bomet               3\n",
       "Tharaka-Nithi       3\n",
       "Homa Bay            3\n",
       "Migori              2\n",
       "Vihiga              2\n",
       "Siaya               2\n",
       "Garissa             2\n",
       "Samburu             2\n",
       "West Pokot          1\n",
       "Marsabit            1\n",
       "Taita Taveta        1\n",
       "Turkana             1\n",
       "Name: state, dtype: int64"
      ]
     },
     "execution_count": 9,
     "metadata": {},
     "output_type": "execute_result"
    }
   ],
   "source": [
    "df.state.value_counts()"
   ]
  },
  {
   "cell_type": "code",
   "execution_count": 10,
   "metadata": {},
   "outputs": [
    {
     "data": {
      "text/plain": [
       "Westlands    2446\n",
       "Kilimani     1199\n",
       "Kikuyu       1064\n",
       "Lavington     891\n",
       "Karen         750\n",
       "             ... \n",
       "Chebunyo        1\n",
       "Murera          1\n",
       "Kamara          1\n",
       "Mnarani         1\n",
       "Kinale          1\n",
       "Name: locality, Length: 357, dtype: int64"
      ]
     },
     "execution_count": 10,
     "metadata": {},
     "output_type": "execute_result"
    }
   ],
   "source": [
    "df.locality.value_counts()"
   ]
  },
  {
   "cell_type": "code",
   "execution_count": 11,
   "metadata": {},
   "outputs": [
    {
     "data": {
      "text/plain": [
       "Runda              553\n",
       "Loresho            107\n",
       "South C             83\n",
       "Industrial Area     80\n",
       "Thigio              34\n",
       "Muthaiga North      23\n",
       "Old Muthaiga        22\n",
       "Chiromo             20\n",
       "South B             19\n",
       "Rimpa               18\n",
       "Tassia              13\n",
       "Yukos               11\n",
       "Imara Daima         10\n",
       "Githurai 44         10\n",
       "Rosslyn              9\n",
       "Clay City            8\n",
       "Umoja Phase 1        5\n",
       "Githurai 45          5\n",
       "Lucky Summer         4\n",
       "New Muthaiga         3\n",
       "Umoja Phase 2        3\n",
       "Kwa Njenga           1\n",
       "Mukuru Village       1\n",
       "Kiembeni             1\n",
       "Lindi                1\n",
       "Kihingo              1\n",
       "Kariba               1\n",
       "Name: sub_locality, dtype: int64"
      ]
     },
     "execution_count": 11,
     "metadata": {},
     "output_type": "execute_result"
    }
   ],
   "source": [
    "df.sub_locality.value_counts()"
   ]
  },
  {
   "cell_type": "code",
   "execution_count": 12,
   "metadata": {},
   "outputs": [
    {
     "data": {
      "text/plain": [
       "For Sale         9108\n",
       "For Rent         6916\n",
       "Short Let          84\n",
       "Joint Venture       9\n",
       "Name: category, dtype: int64"
      ]
     },
     "execution_count": 12,
     "metadata": {},
     "output_type": "execute_result"
    }
   ],
   "source": [
    "df.category.value_counts()"
   ]
  },
  {
   "cell_type": "markdown",
   "metadata": {},
   "source": [
    "<p>We should change those apartment properties that have zero bedrooms to become bedsitter sub type</p>"
   ]
  },
  {
   "cell_type": "code",
   "execution_count": 36,
   "metadata": {},
   "outputs": [
    {
     "data": {
      "text/plain": [
       "(11, 17)"
      ]
     },
     "execution_count": 36,
     "metadata": {},
     "output_type": "execute_result"
    }
   ],
   "source": [
    "df.loc[(df['bedrooms']==0)&(df['sub_type']=='Missing')].shape\n",
    "#Bedsitter (Single Room)"
   ]
  },
  {
   "cell_type": "code",
   "execution_count": 37,
   "metadata": {},
   "outputs": [],
   "source": [
    "df.loc[(df['bedrooms']==0)&(df['sub_type']=='Missing'),'sub_type']='Bedsitter (Single Room)'"
   ]
  },
  {
   "cell_type": "markdown",
   "metadata": {},
   "source": [
    "<p>We are going to change price qualifiers with the value 'per calender month' to be 'per month'</p>"
   ]
  },
  {
   "cell_type": "code",
   "execution_count": 38,
   "metadata": {},
   "outputs": [],
   "source": [
    "df.loc[(df['price_qualifier']=='per calendar month'),'price_qualifier']='per month'"
   ]
  },
  {
   "cell_type": "code",
   "execution_count": 39,
   "metadata": {},
   "outputs": [
    {
     "data": {
      "text/plain": [
       "For Sale    4634\n",
       "For Rent      84\n",
       "Name: category, dtype: int64"
      ]
     },
     "execution_count": 39,
     "metadata": {},
     "output_type": "execute_result"
    }
   ],
   "source": [
    "df.loc[(df['price_qualifier']=='Missing')].category.value_counts()"
   ]
  },
  {
   "cell_type": "markdown",
   "metadata": {},
   "source": [
    "<p>We are going to change properties that are listed for rent to all have price qualifier of per month</p>"
   ]
  },
  {
   "cell_type": "code",
   "execution_count": 40,
   "metadata": {},
   "outputs": [],
   "source": [
    "df.loc[(df['category']=='For Rent')&(df['price_qualifier']=='Missing'),'price_qualifier']='per month'"
   ]
  },
  {
   "cell_type": "markdown",
   "metadata": {},
   "source": [
    "<p>We are going to make all properties listed for sale to have a price qualifier of sale</p>"
   ]
  },
  {
   "cell_type": "code",
   "execution_count": 41,
   "metadata": {},
   "outputs": [],
   "source": [
    "df.loc[(df['category']=='For Sale')&(df['price_qualifier']=='Missing'),'price_qualifier']='Sale'"
   ]
  },
  {
   "cell_type": "markdown",
   "metadata": {},
   "source": [
    "<p>we are going to change properties with short let to be rental properties</p>"
   ]
  },
  {
   "cell_type": "code",
   "execution_count": 42,
   "metadata": {},
   "outputs": [],
   "source": [
    "df.loc[(df['category']=='Short Let'),'category']='For Rent'"
   ]
  },
  {
   "cell_type": "markdown",
   "metadata": {},
   "source": [
    "<p>We are going to change block of flats from house to apartments</p>"
   ]
  },
  {
   "cell_type": "code",
   "execution_count": 44,
   "metadata": {},
   "outputs": [],
   "source": [
    "df.loc[(df['sub_type']=='Block of Flats'),'type']='Apartment'"
   ]
  },
  {
   "cell_type": "markdown",
   "metadata": {},
   "source": [
    "<h2>Labelling missing categorical features</h2>"
   ]
  },
  {
   "cell_type": "code",
   "execution_count": 13,
   "metadata": {},
   "outputs": [
    {
     "data": {
      "text/plain": [
       "price_qualifier     8870\n",
       "category               0\n",
       "type                   0\n",
       "sub_type            9817\n",
       "state                  0\n",
       "locality               6\n",
       "sub_locality       15071\n",
       "listdate               0\n",
       "dtype: int64"
      ]
     },
     "execution_count": 13,
     "metadata": {},
     "output_type": "execute_result"
    }
   ],
   "source": [
    "df.select_dtypes(include=['object']).isnull().sum()"
   ]
  },
  {
   "cell_type": "code",
   "execution_count": 14,
   "metadata": {},
   "outputs": [],
   "source": [
    "for column in df.select_dtypes(include=['object']).columns.tolist():\n",
    "    df[column] = df[column].fillna('Missing')"
   ]
  },
  {
   "cell_type": "code",
   "execution_count": 15,
   "metadata": {},
   "outputs": [
    {
     "data": {
      "text/plain": [
       "price_qualifier    0\n",
       "category           0\n",
       "type               0\n",
       "sub_type           0\n",
       "state              0\n",
       "locality           0\n",
       "sub_locality       0\n",
       "listdate           0\n",
       "dtype: int64"
      ]
     },
     "execution_count": 15,
     "metadata": {},
     "output_type": "execute_result"
    }
   ],
   "source": [
    "df.select_dtypes(include=['object']).isnull().sum()"
   ]
  },
  {
   "cell_type": "markdown",
   "metadata": {},
   "source": [
    "<h2>Dropping unwanted observations</h2>"
   ]
  },
  {
   "cell_type": "code",
   "execution_count": 16,
   "metadata": {},
   "outputs": [
    {
     "data": {
      "text/plain": [
       "(16117, 17)"
      ]
     },
     "execution_count": 16,
     "metadata": {},
     "output_type": "execute_result"
    }
   ],
   "source": [
    "#removing duplicates in the dataset\n",
    "df=df.drop_duplicates()\n",
    "df.shape"
   ]
  },
  {
   "cell_type": "markdown",
   "metadata": {},
   "source": [
    "<p>\n",
    "    There are some properties that will be removed in the dataset which includes:\n",
    "    <ul>\n",
    "        <li>Property types-land,commercial property,event centers since we are interested in habitable premises such as apartments and houses.</li>\n",
    "    </ul>\n",
    "</p>\n",
    "    "
   ]
  },
  {
   "cell_type": "code",
   "execution_count": 17,
   "metadata": {},
   "outputs": [],
   "source": [
    "df=df.loc[(df['type']=='House')| (df['type']=='Apartment')]"
   ]
  },
  {
   "cell_type": "markdown",
   "metadata": {},
   "source": [
    "<ul>\n",
    "    <li>Remove properties with joint venture attribute in category</li>\n",
    "<ul>"
   ]
  },
  {
   "cell_type": "code",
   "execution_count": 18,
   "metadata": {},
   "outputs": [],
   "source": [
    "df=df.loc[(df['category']!='Joint Venture')]"
   ]
  },
  {
   "cell_type": "markdown",
   "metadata": {},
   "source": [
    "<ul>\n",
    "    <li>Remove properties with per day attribute in price qualifier</li>\n",
    "<ul>"
   ]
  },
  {
   "cell_type": "code",
   "execution_count": 19,
   "metadata": {},
   "outputs": [
    {
     "data": {
      "text/plain": [
       "(61, 17)"
      ]
     },
     "execution_count": 19,
     "metadata": {},
     "output_type": "execute_result"
    }
   ],
   "source": [
    "df.loc[(df['price_qualifier']=='per day')].shape"
   ]
  },
  {
   "cell_type": "code",
   "execution_count": 20,
   "metadata": {},
   "outputs": [
    {
     "data": {
      "text/plain": [
       "(0, 17)"
      ]
     },
     "execution_count": 20,
     "metadata": {},
     "output_type": "execute_result"
    }
   ],
   "source": [
    "df=df.loc[(df['price_qualifier'])!='per day']\n",
    "df.loc[(df['price_qualifier']=='per day')].shape"
   ]
  },
  {
   "cell_type": "markdown",
   "metadata": {},
   "source": [
    "<ul>\n",
    "    <li>Properties with price of zero</li>\n",
    "<ul>"
   ]
  },
  {
   "cell_type": "code",
   "execution_count": 21,
   "metadata": {},
   "outputs": [
    {
     "data": {
      "text/plain": [
       "(61, 17)"
      ]
     },
     "execution_count": 21,
     "metadata": {},
     "output_type": "execute_result"
    }
   ],
   "source": [
    "df.loc[(df['price']==0)].shape"
   ]
  },
  {
   "cell_type": "code",
   "execution_count": 22,
   "metadata": {},
   "outputs": [
    {
     "data": {
      "text/plain": [
       "(0, 17)"
      ]
     },
     "execution_count": 22,
     "metadata": {},
     "output_type": "execute_result"
    }
   ],
   "source": [
    "df=df.loc[(df['price'])!=0]\n",
    "df.loc[(df['price']==0)].shape"
   ]
  },
  {
   "cell_type": "markdown",
   "metadata": {},
   "source": [
    "<ul>\n",
    "    <li>Properties that have no toilets and bathrooms.</li>\n",
    "    <sub>we did not remove toilet==0 Or bathrooms==0 since some properties may combine toilet and bathroom into a shared facility</sub>\n",
    "</ul>"
   ]
  },
  {
   "cell_type": "code",
   "execution_count": 23,
   "metadata": {},
   "outputs": [
    {
     "data": {
      "text/plain": [
       "(2227, 17)"
      ]
     },
     "execution_count": 23,
     "metadata": {},
     "output_type": "execute_result"
    }
   ],
   "source": [
    "df.loc[(df['toilets']==0)&(df['bathrooms']==0)].shape"
   ]
  },
  {
   "cell_type": "code",
   "execution_count": 24,
   "metadata": {},
   "outputs": [
    {
     "data": {
      "text/plain": [
       "(0, 17)"
      ]
     },
     "execution_count": 24,
     "metadata": {},
     "output_type": "execute_result"
    }
   ],
   "source": [
    "df=df.loc[~((df['toilets']==0)&(df['bathrooms']==0))]\n",
    "df.loc[(df['toilets']==0)&(df['bathrooms']==0)].shape"
   ]
  },
  {
   "cell_type": "markdown",
   "metadata": {},
   "source": [
    "<ul>\n",
    "    <li>Properties that have missing value for the locality column.</li>\n",
    "</ul>"
   ]
  },
  {
   "cell_type": "code",
   "execution_count": 25,
   "metadata": {},
   "outputs": [
    {
     "data": {
      "text/plain": [
       "(3, 17)"
      ]
     },
     "execution_count": 25,
     "metadata": {},
     "output_type": "execute_result"
    }
   ],
   "source": [
    "df.loc[(df['locality']=='Missing')].shape"
   ]
  },
  {
   "cell_type": "code",
   "execution_count": 26,
   "metadata": {},
   "outputs": [
    {
     "data": {
      "text/plain": [
       "(0, 17)"
      ]
     },
     "execution_count": 26,
     "metadata": {},
     "output_type": "execute_result"
    }
   ],
   "source": [
    "df=df.loc[~(df['locality']=='Missing')]\n",
    "df.loc[(df['locality']=='Missing')].shape"
   ]
  },
  {
   "cell_type": "markdown",
   "metadata": {},
   "source": [
    "<ul>\n",
    "    <li>Bedsitters with bedrooms</li>\n",
    "<ul>"
   ]
  },
  {
   "cell_type": "code",
   "execution_count": 27,
   "metadata": {},
   "outputs": [
    {
     "data": {
      "text/plain": [
       "(3, 17)"
      ]
     },
     "execution_count": 27,
     "metadata": {},
     "output_type": "execute_result"
    }
   ],
   "source": [
    "df.loc[(df['sub_type']=='Bedsitter (Single Room)')&(df['bedrooms']!=0)].shape"
   ]
  },
  {
   "cell_type": "code",
   "execution_count": 28,
   "metadata": {},
   "outputs": [
    {
     "data": {
      "text/plain": [
       "(0, 17)"
      ]
     },
     "execution_count": 28,
     "metadata": {},
     "output_type": "execute_result"
    }
   ],
   "source": [
    "df=df.loc[~((df['sub_type']=='Bedsitter (Single Room)')&(df['bedrooms']!=0))]\n",
    "df.loc[(df['sub_type']=='Bedsitter (Single Room)')&(df['bedrooms']!=0)].shape"
   ]
  },
  {
   "cell_type": "markdown",
   "metadata": {},
   "source": [
    "<ul>\n",
    "    <li>some house types should not be having zero number of bedrooms</li>\n",
    "<ul>"
   ]
  },
  {
   "cell_type": "code",
   "execution_count": 29,
   "metadata": {},
   "outputs": [
    {
     "data": {
      "text/plain": [
       "Townhouse            2\n",
       "Detached Bungalow    1\n",
       "Missing              1\n",
       "Name: sub_type, dtype: int64"
      ]
     },
     "execution_count": 29,
     "metadata": {},
     "output_type": "execute_result"
    }
   ],
   "source": [
    "df.loc[(df['bedrooms']==0)&(df['type']=='House')].sub_type.value_counts()"
   ]
  },
  {
   "cell_type": "code",
   "execution_count": 30,
   "metadata": {},
   "outputs": [
    {
     "data": {
      "text/plain": [
       "(0, 17)"
      ]
     },
     "execution_count": 30,
     "metadata": {},
     "output_type": "execute_result"
    }
   ],
   "source": [
    "df=df.loc[~((df['bedrooms']==0)&(df['type']=='House'))]\n",
    "df.loc[(df['bedrooms']==0)&(df['type']=='House')].shape"
   ]
  },
  {
   "cell_type": "code",
   "execution_count": 34,
   "metadata": {},
   "outputs": [],
   "source": [
    "df.loc[(df['id']==554,'price')]=28000"
   ]
  },
  {
   "cell_type": "markdown",
   "metadata": {},
   "source": [
    "<h2>Removing unwanted outliers</h2>"
   ]
  },
  {
   "cell_type": "code",
   "execution_count": 45,
   "metadata": {},
   "outputs": [
    {
     "data": {
      "text/plain": [
       "(9505, 17)"
      ]
     },
     "execution_count": 45,
     "metadata": {},
     "output_type": "execute_result"
    }
   ],
   "source": [
    "df.shape"
   ]
  },
  {
   "cell_type": "code",
   "execution_count": 46,
   "metadata": {},
   "outputs": [],
   "source": [
    "df_rental=df[df.category == 'For Rent']\n",
    "df_sale=df[df.category=='For Sale']"
   ]
  },
  {
   "cell_type": "code",
   "execution_count": 48,
   "metadata": {},
   "outputs": [
    {
     "data": {
      "text/plain": [
       "<matplotlib.axes._subplots.AxesSubplot at 0x2935050d348>"
      ]
     },
     "execution_count": 48,
     "metadata": {},
     "output_type": "execute_result"
    },
    {
     "data": {
      "image/png": "[encoded data removed]",
      "text/plain": [
       "<Figure size 432x288 with 1 Axes>"
      ]
     },
     "metadata": {
      "needs_background": "light"
     },
     "output_type": "display_data"
    }
   ],
   "source": [
    "sns.violinplot(x= 'bedrooms', data=df)"
   ]
  },
  {
   "cell_type": "code",
   "execution_count": 49,
   "metadata": {},
   "outputs": [
    {
     "data": {
      "text/html": [
       "<div>\n",
       "<style scoped>\n",
       "    .dataframe tbody tr th:only-of-type {\n",
       "        vertical-align: middle;\n",
       "    }\n",
       "\n",
       "    .dataframe tbody tr th {\n",
       "        vertical-align: top;\n",
       "    }\n",
       "\n",
       "    .dataframe thead th {\n",
       "        text-align: right;\n",
       "    }\n",
       "</style>\n",
       "<table border=\"1\" class=\"dataframe\">\n",
       "  <thead>\n",
       "    <tr style=\"text-align: right;\">\n",
       "      <th></th>\n",
       "      <th>id</th>\n",
       "      <th>price</th>\n",
       "      <th>price_qualifier</th>\n",
       "      <th>bedrooms</th>\n",
       "      <th>bathrooms</th>\n",
       "      <th>toilets</th>\n",
       "      <th>furnished</th>\n",
       "      <th>serviced</th>\n",
       "      <th>shared</th>\n",
       "      <th>parking</th>\n",
       "      <th>category</th>\n",
       "      <th>type</th>\n",
       "      <th>sub_type</th>\n",
       "      <th>state</th>\n",
       "      <th>locality</th>\n",
       "      <th>sub_locality</th>\n",
       "      <th>listdate</th>\n",
       "    </tr>\n",
       "  </thead>\n",
       "  <tbody>\n",
       "    <tr>\n",
       "      <th>15282</th>\n",
       "      <td>15290</td>\n",
       "      <td>213123.0</td>\n",
       "      <td>per month</td>\n",
       "      <td>1231</td>\n",
       "      <td>1</td>\n",
       "      <td>1.0</td>\n",
       "      <td>1</td>\n",
       "      <td>0</td>\n",
       "      <td>0</td>\n",
       "      <td>1</td>\n",
       "      <td>For Rent</td>\n",
       "      <td>House</td>\n",
       "      <td>Detached Bungalow</td>\n",
       "      <td>Kiambu</td>\n",
       "      <td>Kinale</td>\n",
       "      <td>Missing</td>\n",
       "      <td>2022-04-30 09:46:13</td>\n",
       "    </tr>\n",
       "    <tr>\n",
       "      <th>3419</th>\n",
       "      <td>3420</td>\n",
       "      <td>28000000.0</td>\n",
       "      <td>Sale</td>\n",
       "      <td>50</td>\n",
       "      <td>20</td>\n",
       "      <td>0.0</td>\n",
       "      <td>0</td>\n",
       "      <td>0</td>\n",
       "      <td>0</td>\n",
       "      <td>0</td>\n",
       "      <td>For Sale</td>\n",
       "      <td>Apartment</td>\n",
       "      <td>Missing</td>\n",
       "      <td>Kiambu</td>\n",
       "      <td>Kikuyu</td>\n",
       "      <td>Missing</td>\n",
       "      <td>2020-07-29 13:49:33</td>\n",
       "    </tr>\n",
       "    <tr>\n",
       "      <th>16029</th>\n",
       "      <td>16037</td>\n",
       "      <td>50000000.0</td>\n",
       "      <td>Sale</td>\n",
       "      <td>44</td>\n",
       "      <td>4</td>\n",
       "      <td>4.0</td>\n",
       "      <td>0</td>\n",
       "      <td>0</td>\n",
       "      <td>0</td>\n",
       "      <td>6</td>\n",
       "      <td>For Sale</td>\n",
       "      <td>House</td>\n",
       "      <td>Townhouse</td>\n",
       "      <td>Kajiado</td>\n",
       "      <td>Ngong</td>\n",
       "      <td>Missing</td>\n",
       "      <td>2022-06-13 18:07:12</td>\n",
       "    </tr>\n",
       "    <tr>\n",
       "      <th>7620</th>\n",
       "      <td>7621</td>\n",
       "      <td>110000.0</td>\n",
       "      <td>per month</td>\n",
       "      <td>43</td>\n",
       "      <td>3</td>\n",
       "      <td>0.0</td>\n",
       "      <td>0</td>\n",
       "      <td>0</td>\n",
       "      <td>0</td>\n",
       "      <td>0</td>\n",
       "      <td>For Rent</td>\n",
       "      <td>House</td>\n",
       "      <td>Semi-detached Duplex</td>\n",
       "      <td>Nairobi</td>\n",
       "      <td>Kileleshwa</td>\n",
       "      <td>Missing</td>\n",
       "      <td>2020-08-26 15:11:56</td>\n",
       "    </tr>\n",
       "    <tr>\n",
       "      <th>10436</th>\n",
       "      <td>10437</td>\n",
       "      <td>6200000.0</td>\n",
       "      <td>Sale</td>\n",
       "      <td>32</td>\n",
       "      <td>2</td>\n",
       "      <td>2.0</td>\n",
       "      <td>1</td>\n",
       "      <td>0</td>\n",
       "      <td>0</td>\n",
       "      <td>1</td>\n",
       "      <td>For Sale</td>\n",
       "      <td>House</td>\n",
       "      <td>Missing</td>\n",
       "      <td>Kiambu</td>\n",
       "      <td>Kikuyu</td>\n",
       "      <td>Missing</td>\n",
       "      <td>2021-10-13 16:51:13</td>\n",
       "    </tr>\n",
       "    <tr>\n",
       "      <th>14499</th>\n",
       "      <td>14507</td>\n",
       "      <td>12000.0</td>\n",
       "      <td>per month</td>\n",
       "      <td>11</td>\n",
       "      <td>1</td>\n",
       "      <td>1.0</td>\n",
       "      <td>0</td>\n",
       "      <td>0</td>\n",
       "      <td>0</td>\n",
       "      <td>1</td>\n",
       "      <td>For Rent</td>\n",
       "      <td>House</td>\n",
       "      <td>Semi-detached Bungalow</td>\n",
       "      <td>Kiambu</td>\n",
       "      <td>Juja</td>\n",
       "      <td>Missing</td>\n",
       "      <td>2022-03-15 09:12:00</td>\n",
       "    </tr>\n",
       "  </tbody>\n",
       "</table>\n",
       "</div>"
      ],
      "text/plain": [
       "          id       price price_qualifier  bedrooms  bathrooms  toilets  \\\n",
       "15282  15290    213123.0       per month      1231          1      1.0   \n",
       "3419    3420  28000000.0            Sale        50         20      0.0   \n",
       "16029  16037  50000000.0            Sale        44          4      4.0   \n",
       "7620    7621    110000.0       per month        43          3      0.0   \n",
       "10436  10437   6200000.0            Sale        32          2      2.0   \n",
       "14499  14507     12000.0       per month        11          1      1.0   \n",
       "\n",
       "       furnished  serviced  shared  parking  category       type  \\\n",
       "15282          1         0       0        1  For Rent      House   \n",
       "3419           0         0       0        0  For Sale  Apartment   \n",
       "16029          0         0       0        6  For Sale      House   \n",
       "7620           0         0       0        0  For Rent      House   \n",
       "10436          1         0       0        1  For Sale      House   \n",
       "14499          0         0       0        1  For Rent      House   \n",
       "\n",
       "                     sub_type    state    locality sub_locality  \\\n",
       "15282       Detached Bungalow   Kiambu      Kinale      Missing   \n",
       "3419                  Missing   Kiambu      Kikuyu      Missing   \n",
       "16029               Townhouse  Kajiado       Ngong      Missing   \n",
       "7620     Semi-detached Duplex  Nairobi  Kileleshwa      Missing   \n",
       "10436                 Missing   Kiambu      Kikuyu      Missing   \n",
       "14499  Semi-detached Bungalow   Kiambu        Juja      Missing   \n",
       "\n",
       "                  listdate  \n",
       "15282  2022-04-30 09:46:13  \n",
       "3419   2020-07-29 13:49:33  \n",
       "16029  2022-06-13 18:07:12  \n",
       "7620   2020-08-26 15:11:56  \n",
       "10436  2021-10-13 16:51:13  \n",
       "14499  2022-03-15 09:12:00  "
      ]
     },
     "execution_count": 49,
     "metadata": {},
     "output_type": "execute_result"
    }
   ],
   "source": [
    "df.loc[(df['bedrooms']>10)].sort_values(by='bedrooms',ascending=False).head(10)"
   ]
  },
  {
   "cell_type": "code",
   "execution_count": 50,
   "metadata": {},
   "outputs": [
    {
     "data": {
      "text/plain": [
       "(9499, 17)"
      ]
     },
     "execution_count": 50,
     "metadata": {},
     "output_type": "execute_result"
    }
   ],
   "source": [
    "#remove properties with more than 10\n",
    "df = df[df.bedrooms <= 10]\n",
    "df.shape"
   ]
  },
  {
   "cell_type": "code",
   "execution_count": 54,
   "metadata": {},
   "outputs": [
    {
     "data": {
      "text/plain": [
       "<matplotlib.axes._subplots.AxesSubplot at 0x2935378ec48>"
      ]
     },
     "execution_count": 54,
     "metadata": {},
     "output_type": "execute_result"
    },
    {
     "data": {
      "image/png": "[encoded data removed]",
      "text/plain": [
       "<Figure size 432x288 with 1 Axes>"
      ]
     },
     "metadata": {
      "needs_background": "light"
     },
     "output_type": "display_data"
    }
   ],
   "source": [
    "sns.violinplot(x= 'bathrooms', data=df)"
   ]
  },
  {
   "cell_type": "code",
   "execution_count": 59,
   "metadata": {},
   "outputs": [
    {
     "data": {
      "text/html": [
       "<div>\n",
       "<style scoped>\n",
       "    .dataframe tbody tr th:only-of-type {\n",
       "        vertical-align: middle;\n",
       "    }\n",
       "\n",
       "    .dataframe tbody tr th {\n",
       "        vertical-align: top;\n",
       "    }\n",
       "\n",
       "    .dataframe thead th {\n",
       "        text-align: right;\n",
       "    }\n",
       "</style>\n",
       "<table border=\"1\" class=\"dataframe\">\n",
       "  <thead>\n",
       "    <tr style=\"text-align: right;\">\n",
       "      <th></th>\n",
       "      <th>id</th>\n",
       "      <th>price</th>\n",
       "      <th>price_qualifier</th>\n",
       "      <th>bedrooms</th>\n",
       "      <th>bathrooms</th>\n",
       "      <th>toilets</th>\n",
       "      <th>furnished</th>\n",
       "      <th>serviced</th>\n",
       "      <th>shared</th>\n",
       "      <th>parking</th>\n",
       "      <th>category</th>\n",
       "      <th>type</th>\n",
       "      <th>sub_type</th>\n",
       "      <th>state</th>\n",
       "      <th>locality</th>\n",
       "      <th>sub_locality</th>\n",
       "      <th>listdate</th>\n",
       "    </tr>\n",
       "  </thead>\n",
       "  <tbody>\n",
       "    <tr>\n",
       "      <th>12881</th>\n",
       "      <td>12889</td>\n",
       "      <td>10000.0</td>\n",
       "      <td>per month</td>\n",
       "      <td>1</td>\n",
       "      <td>11</td>\n",
       "      <td>1.0</td>\n",
       "      <td>0</td>\n",
       "      <td>0</td>\n",
       "      <td>0</td>\n",
       "      <td>1</td>\n",
       "      <td>For Rent</td>\n",
       "      <td>House</td>\n",
       "      <td>Missing</td>\n",
       "      <td>Mombasa</td>\n",
       "      <td>Tudor</td>\n",
       "      <td>Missing</td>\n",
       "      <td>2022-01-25 15:25:41</td>\n",
       "    </tr>\n",
       "    <tr>\n",
       "      <th>2760</th>\n",
       "      <td>2761</td>\n",
       "      <td>450000.0</td>\n",
       "      <td>per month</td>\n",
       "      <td>10</td>\n",
       "      <td>11</td>\n",
       "      <td>0.0</td>\n",
       "      <td>0</td>\n",
       "      <td>0</td>\n",
       "      <td>0</td>\n",
       "      <td>0</td>\n",
       "      <td>For Rent</td>\n",
       "      <td>House</td>\n",
       "      <td>Missing</td>\n",
       "      <td>Nairobi</td>\n",
       "      <td>Karen</td>\n",
       "      <td>Missing</td>\n",
       "      <td>2020-07-24 22:49:46</td>\n",
       "    </tr>\n",
       "    <tr>\n",
       "      <th>2606</th>\n",
       "      <td>2607</td>\n",
       "      <td>450000.0</td>\n",
       "      <td>per month</td>\n",
       "      <td>10</td>\n",
       "      <td>11</td>\n",
       "      <td>0.0</td>\n",
       "      <td>0</td>\n",
       "      <td>0</td>\n",
       "      <td>0</td>\n",
       "      <td>0</td>\n",
       "      <td>For Rent</td>\n",
       "      <td>House</td>\n",
       "      <td>Missing</td>\n",
       "      <td>Nairobi</td>\n",
       "      <td>Karen</td>\n",
       "      <td>Missing</td>\n",
       "      <td>2020-07-24 15:45:11</td>\n",
       "    </tr>\n",
       "    <tr>\n",
       "      <th>12750</th>\n",
       "      <td>12758</td>\n",
       "      <td>12000.0</td>\n",
       "      <td>per month</td>\n",
       "      <td>1</td>\n",
       "      <td>11</td>\n",
       "      <td>1.0</td>\n",
       "      <td>0</td>\n",
       "      <td>0</td>\n",
       "      <td>0</td>\n",
       "      <td>1</td>\n",
       "      <td>For Rent</td>\n",
       "      <td>House</td>\n",
       "      <td>Missing</td>\n",
       "      <td>Mombasa</td>\n",
       "      <td>Nyali</td>\n",
       "      <td>Missing</td>\n",
       "      <td>2022-01-19 13:28:46</td>\n",
       "    </tr>\n",
       "    <tr>\n",
       "      <th>8813</th>\n",
       "      <td>8814</td>\n",
       "      <td>8500000.0</td>\n",
       "      <td>Sale</td>\n",
       "      <td>3</td>\n",
       "      <td>21</td>\n",
       "      <td>3.0</td>\n",
       "      <td>0</td>\n",
       "      <td>0</td>\n",
       "      <td>0</td>\n",
       "      <td>1</td>\n",
       "      <td>For Sale</td>\n",
       "      <td>Apartment</td>\n",
       "      <td>Missing</td>\n",
       "      <td>Kilifi</td>\n",
       "      <td>Mtwapa</td>\n",
       "      <td>Missing</td>\n",
       "      <td>2021-06-22 08:58:52</td>\n",
       "    </tr>\n",
       "    <tr>\n",
       "      <th>11489</th>\n",
       "      <td>11490</td>\n",
       "      <td>13000.0</td>\n",
       "      <td>per month</td>\n",
       "      <td>2</td>\n",
       "      <td>23</td>\n",
       "      <td>2.0</td>\n",
       "      <td>0</td>\n",
       "      <td>0</td>\n",
       "      <td>0</td>\n",
       "      <td>2</td>\n",
       "      <td>For Rent</td>\n",
       "      <td>House</td>\n",
       "      <td>Missing</td>\n",
       "      <td>Mombasa</td>\n",
       "      <td>Bamburi</td>\n",
       "      <td>Missing</td>\n",
       "      <td>2021-11-30 11:08:49</td>\n",
       "    </tr>\n",
       "    <tr>\n",
       "      <th>15882</th>\n",
       "      <td>15890</td>\n",
       "      <td>30000.0</td>\n",
       "      <td>per month</td>\n",
       "      <td>3</td>\n",
       "      <td>32</td>\n",
       "      <td>3.0</td>\n",
       "      <td>0</td>\n",
       "      <td>0</td>\n",
       "      <td>0</td>\n",
       "      <td>2</td>\n",
       "      <td>For Rent</td>\n",
       "      <td>House</td>\n",
       "      <td>Terraced Duplex</td>\n",
       "      <td>Nakuru</td>\n",
       "      <td>London</td>\n",
       "      <td>Missing</td>\n",
       "      <td>2022-06-06 18:04:43</td>\n",
       "    </tr>\n",
       "    <tr>\n",
       "      <th>10477</th>\n",
       "      <td>10478</td>\n",
       "      <td>12250000.0</td>\n",
       "      <td>Sale</td>\n",
       "      <td>2</td>\n",
       "      <td>32</td>\n",
       "      <td>3.0</td>\n",
       "      <td>0</td>\n",
       "      <td>1</td>\n",
       "      <td>0</td>\n",
       "      <td>0</td>\n",
       "      <td>For Sale</td>\n",
       "      <td>Apartment</td>\n",
       "      <td>Missing</td>\n",
       "      <td>Nairobi</td>\n",
       "      <td>Lavington</td>\n",
       "      <td>Missing</td>\n",
       "      <td>2021-10-18 11:28:13</td>\n",
       "    </tr>\n",
       "    <tr>\n",
       "      <th>15731</th>\n",
       "      <td>15739</td>\n",
       "      <td>120000.0</td>\n",
       "      <td>per month</td>\n",
       "      <td>3</td>\n",
       "      <td>32</td>\n",
       "      <td>0.0</td>\n",
       "      <td>0</td>\n",
       "      <td>0</td>\n",
       "      <td>0</td>\n",
       "      <td>2</td>\n",
       "      <td>For Rent</td>\n",
       "      <td>Apartment</td>\n",
       "      <td>Missing</td>\n",
       "      <td>Nairobi</td>\n",
       "      <td>Westlands</td>\n",
       "      <td>Missing</td>\n",
       "      <td>2022-05-31 12:18:13</td>\n",
       "    </tr>\n",
       "    <tr>\n",
       "      <th>9764</th>\n",
       "      <td>9765</td>\n",
       "      <td>59000000.0</td>\n",
       "      <td>Sale</td>\n",
       "      <td>4</td>\n",
       "      <td>54</td>\n",
       "      <td>4.0</td>\n",
       "      <td>0</td>\n",
       "      <td>1</td>\n",
       "      <td>0</td>\n",
       "      <td>0</td>\n",
       "      <td>For Sale</td>\n",
       "      <td>House</td>\n",
       "      <td>Townhouse</td>\n",
       "      <td>Mombasa</td>\n",
       "      <td>Nyali</td>\n",
       "      <td>Missing</td>\n",
       "      <td>2021-09-14 07:19:52</td>\n",
       "    </tr>\n",
       "  </tbody>\n",
       "</table>\n",
       "</div>"
      ],
      "text/plain": [
       "          id       price price_qualifier  bedrooms  bathrooms  toilets  \\\n",
       "12881  12889     10000.0       per month         1         11      1.0   \n",
       "2760    2761    450000.0       per month        10         11      0.0   \n",
       "2606    2607    450000.0       per month        10         11      0.0   \n",
       "12750  12758     12000.0       per month         1         11      1.0   \n",
       "8813    8814   8500000.0            Sale         3         21      3.0   \n",
       "11489  11490     13000.0       per month         2         23      2.0   \n",
       "15882  15890     30000.0       per month         3         32      3.0   \n",
       "10477  10478  12250000.0            Sale         2         32      3.0   \n",
       "15731  15739    120000.0       per month         3         32      0.0   \n",
       "9764    9765  59000000.0            Sale         4         54      4.0   \n",
       "\n",
       "       furnished  serviced  shared  parking  category       type  \\\n",
       "12881          0         0       0        1  For Rent      House   \n",
       "2760           0         0       0        0  For Rent      House   \n",
       "2606           0         0       0        0  For Rent      House   \n",
       "12750          0         0       0        1  For Rent      House   \n",
       "8813           0         0       0        1  For Sale  Apartment   \n",
       "11489          0         0       0        2  For Rent      House   \n",
       "15882          0         0       0        2  For Rent      House   \n",
       "10477          0         1       0        0  For Sale  Apartment   \n",
       "15731          0         0       0        2  For Rent  Apartment   \n",
       "9764           0         1       0        0  For Sale      House   \n",
       "\n",
       "              sub_type    state   locality sub_locality             listdate  \n",
       "12881          Missing  Mombasa      Tudor      Missing  2022-01-25 15:25:41  \n",
       "2760           Missing  Nairobi      Karen      Missing  2020-07-24 22:49:46  \n",
       "2606           Missing  Nairobi      Karen      Missing  2020-07-24 15:45:11  \n",
       "12750          Missing  Mombasa      Nyali      Missing  2022-01-19 13:28:46  \n",
       "8813           Missing   Kilifi     Mtwapa      Missing  2021-06-22 08:58:52  \n",
       "11489          Missing  Mombasa    Bamburi      Missing  2021-11-30 11:08:49  \n",
       "15882  Terraced Duplex   Nakuru     London      Missing  2022-06-06 18:04:43  \n",
       "10477          Missing  Nairobi  Lavington      Missing  2021-10-18 11:28:13  \n",
       "15731          Missing  Nairobi  Westlands      Missing  2022-05-31 12:18:13  \n",
       "9764         Townhouse  Mombasa      Nyali      Missing  2021-09-14 07:19:52  "
      ]
     },
     "execution_count": 59,
     "metadata": {},
     "output_type": "execute_result"
    }
   ],
   "source": [
    "df.sort_values(by='bathrooms',ascending=True).tail(10)"
   ]
  },
  {
   "cell_type": "code",
   "execution_count": 68,
   "metadata": {},
   "outputs": [
    {
     "data": {
      "text/plain": [
       "(9488, 17)"
      ]
     },
     "execution_count": 68,
     "metadata": {},
     "output_type": "execute_result"
    }
   ],
   "source": [
    "# Remove bathrooms more than 10\n",
    "df = df[df.bathrooms <= 10]\n",
    "df.shape"
   ]
  },
  {
   "cell_type": "code",
   "execution_count": 70,
   "metadata": {},
   "outputs": [
    {
     "data": {
      "text/plain": [
       "<matplotlib.axes._subplots.AxesSubplot at 0x29354932e08>"
      ]
     },
     "execution_count": 70,
     "metadata": {},
     "output_type": "execute_result"
    },
    {
     "data": {
      "image/png": "[encoded data removed]",
      "text/plain": [
       "<Figure size 432x288 with 1 Axes>"
      ]
     },
     "metadata": {
      "needs_background": "light"
     },
     "output_type": "display_data"
    }
   ],
   "source": [
    "sns.violinplot(x= 'furnished', data=df)"
   ]
  },
  {
   "cell_type": "code",
   "execution_count": 71,
   "metadata": {},
   "outputs": [
    {
     "data": {
      "text/plain": [
       "<matplotlib.axes._subplots.AxesSubplot at 0x29354995888>"
      ]
     },
     "execution_count": 71,
     "metadata": {},
     "output_type": "execute_result"
    },
    {
     "data": {
      "image/png": "[encoded data removed]",
      "text/plain": [
       "<Figure size 432x288 with 1 Axes>"
      ]
     },
     "metadata": {
      "needs_background": "light"
     },
     "output_type": "display_data"
    }
   ],
   "source": [
    "sns.violinplot(x= 'serviced', data=df)"
   ]
  },
  {
   "cell_type": "code",
   "execution_count": 72,
   "metadata": {},
   "outputs": [
    {
     "data": {
      "text/plain": [
       "<matplotlib.axes._subplots.AxesSubplot at 0x293549f7a88>"
      ]
     },
     "execution_count": 72,
     "metadata": {},
     "output_type": "execute_result"
    },
    {
     "data": {
      "image/png": "[encoded data removed]",
      "text/plain": [
       "<Figure size 432x288 with 1 Axes>"
      ]
     },
     "metadata": {
      "needs_background": "light"
     },
     "output_type": "display_data"
    }
   ],
   "source": [
    "sns.violinplot(x= 'shared', data=df)"
   ]
  },
  {
   "cell_type": "code",
   "execution_count": 73,
   "metadata": {},
   "outputs": [
    {
     "data": {
      "text/plain": [
       "<matplotlib.axes._subplots.AxesSubplot at 0x29354a4b348>"
      ]
     },
     "execution_count": 73,
     "metadata": {},
     "output_type": "execute_result"
    },
    {
     "data": {
      "image/png": "[encoded data removed]",
      "text/plain": [
       "<Figure size 432x288 with 1 Axes>"
      ]
     },
     "metadata": {
      "needs_background": "light"
     },
     "output_type": "display_data"
    }
   ],
   "source": [
    "\n",
    "sns.violinplot(x= 'parking', data=df)"
   ]
  },
  {
   "cell_type": "code",
   "execution_count": 81,
   "metadata": {},
   "outputs": [
    {
     "data": {
      "text/html": [
       "<div>\n",
       "<style scoped>\n",
       "    .dataframe tbody tr th:only-of-type {\n",
       "        vertical-align: middle;\n",
       "    }\n",
       "\n",
       "    .dataframe tbody tr th {\n",
       "        vertical-align: top;\n",
       "    }\n",
       "\n",
       "    .dataframe thead th {\n",
       "        text-align: right;\n",
       "    }\n",
       "</style>\n",
       "<table border=\"1\" class=\"dataframe\">\n",
       "  <thead>\n",
       "    <tr style=\"text-align: right;\">\n",
       "      <th></th>\n",
       "      <th>id</th>\n",
       "      <th>price</th>\n",
       "      <th>price_qualifier</th>\n",
       "      <th>bedrooms</th>\n",
       "      <th>bathrooms</th>\n",
       "      <th>toilets</th>\n",
       "      <th>furnished</th>\n",
       "      <th>serviced</th>\n",
       "      <th>shared</th>\n",
       "      <th>parking</th>\n",
       "      <th>category</th>\n",
       "      <th>type</th>\n",
       "      <th>sub_type</th>\n",
       "      <th>state</th>\n",
       "      <th>locality</th>\n",
       "      <th>sub_locality</th>\n",
       "      <th>listdate</th>\n",
       "    </tr>\n",
       "  </thead>\n",
       "  <tbody>\n",
       "    <tr>\n",
       "      <th>8807</th>\n",
       "      <td>8808</td>\n",
       "      <td>120000.0</td>\n",
       "      <td>per month</td>\n",
       "      <td>3</td>\n",
       "      <td>3</td>\n",
       "      <td>4.0</td>\n",
       "      <td>0</td>\n",
       "      <td>0</td>\n",
       "      <td>0</td>\n",
       "      <td>22</td>\n",
       "      <td>For Rent</td>\n",
       "      <td>Apartment</td>\n",
       "      <td>Missing</td>\n",
       "      <td>Mombasa</td>\n",
       "      <td>Nyali</td>\n",
       "      <td>Missing</td>\n",
       "      <td>2021-06-21 17:36:23</td>\n",
       "    </tr>\n",
       "    <tr>\n",
       "      <th>14672</th>\n",
       "      <td>14680</td>\n",
       "      <td>1200000.0</td>\n",
       "      <td>per month</td>\n",
       "      <td>8</td>\n",
       "      <td>4</td>\n",
       "      <td>4.0</td>\n",
       "      <td>0</td>\n",
       "      <td>0</td>\n",
       "      <td>0</td>\n",
       "      <td>50</td>\n",
       "      <td>For Rent</td>\n",
       "      <td>House</td>\n",
       "      <td>Missing</td>\n",
       "      <td>Nairobi</td>\n",
       "      <td>Lavington</td>\n",
       "      <td>Missing</td>\n",
       "      <td>2022-03-23 21:47:55</td>\n",
       "    </tr>\n",
       "    <tr>\n",
       "      <th>15742</th>\n",
       "      <td>15750</td>\n",
       "      <td>35000.0</td>\n",
       "      <td>per month</td>\n",
       "      <td>1</td>\n",
       "      <td>1</td>\n",
       "      <td>1.0</td>\n",
       "      <td>0</td>\n",
       "      <td>0</td>\n",
       "      <td>0</td>\n",
       "      <td>100</td>\n",
       "      <td>For Rent</td>\n",
       "      <td>Apartment</td>\n",
       "      <td>Missing</td>\n",
       "      <td>Kiambu</td>\n",
       "      <td>Ruaka</td>\n",
       "      <td>Missing</td>\n",
       "      <td>2022-05-31 16:07:22</td>\n",
       "    </tr>\n",
       "    <tr>\n",
       "      <th>15767</th>\n",
       "      <td>15775</td>\n",
       "      <td>11000.0</td>\n",
       "      <td>per month</td>\n",
       "      <td>1</td>\n",
       "      <td>1</td>\n",
       "      <td>1.0</td>\n",
       "      <td>0</td>\n",
       "      <td>0</td>\n",
       "      <td>0</td>\n",
       "      <td>118453525</td>\n",
       "      <td>For Rent</td>\n",
       "      <td>Apartment</td>\n",
       "      <td>Missing</td>\n",
       "      <td>Kisumu</td>\n",
       "      <td>Market Milimani</td>\n",
       "      <td>Missing</td>\n",
       "      <td>2022-06-01 17:09:34</td>\n",
       "    </tr>\n",
       "    <tr>\n",
       "      <th>15756</th>\n",
       "      <td>15764</td>\n",
       "      <td>9000.0</td>\n",
       "      <td>per month</td>\n",
       "      <td>1</td>\n",
       "      <td>0</td>\n",
       "      <td>1.0</td>\n",
       "      <td>0</td>\n",
       "      <td>0</td>\n",
       "      <td>0</td>\n",
       "      <td>723110898</td>\n",
       "      <td>For Rent</td>\n",
       "      <td>House</td>\n",
       "      <td>Missing</td>\n",
       "      <td>Kiambu</td>\n",
       "      <td>Ruaka</td>\n",
       "      <td>Missing</td>\n",
       "      <td>2022-06-01 13:25:40</td>\n",
       "    </tr>\n",
       "  </tbody>\n",
       "</table>\n",
       "</div>"
      ],
      "text/plain": [
       "          id      price price_qualifier  bedrooms  bathrooms  toilets  \\\n",
       "8807    8808   120000.0       per month         3          3      4.0   \n",
       "14672  14680  1200000.0       per month         8          4      4.0   \n",
       "15742  15750    35000.0       per month         1          1      1.0   \n",
       "15767  15775    11000.0       per month         1          1      1.0   \n",
       "15756  15764     9000.0       per month         1          0      1.0   \n",
       "\n",
       "       furnished  serviced  shared    parking  category       type sub_type  \\\n",
       "8807           0         0       0         22  For Rent  Apartment  Missing   \n",
       "14672          0         0       0         50  For Rent      House  Missing   \n",
       "15742          0         0       0        100  For Rent  Apartment  Missing   \n",
       "15767          0         0       0  118453525  For Rent  Apartment  Missing   \n",
       "15756          0         0       0  723110898  For Rent      House  Missing   \n",
       "\n",
       "         state         locality sub_locality             listdate  \n",
       "8807   Mombasa            Nyali      Missing  2021-06-21 17:36:23  \n",
       "14672  Nairobi        Lavington      Missing  2022-03-23 21:47:55  \n",
       "15742   Kiambu            Ruaka      Missing  2022-05-31 16:07:22  \n",
       "15767   Kisumu  Market Milimani      Missing  2022-06-01 17:09:34  \n",
       "15756   Kiambu            Ruaka      Missing  2022-06-01 13:25:40  "
      ]
     },
     "execution_count": 81,
     "metadata": {},
     "output_type": "execute_result"
    }
   ],
   "source": [
    "df.sort_values(by='parking').tail()"
   ]
  },
  {
   "cell_type": "code",
   "execution_count": 85,
   "metadata": {},
   "outputs": [
    {
     "data": {
      "text/plain": [
       "(9464, 17)"
      ]
     },
     "execution_count": 85,
     "metadata": {},
     "output_type": "execute_result"
    }
   ],
   "source": [
    "#remove parking greater than 10\n",
    "df = df[df.parking < 10]\n",
    "df.shape"
   ]
  },
  {
   "cell_type": "code",
   "execution_count": 87,
   "metadata": {},
   "outputs": [
    {
     "data": {
      "text/plain": [
       "<matplotlib.axes._subplots.AxesSubplot at 0x29355aed6c8>"
      ]
     },
     "execution_count": 87,
     "metadata": {},
     "output_type": "execute_result"
    },
    {
     "data": {
      "image/png": "[encoded data removed]",
      "text/plain": [
       "<Figure size 432x288 with 1 Axes>"
      ]
     },
     "metadata": {
      "needs_background": "light"
     },
     "output_type": "display_data"
    }
   ],
   "source": [
    "sns.violinplot(x= 'price', data=df_rental)"
   ]
  },
  {
   "cell_type": "markdown",
   "metadata": {},
   "source": [
    "<p>According to the Kenya property center dataset  it gives the highest rent value in Nairobi county to be 600,0000 and the lowest being 5500</p>\n",
    "<p>Remove observations that are not in the range of 700,000 and 4,000</p>"
   ]
  },
  {
   "cell_type": "code",
   "execution_count": 104,
   "metadata": {},
   "outputs": [
    {
     "data": {
      "text/plain": [
       "(4850, 17)"
      ]
     },
     "execution_count": 104,
     "metadata": {},
     "output_type": "execute_result"
    }
   ],
   "source": [
    "#remove price greater than 700000\n",
    "df = df[df.parking < 10]\n",
    "df.shape"
   ]
  },
  {
   "cell_type": "code",
   "execution_count": 86,
   "metadata": {},
   "outputs": [
    {
     "data": {
      "text/plain": [
       "<matplotlib.axes._subplots.AxesSubplot at 0x29354ad0488>"
      ]
     },
     "execution_count": 86,
     "metadata": {},
     "output_type": "execute_result"
    },
    {
     "data": {
      "image/png": "[encoded data removed]",
      "text/plain": [
       "<Figure size 432x288 with 1 Axes>"
      ]
     },
     "metadata": {
      "needs_background": "light"
     },
     "output_type": "display_data"
    }
   ],
   "source": [
    "sns.violinplot(x= 'price', data=df_sale)"
   ]
  }
 ],
 "metadata": {
  "kernelspec": {
   "display_name": "Python 3",
   "language": "python",
   "name": "python3"
  },
  "language_info": {
   "codemirror_mode": {
    "name": "ipython",
    "version": 3
   },
   "file_extension": ".py",
   "mimetype": "text/x-python",
   "name": "python",
   "nbconvert_exporter": "python",
   "pygments_lexer": "ipython3",
   "version": "3.7.6"
  }
 },
 "nbformat": 4,
 "nbformat_minor": 4
}
