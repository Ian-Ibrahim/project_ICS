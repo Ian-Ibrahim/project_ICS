{
 "cells": [
  {
   "cell_type": "markdown",
   "metadata": {},
   "source": [
    "<h1>Data cleaning</h1>\n",
    "<hr>\n",
    "<p>In this module we will:</p>\n",
    "<ul>\n",
    "    <li>Remove unwanted outliers</li>\n",
    "    <li>Remove unwanted observations</li>\n",
    "    <li>Label missing categorical data</li>\n",
    "    <li>Drop unwanted outliers</li>\n",
    "    <li>Flag and fill missing numerical data</li>\n",
    "    <li>Change to correct data types</li>\n",
    "</ul>"
   ]
  },
  {
   "cell_type": "code",
   "execution_count": 1,
   "metadata": {},
   "outputs": [],
   "source": [
    "# import libraries\n",
    "import numpy as np\n",
    "import pandas as pd\n",
    "from matplotlib import pyplot as plt\n",
    "%matplotlib inline \n",
    "import seaborn as sns"
   ]
  },
  {
   "cell_type": "code",
   "execution_count": 2,
   "metadata": {},
   "outputs": [],
   "source": [
    "#import dataset\n",
    "df=pd.read_csv(\"project_files/kenya_listings.csv\")"
   ]
  },
  {
   "cell_type": "code",
   "execution_count": 3,
   "metadata": {},
   "outputs": [
    {
     "data": {
      "text/plain": [
       "(16117, 17)"
      ]
     },
     "execution_count": 3,
     "metadata": {},
     "output_type": "execute_result"
    }
   ],
   "source": [
    "df.shape"
   ]
  },
  {
   "cell_type": "markdown",
   "metadata": {},
   "source": [
    "<h2>Flag and fill missing numerical data</h2>\n",
    "<p>Checking null/missing values in the dataset</p>"
   ]
  },
  {
   "cell_type": "code",
   "execution_count": 4,
   "metadata": {},
   "outputs": [
    {
     "data": {
      "text/html": [
       "<div>\n",
       "<style scoped>\n",
       "    .dataframe tbody tr th:only-of-type {\n",
       "        vertical-align: middle;\n",
       "    }\n",
       "\n",
       "    .dataframe tbody tr th {\n",
       "        vertical-align: top;\n",
       "    }\n",
       "\n",
       "    .dataframe thead th {\n",
       "        text-align: right;\n",
       "    }\n",
       "</style>\n",
       "<table border=\"1\" class=\"dataframe\">\n",
       "  <thead>\n",
       "    <tr style=\"text-align: right;\">\n",
       "      <th></th>\n",
       "      <th>Missing values</th>\n",
       "      <th>% Missing values</th>\n",
       "    </tr>\n",
       "  </thead>\n",
       "  <tbody>\n",
       "    <tr>\n",
       "      <th>id</th>\n",
       "      <td>0</td>\n",
       "      <td>0.000000</td>\n",
       "    </tr>\n",
       "    <tr>\n",
       "      <th>price</th>\n",
       "      <td>3</td>\n",
       "      <td>0.018614</td>\n",
       "    </tr>\n",
       "    <tr>\n",
       "      <th>price_qualifier</th>\n",
       "      <td>8870</td>\n",
       "      <td>55.035056</td>\n",
       "    </tr>\n",
       "    <tr>\n",
       "      <th>bedrooms</th>\n",
       "      <td>0</td>\n",
       "      <td>0.000000</td>\n",
       "    </tr>\n",
       "    <tr>\n",
       "      <th>bathrooms</th>\n",
       "      <td>0</td>\n",
       "      <td>0.000000</td>\n",
       "    </tr>\n",
       "    <tr>\n",
       "      <th>toilets</th>\n",
       "      <td>10028</td>\n",
       "      <td>62.220016</td>\n",
       "    </tr>\n",
       "    <tr>\n",
       "      <th>furnished</th>\n",
       "      <td>0</td>\n",
       "      <td>0.000000</td>\n",
       "    </tr>\n",
       "    <tr>\n",
       "      <th>serviced</th>\n",
       "      <td>0</td>\n",
       "      <td>0.000000</td>\n",
       "    </tr>\n",
       "    <tr>\n",
       "      <th>shared</th>\n",
       "      <td>0</td>\n",
       "      <td>0.000000</td>\n",
       "    </tr>\n",
       "    <tr>\n",
       "      <th>parking</th>\n",
       "      <td>0</td>\n",
       "      <td>0.000000</td>\n",
       "    </tr>\n",
       "    <tr>\n",
       "      <th>category</th>\n",
       "      <td>0</td>\n",
       "      <td>0.000000</td>\n",
       "    </tr>\n",
       "    <tr>\n",
       "      <th>type</th>\n",
       "      <td>0</td>\n",
       "      <td>0.000000</td>\n",
       "    </tr>\n",
       "    <tr>\n",
       "      <th>sub_type</th>\n",
       "      <td>9817</td>\n",
       "      <td>60.910839</td>\n",
       "    </tr>\n",
       "    <tr>\n",
       "      <th>state</th>\n",
       "      <td>0</td>\n",
       "      <td>0.000000</td>\n",
       "    </tr>\n",
       "    <tr>\n",
       "      <th>locality</th>\n",
       "      <td>6</td>\n",
       "      <td>0.037228</td>\n",
       "    </tr>\n",
       "    <tr>\n",
       "      <th>sub_locality</th>\n",
       "      <td>15071</td>\n",
       "      <td>93.509958</td>\n",
       "    </tr>\n",
       "    <tr>\n",
       "      <th>listdate</th>\n",
       "      <td>0</td>\n",
       "      <td>0.000000</td>\n",
       "    </tr>\n",
       "  </tbody>\n",
       "</table>\n",
       "</div>"
      ],
      "text/plain": [
       "                 Missing values  % Missing values\n",
       "id                            0          0.000000\n",
       "price                         3          0.018614\n",
       "price_qualifier            8870         55.035056\n",
       "bedrooms                      0          0.000000\n",
       "bathrooms                     0          0.000000\n",
       "toilets                   10028         62.220016\n",
       "furnished                     0          0.000000\n",
       "serviced                      0          0.000000\n",
       "shared                        0          0.000000\n",
       "parking                       0          0.000000\n",
       "category                      0          0.000000\n",
       "type                          0          0.000000\n",
       "sub_type                   9817         60.910839\n",
       "state                         0          0.000000\n",
       "locality                      6          0.037228\n",
       "sub_locality              15071         93.509958\n",
       "listdate                      0          0.000000"
      ]
     },
     "execution_count": 4,
     "metadata": {},
     "output_type": "execute_result"
    }
   ],
   "source": [
    "#df.select_dtypes(exclude=['object']).isnull().sum()\n",
    "count=df.isna().sum()\n",
    "percent=((count/df.shape[0])*100)\n",
    "null=pd.DataFrame(pd.concat([count,percent],keys=['Missing values','% Missing values'],axis=1))\n",
    "null"
   ]
  },
  {
   "cell_type": "code",
   "execution_count": 5,
   "metadata": {},
   "outputs": [],
   "source": [
    "# Missing toilet values should be 0\n",
    "df['toilets'] = df['toilets'].fillna(0)"
   ]
  },
  {
   "cell_type": "code",
   "execution_count": 6,
   "metadata": {},
   "outputs": [],
   "source": [
    "df['price'] = df['price'].fillna(0)"
   ]
  },
  {
   "cell_type": "markdown",
   "metadata": {},
   "source": [
    "<h2>Fixing structural errors</h2>"
   ]
  },
  {
   "cell_type": "code",
   "execution_count": 7,
   "metadata": {},
   "outputs": [
    {
     "data": {
      "text/plain": [
       "per month                       6227\n",
       "per calendar month               373\n",
       "per plot                         228\n",
       "per acre                         128\n",
       "per square foot / per month      112\n",
       "per day                           62\n",
       "per square meter / per month      55\n",
       "per square foot / per week        46\n",
       "per hectare                        6\n",
       "per square meter / per week        5\n",
       "per square foot / per annum        3\n",
       "per square foot                    1\n",
       "per square meter                   1\n",
       "Name: price_qualifier, dtype: int64"
      ]
     },
     "execution_count": 7,
     "metadata": {},
     "output_type": "execute_result"
    }
   ],
   "source": [
    "df.price_qualifier.value_counts()"
   ]
  },
  {
   "cell_type": "code",
   "execution_count": 7,
   "metadata": {},
   "outputs": [
    {
     "data": {
      "text/plain": [
       "House                   6026\n",
       "Apartment               5840\n",
       "Land                    2669\n",
       "Commercial Property     1580\n",
       "Event Centre / Venue       2\n",
       "Name: type, dtype: int64"
      ]
     },
     "execution_count": 7,
     "metadata": {},
     "output_type": "execute_result"
    }
   ],
   "source": [
    "df.type.value_counts()"
   ]
  },
  {
   "cell_type": "code",
   "execution_count": 8,
   "metadata": {},
   "outputs": [
    {
     "data": {
      "text/plain": [
       "Townhouse                               1563\n",
       "Office Space                             872\n",
       "Residential Land                         810\n",
       "Detached Duplex                          630\n",
       "Detached Bungalow                        579\n",
       "Mixed-use Land                           376\n",
       "Semi-detached Bungalow                   286\n",
       "Mini Flat                                244\n",
       "Commercial Land                          205\n",
       "Bedsitter (Single Room)                  191\n",
       "Warehouse                                186\n",
       "Semi-detached Duplex                      74\n",
       "Terraced Duplex                           55\n",
       "Shop                                      45\n",
       "Plaza / Complex / Mall                    45\n",
       "Block of Flats                            30\n",
       "Terraced Bungalow                         29\n",
       "Hotel / Guest House                       27\n",
       "Restaurant / Bar                          24\n",
       "Industrial Land                           14\n",
       "School                                     5\n",
       "Factory                                    3\n",
       "Filling Station                            3\n",
       "Tank Farm                                  2\n",
       "Conference / Meeting / Training Room       1\n",
       "Hostel                                     1\n",
       "Name: sub_type, dtype: int64"
      ]
     },
     "execution_count": 8,
     "metadata": {},
     "output_type": "execute_result"
    }
   ],
   "source": [
    "df.sub_type.value_counts()"
   ]
  },
  {
   "cell_type": "code",
   "execution_count": 9,
   "metadata": {},
   "outputs": [
    {
     "data": {
      "text/plain": [
       "Nairobi          8935\n",
       "Kiambu           2694\n",
       "Kajiado          1294\n",
       "Mombasa          1125\n",
       "Machakos          534\n",
       "Kilifi            480\n",
       "Nakuru            290\n",
       "Kisumu            150\n",
       "Laikipia           97\n",
       "Kwale              78\n",
       "Embu               44\n",
       "Uasin Gishu        43\n",
       "Meru               42\n",
       "Nyeri              39\n",
       "Nandi              38\n",
       "Makueni            30\n",
       "Baringo            28\n",
       "Muranga            27\n",
       "Bungoma            21\n",
       "Kirinyaga          17\n",
       "Kitui              13\n",
       "Nyandarua          12\n",
       "Kericho            11\n",
       "Kakamega           10\n",
       "Trans Nzoia        10\n",
       "Kisii               9\n",
       "Isiolo              7\n",
       "Lamu                6\n",
       "Busia               6\n",
       "Narok               4\n",
       "Tharaka-Nithi       3\n",
       "Bomet               3\n",
       "Homa Bay            3\n",
       "Garissa             2\n",
       "Migori              2\n",
       "Siaya               2\n",
       "Samburu             2\n",
       "Vihiga              2\n",
       "Taita Taveta        1\n",
       "West Pokot          1\n",
       "Marsabit            1\n",
       "Turkana             1\n",
       "Name: state, dtype: int64"
      ]
     },
     "execution_count": 9,
     "metadata": {},
     "output_type": "execute_result"
    }
   ],
   "source": [
    "df.state.value_counts()"
   ]
  },
  {
   "cell_type": "code",
   "execution_count": 10,
   "metadata": {},
   "outputs": [
    {
     "data": {
      "text/plain": [
       "Westlands          2446\n",
       "Kilimani           1199\n",
       "Kikuyu             1064\n",
       "Lavington           891\n",
       "Karen               750\n",
       "                   ... \n",
       "Silale                1\n",
       "Ting'Ang'A            1\n",
       "Migwani               1\n",
       "Kadzandani            1\n",
       "Lodwar Township       1\n",
       "Name: locality, Length: 357, dtype: int64"
      ]
     },
     "execution_count": 10,
     "metadata": {},
     "output_type": "execute_result"
    }
   ],
   "source": [
    "df.locality.value_counts()"
   ]
  },
  {
   "cell_type": "code",
   "execution_count": 11,
   "metadata": {},
   "outputs": [
    {
     "data": {
      "text/plain": [
       "Runda              553\n",
       "Loresho            107\n",
       "South C             83\n",
       "Industrial Area     80\n",
       "Thigio              34\n",
       "Muthaiga North      23\n",
       "Old Muthaiga        22\n",
       "Chiromo             20\n",
       "South B             19\n",
       "Rimpa               18\n",
       "Tassia              13\n",
       "Yukos               11\n",
       "Imara Daima         10\n",
       "Githurai 44         10\n",
       "Rosslyn              9\n",
       "Clay City            8\n",
       "Githurai 45          5\n",
       "Umoja Phase 1        5\n",
       "Lucky Summer         4\n",
       "New Muthaiga         3\n",
       "Umoja Phase 2        3\n",
       "Mukuru Village       1\n",
       "Kariba               1\n",
       "Kihingo              1\n",
       "Kwa Njenga           1\n",
       "Lindi                1\n",
       "Kiembeni             1\n",
       "Name: sub_locality, dtype: int64"
      ]
     },
     "execution_count": 11,
     "metadata": {},
     "output_type": "execute_result"
    }
   ],
   "source": [
    "df.sub_locality.value_counts()"
   ]
  },
  {
   "cell_type": "code",
   "execution_count": 12,
   "metadata": {},
   "outputs": [
    {
     "data": {
      "text/plain": [
       "For Sale         9108\n",
       "For Rent         6916\n",
       "Short Let          84\n",
       "Joint Venture       9\n",
       "Name: category, dtype: int64"
      ]
     },
     "execution_count": 12,
     "metadata": {},
     "output_type": "execute_result"
    }
   ],
   "source": [
    "df.category.value_counts()"
   ]
  },
  {
   "cell_type": "markdown",
   "metadata": {},
   "source": [
    "<p>We should change those apartment properties that have zero bedrooms to become bedsitter sub type</p>"
   ]
  },
  {
   "cell_type": "code",
   "execution_count": 45,
   "metadata": {},
   "outputs": [
    {
     "data": {
      "text/plain": [
       "(11, 17)"
      ]
     },
     "execution_count": 45,
     "metadata": {},
     "output_type": "execute_result"
    }
   ],
   "source": [
    "df.loc[(df['bedrooms']==0)&(df['sub_type']=='Missing')].shape\n",
    "#Bedsitter (Single Room)"
   ]
  },
  {
   "cell_type": "code",
   "execution_count": 46,
   "metadata": {},
   "outputs": [],
   "source": [
    "df.loc[(df['bedrooms']==0)&(df['sub_type']=='Missing'),'sub_type']='Bedsitter (Single Room)'"
   ]
  },
  {
   "cell_type": "markdown",
   "metadata": {},
   "source": [
    "<p>We are going to change price qualifiers with the value 'per calender month' to be 'per month'</p>"
   ]
  },
  {
   "cell_type": "code",
   "execution_count": 47,
   "metadata": {},
   "outputs": [],
   "source": [
    "df.loc[(df['price_qualifier']=='per calendar month'),'price_qualifier']='per month'"
   ]
  },
  {
   "cell_type": "code",
   "execution_count": 48,
   "metadata": {},
   "outputs": [
    {
     "data": {
      "text/plain": [
       "per month    4787\n",
       "Missing      4718\n",
       "Name: price_qualifier, dtype: int64"
      ]
     },
     "execution_count": 48,
     "metadata": {},
     "output_type": "execute_result"
    }
   ],
   "source": [
    "df.price_qualifier.value_counts()"
   ]
  },
  {
   "cell_type": "markdown",
   "metadata": {},
   "source": [
    "<p>We are going to change properties that are listed for rent to all have price qualifier of per month</p>"
   ]
  },
  {
   "cell_type": "code",
   "execution_count": 73,
   "metadata": {},
   "outputs": [],
   "source": [
    "df.loc[(df['category']=='For Rent')&(df['price_qualifier']=='Missing'),'price_qualifier']='per month'"
   ]
  },
  {
   "cell_type": "markdown",
   "metadata": {},
   "source": [
    "<p>We are going to make all properties listed for sale to have a price qualifier of sale</p>"
   ]
  },
  {
   "cell_type": "code",
   "execution_count": 74,
   "metadata": {},
   "outputs": [],
   "source": [
    "df.loc[(df['category']=='For Sale')&(df['price_qualifier']=='Missing'),'price_qualifier']='Sale'"
   ]
  },
  {
   "cell_type": "code",
   "execution_count": 75,
   "metadata": {},
   "outputs": [
    {
     "data": {
      "text/plain": [
       "For Rent    4812\n",
       "For Sale    4276\n",
       "Name: category, dtype: int64"
      ]
     },
     "execution_count": 75,
     "metadata": {},
     "output_type": "execute_result"
    }
   ],
   "source": [
    "df.category.value_counts()"
   ]
  },
  {
   "cell_type": "markdown",
   "metadata": {},
   "source": [
    "<p>we are going to change properties with short let to be rental properties</p>"
   ]
  },
  {
   "cell_type": "code",
   "execution_count": 49,
   "metadata": {},
   "outputs": [],
   "source": [
    "df.loc[(df['category']=='Short Let'),'category']='For Rent'"
   ]
  },
  {
   "cell_type": "markdown",
   "metadata": {},
   "source": [
    "<p>We are going to change block of flats from house to apartments</p>"
   ]
  },
  {
   "cell_type": "code",
   "execution_count": 50,
   "metadata": {},
   "outputs": [],
   "source": [
    "df.loc[(df['sub_type']=='Block of Flats'),'type']='Apartment'"
   ]
  },
  {
   "cell_type": "markdown",
   "metadata": {},
   "source": [
    "<h2>Labelling missing categorical features</h2>"
   ]
  },
  {
   "cell_type": "code",
   "execution_count": 17,
   "metadata": {},
   "outputs": [
    {
     "data": {
      "text/plain": [
       "price_qualifier     8870\n",
       "category               0\n",
       "type                   0\n",
       "sub_type            9817\n",
       "state                  0\n",
       "locality               6\n",
       "sub_locality       15071\n",
       "listdate               0\n",
       "dtype: int64"
      ]
     },
     "execution_count": 17,
     "metadata": {},
     "output_type": "execute_result"
    }
   ],
   "source": [
    "df.select_dtypes(include=['object']).isnull().sum()"
   ]
  },
  {
   "cell_type": "code",
   "execution_count": 18,
   "metadata": {},
   "outputs": [],
   "source": [
    "for column in df.select_dtypes(include=['object']).columns.tolist():\n",
    "    df[column] = df[column].fillna('Missing')"
   ]
  },
  {
   "cell_type": "code",
   "execution_count": 19,
   "metadata": {},
   "outputs": [
    {
     "data": {
      "text/plain": [
       "price_qualifier    0\n",
       "category           0\n",
       "type               0\n",
       "sub_type           0\n",
       "state              0\n",
       "locality           0\n",
       "sub_locality       0\n",
       "listdate           0\n",
       "dtype: int64"
      ]
     },
     "execution_count": 19,
     "metadata": {},
     "output_type": "execute_result"
    }
   ],
   "source": [
    "df.select_dtypes(include=['object']).isnull().sum()"
   ]
  },
  {
   "cell_type": "markdown",
   "metadata": {},
   "source": [
    "<h2>Dropping unwanted observations</h2>"
   ]
  },
  {
   "cell_type": "code",
   "execution_count": 20,
   "metadata": {},
   "outputs": [
    {
     "data": {
      "text/plain": [
       "(16117, 17)"
      ]
     },
     "execution_count": 20,
     "metadata": {},
     "output_type": "execute_result"
    }
   ],
   "source": [
    "#removing duplicates in the dataset\n",
    "df=df.drop_duplicates()\n",
    "df.shape"
   ]
  },
  {
   "cell_type": "markdown",
   "metadata": {},
   "source": [
    "<p>\n",
    "    There are some properties that will be removed in the dataset which includes:\n",
    "    <ul>\n",
    "        <li>Property types-land,commercial property,event centers since we are interested in habitable premises such as apartments and houses.</li>\n",
    "    </ul>\n",
    "</p>\n",
    "    "
   ]
  },
  {
   "cell_type": "code",
   "execution_count": 21,
   "metadata": {},
   "outputs": [],
   "source": [
    "df=df.loc[(df['type']=='House')| (df['type']=='Apartment')]"
   ]
  },
  {
   "cell_type": "markdown",
   "metadata": {},
   "source": [
    "<ul>\n",
    "    <li>Remove properties with joint venture attribute in category</li>\n",
    "<ul>"
   ]
  },
  {
   "cell_type": "code",
   "execution_count": 22,
   "metadata": {},
   "outputs": [],
   "source": [
    "df=df.loc[(df['category']!='Joint Venture')]"
   ]
  },
  {
   "cell_type": "markdown",
   "metadata": {},
   "source": [
    "<ul>\n",
    "    <li>Remove properties with per day attribute in price qualifier</li>\n",
    "<ul>"
   ]
  },
  {
   "cell_type": "code",
   "execution_count": 23,
   "metadata": {},
   "outputs": [
    {
     "data": {
      "text/plain": [
       "(61, 17)"
      ]
     },
     "execution_count": 23,
     "metadata": {},
     "output_type": "execute_result"
    }
   ],
   "source": [
    "df.loc[(df['price_qualifier']=='per day')].shape"
   ]
  },
  {
   "cell_type": "code",
   "execution_count": 24,
   "metadata": {},
   "outputs": [
    {
     "data": {
      "text/plain": [
       "(0, 17)"
      ]
     },
     "execution_count": 24,
     "metadata": {},
     "output_type": "execute_result"
    }
   ],
   "source": [
    "df=df.loc[(df['price_qualifier'])!='per day']\n",
    "df.loc[(df['price_qualifier']=='per day')].shape"
   ]
  },
  {
   "cell_type": "markdown",
   "metadata": {},
   "source": [
    "<ul>\n",
    "    <li>Properties with price of zero</li>\n",
    "<ul>"
   ]
  },
  {
   "cell_type": "code",
   "execution_count": 25,
   "metadata": {},
   "outputs": [
    {
     "data": {
      "text/plain": [
       "(61, 17)"
      ]
     },
     "execution_count": 25,
     "metadata": {},
     "output_type": "execute_result"
    }
   ],
   "source": [
    "df.loc[(df['price']==0)].shape"
   ]
  },
  {
   "cell_type": "code",
   "execution_count": 26,
   "metadata": {},
   "outputs": [
    {
     "data": {
      "text/plain": [
       "(0, 17)"
      ]
     },
     "execution_count": 26,
     "metadata": {},
     "output_type": "execute_result"
    }
   ],
   "source": [
    "df=df.loc[(df['price'])!=0]\n",
    "df.loc[(df['price']==0)].shape"
   ]
  },
  {
   "cell_type": "markdown",
   "metadata": {},
   "source": [
    "<ul>\n",
    "    <li>Properties that have no toilets and bathrooms.</li>\n",
    "    <sub>we did not remove toilet==0 Or bathrooms==0 since some properties may combine toilet and bathroom into a shared facility</sub>\n",
    "</ul>"
   ]
  },
  {
   "cell_type": "code",
   "execution_count": 27,
   "metadata": {},
   "outputs": [
    {
     "data": {
      "text/plain": [
       "(2227, 17)"
      ]
     },
     "execution_count": 27,
     "metadata": {},
     "output_type": "execute_result"
    }
   ],
   "source": [
    "df.loc[(df['toilets']==0)&(df['bathrooms']==0)].shape"
   ]
  },
  {
   "cell_type": "code",
   "execution_count": 28,
   "metadata": {},
   "outputs": [
    {
     "data": {
      "text/plain": [
       "(0, 17)"
      ]
     },
     "execution_count": 28,
     "metadata": {},
     "output_type": "execute_result"
    }
   ],
   "source": [
    "df=df.loc[~((df['toilets']==0)&(df['bathrooms']==0))]\n",
    "df.loc[(df['toilets']==0)&(df['bathrooms']==0)].shape"
   ]
  },
  {
   "cell_type": "markdown",
   "metadata": {},
   "source": [
    "<ul>\n",
    "    <li>Properties that have missing value for the locality column.</li>\n",
    "</ul>"
   ]
  },
  {
   "cell_type": "code",
   "execution_count": 29,
   "metadata": {},
   "outputs": [
    {
     "data": {
      "text/plain": [
       "(3, 17)"
      ]
     },
     "execution_count": 29,
     "metadata": {},
     "output_type": "execute_result"
    }
   ],
   "source": [
    "df.loc[(df['locality']=='Missing')].shape"
   ]
  },
  {
   "cell_type": "code",
   "execution_count": 30,
   "metadata": {},
   "outputs": [
    {
     "data": {
      "text/plain": [
       "(0, 17)"
      ]
     },
     "execution_count": 30,
     "metadata": {},
     "output_type": "execute_result"
    }
   ],
   "source": [
    "df=df.loc[~(df['locality']=='Missing')]\n",
    "df.loc[(df['locality']=='Missing')].shape"
   ]
  },
  {
   "cell_type": "markdown",
   "metadata": {},
   "source": [
    "<ul>\n",
    "    <li>Bedsitters with bedrooms</li>\n",
    "<ul>"
   ]
  },
  {
   "cell_type": "code",
   "execution_count": 31,
   "metadata": {},
   "outputs": [
    {
     "data": {
      "text/plain": [
       "(3, 17)"
      ]
     },
     "execution_count": 31,
     "metadata": {},
     "output_type": "execute_result"
    }
   ],
   "source": [
    "df.loc[(df['sub_type']=='Bedsitter (Single Room)')&(df['bedrooms']!=0)].shape"
   ]
  },
  {
   "cell_type": "code",
   "execution_count": 32,
   "metadata": {},
   "outputs": [
    {
     "data": {
      "text/plain": [
       "(0, 17)"
      ]
     },
     "execution_count": 32,
     "metadata": {},
     "output_type": "execute_result"
    }
   ],
   "source": [
    "df=df.loc[~((df['sub_type']=='Bedsitter (Single Room)')&(df['bedrooms']!=0))]\n",
    "df.loc[(df['sub_type']=='Bedsitter (Single Room)')&(df['bedrooms']!=0)].shape"
   ]
  },
  {
   "cell_type": "markdown",
   "metadata": {},
   "source": [
    "<ul>\n",
    "    <li>some house types should not be having zero number of bedrooms</li>\n",
    "<ul>"
   ]
  },
  {
   "cell_type": "code",
   "execution_count": 33,
   "metadata": {},
   "outputs": [
    {
     "data": {
      "text/plain": [
       "Townhouse            2\n",
       "Missing              1\n",
       "Detached Bungalow    1\n",
       "Name: sub_type, dtype: int64"
      ]
     },
     "execution_count": 33,
     "metadata": {},
     "output_type": "execute_result"
    }
   ],
   "source": [
    "df.loc[(df['bedrooms']==0)&(df['type']=='House')].sub_type.value_counts()"
   ]
  },
  {
   "cell_type": "code",
   "execution_count": 34,
   "metadata": {},
   "outputs": [
    {
     "data": {
      "text/plain": [
       "(0, 17)"
      ]
     },
     "execution_count": 34,
     "metadata": {},
     "output_type": "execute_result"
    }
   ],
   "source": [
    "df=df.loc[~((df['bedrooms']==0)&(df['type']=='House'))]\n",
    "df.loc[(df['bedrooms']==0)&(df['type']=='House')].shape"
   ]
  },
  {
   "cell_type": "code",
   "execution_count": 35,
   "metadata": {},
   "outputs": [],
   "source": [
    "#replace rental price for this property \n",
    "df.loc[(df['id']==554,'price')]=28000"
   ]
  },
  {
   "cell_type": "markdown",
   "metadata": {},
   "source": [
    "<h2>Removing unwanted outliers</h2>"
   ]
  },
  {
   "cell_type": "code",
   "execution_count": 36,
   "metadata": {},
   "outputs": [
    {
     "data": {
      "text/plain": [
       "(9505, 17)"
      ]
     },
     "execution_count": 36,
     "metadata": {},
     "output_type": "execute_result"
    }
   ],
   "source": [
    "df.shape"
   ]
  },
  {
   "cell_type": "code",
   "execution_count": 37,
   "metadata": {},
   "outputs": [],
   "source": [
    "df_rental=df[df.category == 'For Rent']\n",
    "df_sale=df[df.category=='For Sale']"
   ]
  },
  {
   "cell_type": "code",
   "execution_count": 38,
   "metadata": {},
   "outputs": [
    {
     "data": {
      "text/plain": [
       "<AxesSubplot:xlabel='bedrooms'>"
      ]
     },
     "execution_count": 38,
     "metadata": {},
     "output_type": "execute_result"
    },
    {
     "data": {
      "image/png": "[encoded data removed]",
      "text/plain": [
       "<Figure size 640x480 with 1 Axes>"
      ]
     },
     "metadata": {},
     "output_type": "display_data"
    }
   ],
   "source": [
    "sns.violinplot(x= 'bedrooms', data=df)"
   ]
  },
  {
   "cell_type": "code",
   "execution_count": 49,
   "metadata": {},
   "outputs": [
    {
     "data": {
      "text/html": [
       "<div>\n",
       "<style scoped>\n",
       "    .dataframe tbody tr th:only-of-type {\n",
       "        vertical-align: middle;\n",
       "    }\n",
       "\n",
       "    .dataframe tbody tr th {\n",
       "        vertical-align: top;\n",
       "    }\n",
       "\n",
       "    .dataframe thead th {\n",
       "        text-align: right;\n",
       "    }\n",
       "</style>\n",
       "<table border=\"1\" class=\"dataframe\">\n",
       "  <thead>\n",
       "    <tr style=\"text-align: right;\">\n",
       "      <th></th>\n",
       "      <th>id</th>\n",
       "      <th>price</th>\n",
       "      <th>price_qualifier</th>\n",
       "      <th>bedrooms</th>\n",
       "      <th>bathrooms</th>\n",
       "      <th>toilets</th>\n",
       "      <th>furnished</th>\n",
       "      <th>serviced</th>\n",
       "      <th>shared</th>\n",
       "      <th>parking</th>\n",
       "      <th>category</th>\n",
       "      <th>type</th>\n",
       "      <th>sub_type</th>\n",
       "      <th>state</th>\n",
       "      <th>locality</th>\n",
       "      <th>sub_locality</th>\n",
       "      <th>listdate</th>\n",
       "    </tr>\n",
       "  </thead>\n",
       "  <tbody>\n",
       "    <tr>\n",
       "      <th>15282</th>\n",
       "      <td>15290</td>\n",
       "      <td>213123.0</td>\n",
       "      <td>Missing</td>\n",
       "      <td>1231</td>\n",
       "      <td>1</td>\n",
       "      <td>1.0</td>\n",
       "      <td>1</td>\n",
       "      <td>0</td>\n",
       "      <td>0</td>\n",
       "      <td>1</td>\n",
       "      <td>For Rent</td>\n",
       "      <td>House</td>\n",
       "      <td>Detached Bungalow</td>\n",
       "      <td>Kiambu</td>\n",
       "      <td>Kinale</td>\n",
       "      <td>Missing</td>\n",
       "      <td>2022-04-30 09:46:13</td>\n",
       "    </tr>\n",
       "    <tr>\n",
       "      <th>3419</th>\n",
       "      <td>3420</td>\n",
       "      <td>28000000.0</td>\n",
       "      <td>Missing</td>\n",
       "      <td>50</td>\n",
       "      <td>20</td>\n",
       "      <td>0.0</td>\n",
       "      <td>0</td>\n",
       "      <td>0</td>\n",
       "      <td>0</td>\n",
       "      <td>0</td>\n",
       "      <td>For Sale</td>\n",
       "      <td>Apartment</td>\n",
       "      <td>Missing</td>\n",
       "      <td>Kiambu</td>\n",
       "      <td>Kikuyu</td>\n",
       "      <td>Missing</td>\n",
       "      <td>2020-07-29 13:49:33</td>\n",
       "    </tr>\n",
       "    <tr>\n",
       "      <th>16029</th>\n",
       "      <td>16037</td>\n",
       "      <td>50000000.0</td>\n",
       "      <td>Missing</td>\n",
       "      <td>44</td>\n",
       "      <td>4</td>\n",
       "      <td>4.0</td>\n",
       "      <td>0</td>\n",
       "      <td>0</td>\n",
       "      <td>0</td>\n",
       "      <td>6</td>\n",
       "      <td>For Sale</td>\n",
       "      <td>House</td>\n",
       "      <td>Townhouse</td>\n",
       "      <td>Kajiado</td>\n",
       "      <td>Ngong</td>\n",
       "      <td>Missing</td>\n",
       "      <td>2022-06-13 18:07:12</td>\n",
       "    </tr>\n",
       "    <tr>\n",
       "      <th>7620</th>\n",
       "      <td>7621</td>\n",
       "      <td>110000.0</td>\n",
       "      <td>per month</td>\n",
       "      <td>43</td>\n",
       "      <td>3</td>\n",
       "      <td>0.0</td>\n",
       "      <td>0</td>\n",
       "      <td>0</td>\n",
       "      <td>0</td>\n",
       "      <td>0</td>\n",
       "      <td>For Rent</td>\n",
       "      <td>House</td>\n",
       "      <td>Semi-detached Duplex</td>\n",
       "      <td>Nairobi</td>\n",
       "      <td>Kileleshwa</td>\n",
       "      <td>Missing</td>\n",
       "      <td>2020-08-26 15:11:56</td>\n",
       "    </tr>\n",
       "    <tr>\n",
       "      <th>10436</th>\n",
       "      <td>10437</td>\n",
       "      <td>6200000.0</td>\n",
       "      <td>Missing</td>\n",
       "      <td>32</td>\n",
       "      <td>2</td>\n",
       "      <td>2.0</td>\n",
       "      <td>1</td>\n",
       "      <td>0</td>\n",
       "      <td>0</td>\n",
       "      <td>1</td>\n",
       "      <td>For Sale</td>\n",
       "      <td>House</td>\n",
       "      <td>Missing</td>\n",
       "      <td>Kiambu</td>\n",
       "      <td>Kikuyu</td>\n",
       "      <td>Missing</td>\n",
       "      <td>2021-10-13 16:51:13</td>\n",
       "    </tr>\n",
       "    <tr>\n",
       "      <th>14499</th>\n",
       "      <td>14507</td>\n",
       "      <td>12000.0</td>\n",
       "      <td>per month</td>\n",
       "      <td>11</td>\n",
       "      <td>1</td>\n",
       "      <td>1.0</td>\n",
       "      <td>0</td>\n",
       "      <td>0</td>\n",
       "      <td>0</td>\n",
       "      <td>1</td>\n",
       "      <td>For Rent</td>\n",
       "      <td>House</td>\n",
       "      <td>Semi-detached Bungalow</td>\n",
       "      <td>Kiambu</td>\n",
       "      <td>Juja</td>\n",
       "      <td>Missing</td>\n",
       "      <td>2022-03-15 09:12:00</td>\n",
       "    </tr>\n",
       "    <tr>\n",
       "      <th>14887</th>\n",
       "      <td>14895</td>\n",
       "      <td>100000000.0</td>\n",
       "      <td>Missing</td>\n",
       "      <td>10</td>\n",
       "      <td>8</td>\n",
       "      <td>10.0</td>\n",
       "      <td>0</td>\n",
       "      <td>0</td>\n",
       "      <td>0</td>\n",
       "      <td>0</td>\n",
       "      <td>For Sale</td>\n",
       "      <td>House</td>\n",
       "      <td>Missing</td>\n",
       "      <td>Nairobi</td>\n",
       "      <td>Karen</td>\n",
       "      <td>Missing</td>\n",
       "      <td>2022-04-04 10:58:26</td>\n",
       "    </tr>\n",
       "    <tr>\n",
       "      <th>14729</th>\n",
       "      <td>14737</td>\n",
       "      <td>110000000.0</td>\n",
       "      <td>Missing</td>\n",
       "      <td>10</td>\n",
       "      <td>10</td>\n",
       "      <td>10.0</td>\n",
       "      <td>0</td>\n",
       "      <td>0</td>\n",
       "      <td>0</td>\n",
       "      <td>0</td>\n",
       "      <td>For Sale</td>\n",
       "      <td>House</td>\n",
       "      <td>Townhouse</td>\n",
       "      <td>Nairobi</td>\n",
       "      <td>Karen</td>\n",
       "      <td>Missing</td>\n",
       "      <td>2022-03-26 17:02:51</td>\n",
       "    </tr>\n",
       "    <tr>\n",
       "      <th>14728</th>\n",
       "      <td>14736</td>\n",
       "      <td>650000.0</td>\n",
       "      <td>Missing</td>\n",
       "      <td>10</td>\n",
       "      <td>10</td>\n",
       "      <td>10.0</td>\n",
       "      <td>0</td>\n",
       "      <td>0</td>\n",
       "      <td>0</td>\n",
       "      <td>0</td>\n",
       "      <td>For Rent</td>\n",
       "      <td>House</td>\n",
       "      <td>Townhouse</td>\n",
       "      <td>Nairobi</td>\n",
       "      <td>Karen</td>\n",
       "      <td>Missing</td>\n",
       "      <td>2022-03-26 16:28:39</td>\n",
       "    </tr>\n",
       "    <tr>\n",
       "      <th>14686</th>\n",
       "      <td>14694</td>\n",
       "      <td>140000000.0</td>\n",
       "      <td>Missing</td>\n",
       "      <td>10</td>\n",
       "      <td>9</td>\n",
       "      <td>2.0</td>\n",
       "      <td>0</td>\n",
       "      <td>0</td>\n",
       "      <td>0</td>\n",
       "      <td>0</td>\n",
       "      <td>For Sale</td>\n",
       "      <td>House</td>\n",
       "      <td>Detached Duplex</td>\n",
       "      <td>Nairobi</td>\n",
       "      <td>Karen</td>\n",
       "      <td>Missing</td>\n",
       "      <td>2022-03-24 14:21:17</td>\n",
       "    </tr>\n",
       "  </tbody>\n",
       "</table>\n",
       "</div>"
      ],
      "text/plain": [
       "          id        price price_qualifier  bedrooms  bathrooms  toilets  \\\n",
       "15282  15290     213123.0         Missing      1231          1      1.0   \n",
       "3419    3420   28000000.0         Missing        50         20      0.0   \n",
       "16029  16037   50000000.0         Missing        44          4      4.0   \n",
       "7620    7621     110000.0       per month        43          3      0.0   \n",
       "10436  10437    6200000.0         Missing        32          2      2.0   \n",
       "14499  14507      12000.0       per month        11          1      1.0   \n",
       "14887  14895  100000000.0         Missing        10          8     10.0   \n",
       "14729  14737  110000000.0         Missing        10         10     10.0   \n",
       "14728  14736     650000.0         Missing        10         10     10.0   \n",
       "14686  14694  140000000.0         Missing        10          9      2.0   \n",
       "\n",
       "       furnished  serviced  shared  parking  category       type  \\\n",
       "15282          1         0       0        1  For Rent      House   \n",
       "3419           0         0       0        0  For Sale  Apartment   \n",
       "16029          0         0       0        6  For Sale      House   \n",
       "7620           0         0       0        0  For Rent      House   \n",
       "10436          1         0       0        1  For Sale      House   \n",
       "14499          0         0       0        1  For Rent      House   \n",
       "14887          0         0       0        0  For Sale      House   \n",
       "14729          0         0       0        0  For Sale      House   \n",
       "14728          0         0       0        0  For Rent      House   \n",
       "14686          0         0       0        0  For Sale      House   \n",
       "\n",
       "                     sub_type    state    locality sub_locality  \\\n",
       "15282       Detached Bungalow   Kiambu      Kinale      Missing   \n",
       "3419                  Missing   Kiambu      Kikuyu      Missing   \n",
       "16029               Townhouse  Kajiado       Ngong      Missing   \n",
       "7620     Semi-detached Duplex  Nairobi  Kileleshwa      Missing   \n",
       "10436                 Missing   Kiambu      Kikuyu      Missing   \n",
       "14499  Semi-detached Bungalow   Kiambu        Juja      Missing   \n",
       "14887                 Missing  Nairobi       Karen      Missing   \n",
       "14729               Townhouse  Nairobi       Karen      Missing   \n",
       "14728               Townhouse  Nairobi       Karen      Missing   \n",
       "14686         Detached Duplex  Nairobi       Karen      Missing   \n",
       "\n",
       "                  listdate  \n",
       "15282  2022-04-30 09:46:13  \n",
       "3419   2020-07-29 13:49:33  \n",
       "16029  2022-06-13 18:07:12  \n",
       "7620   2020-08-26 15:11:56  \n",
       "10436  2021-10-13 16:51:13  \n",
       "14499  2022-03-15 09:12:00  \n",
       "14887  2022-04-04 10:58:26  \n",
       "14729  2022-03-26 17:02:51  \n",
       "14728  2022-03-26 16:28:39  \n",
       "14686  2022-03-24 14:21:17  "
      ]
     },
     "execution_count": 49,
     "metadata": {},
     "output_type": "execute_result"
    }
   ],
   "source": [
    "df.loc[(df['bedrooms']>6)].sort_values(by='bedrooms',ascending=False).head(10)"
   ]
  },
  {
   "cell_type": "code",
   "execution_count": 50,
   "metadata": {},
   "outputs": [
    {
     "data": {
      "text/plain": [
       "(9483, 17)"
      ]
     },
     "execution_count": 50,
     "metadata": {},
     "output_type": "execute_result"
    }
   ],
   "source": [
    "#remove properties with more than 10\n",
    "df = df[df.bedrooms <= 8]\n",
    "df.shape"
   ]
  },
  {
   "cell_type": "code",
   "execution_count": 39,
   "metadata": {},
   "outputs": [
    {
     "data": {
      "text/plain": [
       "<AxesSubplot:xlabel='bathrooms'>"
      ]
     },
     "execution_count": 39,
     "metadata": {},
     "output_type": "execute_result"
    },
    {
     "data": {
      "image/png": "[encoded data removed]",
      "text/plain": [
       "<Figure size 640x480 with 1 Axes>"
      ]
     },
     "metadata": {},
     "output_type": "display_data"
    }
   ],
   "source": [
    "sns.violinplot(x= 'bathrooms', data=df)"
   ]
  },
  {
   "cell_type": "code",
   "execution_count": 51,
   "metadata": {},
   "outputs": [
    {
     "data": {
      "text/html": [
       "<div>\n",
       "<style scoped>\n",
       "    .dataframe tbody tr th:only-of-type {\n",
       "        vertical-align: middle;\n",
       "    }\n",
       "\n",
       "    .dataframe tbody tr th {\n",
       "        vertical-align: top;\n",
       "    }\n",
       "\n",
       "    .dataframe thead th {\n",
       "        text-align: right;\n",
       "    }\n",
       "</style>\n",
       "<table border=\"1\" class=\"dataframe\">\n",
       "  <thead>\n",
       "    <tr style=\"text-align: right;\">\n",
       "      <th></th>\n",
       "      <th>id</th>\n",
       "      <th>price</th>\n",
       "      <th>price_qualifier</th>\n",
       "      <th>bedrooms</th>\n",
       "      <th>bathrooms</th>\n",
       "      <th>toilets</th>\n",
       "      <th>furnished</th>\n",
       "      <th>serviced</th>\n",
       "      <th>shared</th>\n",
       "      <th>parking</th>\n",
       "      <th>category</th>\n",
       "      <th>type</th>\n",
       "      <th>sub_type</th>\n",
       "      <th>state</th>\n",
       "      <th>locality</th>\n",
       "      <th>sub_locality</th>\n",
       "      <th>listdate</th>\n",
       "    </tr>\n",
       "  </thead>\n",
       "  <tbody>\n",
       "    <tr>\n",
       "      <th>9664</th>\n",
       "      <td>9665</td>\n",
       "      <td>185000000.0</td>\n",
       "      <td>Missing</td>\n",
       "      <td>8</td>\n",
       "      <td>9</td>\n",
       "      <td>9.0</td>\n",
       "      <td>0</td>\n",
       "      <td>0</td>\n",
       "      <td>0</td>\n",
       "      <td>5</td>\n",
       "      <td>For Sale</td>\n",
       "      <td>House</td>\n",
       "      <td>Missing</td>\n",
       "      <td>Nairobi</td>\n",
       "      <td>Westlands</td>\n",
       "      <td>Runda</td>\n",
       "      <td>2021-09-07 20:36:35</td>\n",
       "    </tr>\n",
       "    <tr>\n",
       "      <th>5911</th>\n",
       "      <td>5912</td>\n",
       "      <td>10000000.0</td>\n",
       "      <td>Missing</td>\n",
       "      <td>4</td>\n",
       "      <td>10</td>\n",
       "      <td>0.0</td>\n",
       "      <td>0</td>\n",
       "      <td>0</td>\n",
       "      <td>0</td>\n",
       "      <td>0</td>\n",
       "      <td>For Sale</td>\n",
       "      <td>House</td>\n",
       "      <td>Townhouse</td>\n",
       "      <td>Nairobi</td>\n",
       "      <td>Spring Valley</td>\n",
       "      <td>Missing</td>\n",
       "      <td>2020-08-17 15:38:22</td>\n",
       "    </tr>\n",
       "    <tr>\n",
       "      <th>12881</th>\n",
       "      <td>12889</td>\n",
       "      <td>10000.0</td>\n",
       "      <td>per month</td>\n",
       "      <td>1</td>\n",
       "      <td>11</td>\n",
       "      <td>1.0</td>\n",
       "      <td>0</td>\n",
       "      <td>0</td>\n",
       "      <td>0</td>\n",
       "      <td>1</td>\n",
       "      <td>For Rent</td>\n",
       "      <td>House</td>\n",
       "      <td>Missing</td>\n",
       "      <td>Mombasa</td>\n",
       "      <td>Tudor</td>\n",
       "      <td>Missing</td>\n",
       "      <td>2022-01-25 15:25:41</td>\n",
       "    </tr>\n",
       "    <tr>\n",
       "      <th>12750</th>\n",
       "      <td>12758</td>\n",
       "      <td>12000.0</td>\n",
       "      <td>per month</td>\n",
       "      <td>1</td>\n",
       "      <td>11</td>\n",
       "      <td>1.0</td>\n",
       "      <td>0</td>\n",
       "      <td>0</td>\n",
       "      <td>0</td>\n",
       "      <td>1</td>\n",
       "      <td>For Rent</td>\n",
       "      <td>House</td>\n",
       "      <td>Missing</td>\n",
       "      <td>Mombasa</td>\n",
       "      <td>Nyali</td>\n",
       "      <td>Missing</td>\n",
       "      <td>2022-01-19 13:28:46</td>\n",
       "    </tr>\n",
       "    <tr>\n",
       "      <th>8813</th>\n",
       "      <td>8814</td>\n",
       "      <td>8500000.0</td>\n",
       "      <td>Missing</td>\n",
       "      <td>3</td>\n",
       "      <td>21</td>\n",
       "      <td>3.0</td>\n",
       "      <td>0</td>\n",
       "      <td>0</td>\n",
       "      <td>0</td>\n",
       "      <td>1</td>\n",
       "      <td>For Sale</td>\n",
       "      <td>Apartment</td>\n",
       "      <td>Missing</td>\n",
       "      <td>Kilifi</td>\n",
       "      <td>Mtwapa</td>\n",
       "      <td>Missing</td>\n",
       "      <td>2021-06-22 08:58:52</td>\n",
       "    </tr>\n",
       "    <tr>\n",
       "      <th>11489</th>\n",
       "      <td>11490</td>\n",
       "      <td>13000.0</td>\n",
       "      <td>per month</td>\n",
       "      <td>2</td>\n",
       "      <td>23</td>\n",
       "      <td>2.0</td>\n",
       "      <td>0</td>\n",
       "      <td>0</td>\n",
       "      <td>0</td>\n",
       "      <td>2</td>\n",
       "      <td>For Rent</td>\n",
       "      <td>House</td>\n",
       "      <td>Missing</td>\n",
       "      <td>Mombasa</td>\n",
       "      <td>Bamburi</td>\n",
       "      <td>Missing</td>\n",
       "      <td>2021-11-30 11:08:49</td>\n",
       "    </tr>\n",
       "    <tr>\n",
       "      <th>10477</th>\n",
       "      <td>10478</td>\n",
       "      <td>12250000.0</td>\n",
       "      <td>Missing</td>\n",
       "      <td>2</td>\n",
       "      <td>32</td>\n",
       "      <td>3.0</td>\n",
       "      <td>0</td>\n",
       "      <td>1</td>\n",
       "      <td>0</td>\n",
       "      <td>0</td>\n",
       "      <td>For Sale</td>\n",
       "      <td>Apartment</td>\n",
       "      <td>Missing</td>\n",
       "      <td>Nairobi</td>\n",
       "      <td>Lavington</td>\n",
       "      <td>Missing</td>\n",
       "      <td>2021-10-18 11:28:13</td>\n",
       "    </tr>\n",
       "    <tr>\n",
       "      <th>15731</th>\n",
       "      <td>15739</td>\n",
       "      <td>120000.0</td>\n",
       "      <td>per month</td>\n",
       "      <td>3</td>\n",
       "      <td>32</td>\n",
       "      <td>0.0</td>\n",
       "      <td>0</td>\n",
       "      <td>0</td>\n",
       "      <td>0</td>\n",
       "      <td>2</td>\n",
       "      <td>For Rent</td>\n",
       "      <td>Apartment</td>\n",
       "      <td>Missing</td>\n",
       "      <td>Nairobi</td>\n",
       "      <td>Westlands</td>\n",
       "      <td>Missing</td>\n",
       "      <td>2022-05-31 12:18:13</td>\n",
       "    </tr>\n",
       "    <tr>\n",
       "      <th>15882</th>\n",
       "      <td>15890</td>\n",
       "      <td>30000.0</td>\n",
       "      <td>per month</td>\n",
       "      <td>3</td>\n",
       "      <td>32</td>\n",
       "      <td>3.0</td>\n",
       "      <td>0</td>\n",
       "      <td>0</td>\n",
       "      <td>0</td>\n",
       "      <td>2</td>\n",
       "      <td>For Rent</td>\n",
       "      <td>House</td>\n",
       "      <td>Terraced Duplex</td>\n",
       "      <td>Nakuru</td>\n",
       "      <td>London</td>\n",
       "      <td>Missing</td>\n",
       "      <td>2022-06-06 18:04:43</td>\n",
       "    </tr>\n",
       "    <tr>\n",
       "      <th>9764</th>\n",
       "      <td>9765</td>\n",
       "      <td>59000000.0</td>\n",
       "      <td>Missing</td>\n",
       "      <td>4</td>\n",
       "      <td>54</td>\n",
       "      <td>4.0</td>\n",
       "      <td>0</td>\n",
       "      <td>1</td>\n",
       "      <td>0</td>\n",
       "      <td>0</td>\n",
       "      <td>For Sale</td>\n",
       "      <td>House</td>\n",
       "      <td>Townhouse</td>\n",
       "      <td>Mombasa</td>\n",
       "      <td>Nyali</td>\n",
       "      <td>Missing</td>\n",
       "      <td>2021-09-14 07:19:52</td>\n",
       "    </tr>\n",
       "  </tbody>\n",
       "</table>\n",
       "</div>"
      ],
      "text/plain": [
       "          id        price price_qualifier  bedrooms  bathrooms  toilets  \\\n",
       "9664    9665  185000000.0         Missing         8          9      9.0   \n",
       "5911    5912   10000000.0         Missing         4         10      0.0   \n",
       "12881  12889      10000.0       per month         1         11      1.0   \n",
       "12750  12758      12000.0       per month         1         11      1.0   \n",
       "8813    8814    8500000.0         Missing         3         21      3.0   \n",
       "11489  11490      13000.0       per month         2         23      2.0   \n",
       "10477  10478   12250000.0         Missing         2         32      3.0   \n",
       "15731  15739     120000.0       per month         3         32      0.0   \n",
       "15882  15890      30000.0       per month         3         32      3.0   \n",
       "9764    9765   59000000.0         Missing         4         54      4.0   \n",
       "\n",
       "       furnished  serviced  shared  parking  category       type  \\\n",
       "9664           0         0       0        5  For Sale      House   \n",
       "5911           0         0       0        0  For Sale      House   \n",
       "12881          0         0       0        1  For Rent      House   \n",
       "12750          0         0       0        1  For Rent      House   \n",
       "8813           0         0       0        1  For Sale  Apartment   \n",
       "11489          0         0       0        2  For Rent      House   \n",
       "10477          0         1       0        0  For Sale  Apartment   \n",
       "15731          0         0       0        2  For Rent  Apartment   \n",
       "15882          0         0       0        2  For Rent      House   \n",
       "9764           0         1       0        0  For Sale      House   \n",
       "\n",
       "              sub_type    state       locality sub_locality  \\\n",
       "9664           Missing  Nairobi      Westlands        Runda   \n",
       "5911         Townhouse  Nairobi  Spring Valley      Missing   \n",
       "12881          Missing  Mombasa          Tudor      Missing   \n",
       "12750          Missing  Mombasa          Nyali      Missing   \n",
       "8813           Missing   Kilifi         Mtwapa      Missing   \n",
       "11489          Missing  Mombasa        Bamburi      Missing   \n",
       "10477          Missing  Nairobi      Lavington      Missing   \n",
       "15731          Missing  Nairobi      Westlands      Missing   \n",
       "15882  Terraced Duplex   Nakuru         London      Missing   \n",
       "9764         Townhouse  Mombasa          Nyali      Missing   \n",
       "\n",
       "                  listdate  \n",
       "9664   2021-09-07 20:36:35  \n",
       "5911   2020-08-17 15:38:22  \n",
       "12881  2022-01-25 15:25:41  \n",
       "12750  2022-01-19 13:28:46  \n",
       "8813   2021-06-22 08:58:52  \n",
       "11489  2021-11-30 11:08:49  \n",
       "10477  2021-10-18 11:28:13  \n",
       "15731  2022-05-31 12:18:13  \n",
       "15882  2022-06-06 18:04:43  \n",
       "9764   2021-09-14 07:19:52  "
      ]
     },
     "execution_count": 51,
     "metadata": {},
     "output_type": "execute_result"
    }
   ],
   "source": [
    "df.sort_values(by='bathrooms',ascending=True).tail(10)"
   ]
  },
  {
   "cell_type": "code",
   "execution_count": 52,
   "metadata": {},
   "outputs": [
    {
     "data": {
      "text/plain": [
       "(9466, 17)"
      ]
     },
     "execution_count": 52,
     "metadata": {},
     "output_type": "execute_result"
    }
   ],
   "source": [
    "# Remove bathrooms more than 10\n",
    "df = df[df.bathrooms <= 8]\n",
    "df.shape"
   ]
  },
  {
   "cell_type": "code",
   "execution_count": 40,
   "metadata": {},
   "outputs": [
    {
     "data": {
      "text/plain": [
       "<AxesSubplot:xlabel='serviced'>"
      ]
     },
     "execution_count": 40,
     "metadata": {},
     "output_type": "execute_result"
    },
    {
     "data": {
      "image/png": "[encoded data removed]",
      "text/plain": [
       "<Figure size 640x480 with 1 Axes>"
      ]
     },
     "metadata": {},
     "output_type": "display_data"
    }
   ],
   "source": [
    "sns.violinplot(x= 'serviced', data=df)"
   ]
  },
  {
   "cell_type": "code",
   "execution_count": 41,
   "metadata": {},
   "outputs": [
    {
     "data": {
      "text/plain": [
       "<AxesSubplot:xlabel='shared'>"
      ]
     },
     "execution_count": 41,
     "metadata": {},
     "output_type": "execute_result"
    },
    {
     "data": {
      "image/png": "[encoded data removed]",
      "text/plain": [
       "<Figure size 640x480 with 1 Axes>"
      ]
     },
     "metadata": {},
     "output_type": "display_data"
    }
   ],
   "source": [
    "sns.violinplot(x= 'shared', data=df)"
   ]
  },
  {
   "cell_type": "code",
   "execution_count": 42,
   "metadata": {},
   "outputs": [
    {
     "data": {
      "text/plain": [
       "<AxesSubplot:xlabel='furnished'>"
      ]
     },
     "execution_count": 42,
     "metadata": {},
     "output_type": "execute_result"
    },
    {
     "data": {
      "image/png": "[encoded data removed]",
      "text/plain": [
       "<Figure size 640x480 with 1 Axes>"
      ]
     },
     "metadata": {},
     "output_type": "display_data"
    }
   ],
   "source": [
    "sns.violinplot(x= 'furnished', data=df)"
   ]
  },
  {
   "cell_type": "code",
   "execution_count": 43,
   "metadata": {},
   "outputs": [
    {
     "data": {
      "text/plain": [
       "<AxesSubplot:xlabel='parking'>"
      ]
     },
     "execution_count": 43,
     "metadata": {},
     "output_type": "execute_result"
    },
    {
     "data": {
      "image/png": "[encoded data removed]",
      "text/plain": [
       "<Figure size 640x480 with 1 Axes>"
      ]
     },
     "metadata": {},
     "output_type": "display_data"
    }
   ],
   "source": [
    "sns.violinplot(x= 'parking', data=df)"
   ]
  },
  {
   "cell_type": "code",
   "execution_count": 53,
   "metadata": {},
   "outputs": [
    {
     "data": {
      "text/html": [
       "<div>\n",
       "<style scoped>\n",
       "    .dataframe tbody tr th:only-of-type {\n",
       "        vertical-align: middle;\n",
       "    }\n",
       "\n",
       "    .dataframe tbody tr th {\n",
       "        vertical-align: top;\n",
       "    }\n",
       "\n",
       "    .dataframe thead th {\n",
       "        text-align: right;\n",
       "    }\n",
       "</style>\n",
       "<table border=\"1\" class=\"dataframe\">\n",
       "  <thead>\n",
       "    <tr style=\"text-align: right;\">\n",
       "      <th></th>\n",
       "      <th>id</th>\n",
       "      <th>price</th>\n",
       "      <th>price_qualifier</th>\n",
       "      <th>bedrooms</th>\n",
       "      <th>bathrooms</th>\n",
       "      <th>toilets</th>\n",
       "      <th>furnished</th>\n",
       "      <th>serviced</th>\n",
       "      <th>shared</th>\n",
       "      <th>parking</th>\n",
       "      <th>category</th>\n",
       "      <th>type</th>\n",
       "      <th>sub_type</th>\n",
       "      <th>state</th>\n",
       "      <th>locality</th>\n",
       "      <th>sub_locality</th>\n",
       "      <th>listdate</th>\n",
       "    </tr>\n",
       "  </thead>\n",
       "  <tbody>\n",
       "    <tr>\n",
       "      <th>8807</th>\n",
       "      <td>8808</td>\n",
       "      <td>120000.0</td>\n",
       "      <td>per month</td>\n",
       "      <td>3</td>\n",
       "      <td>3</td>\n",
       "      <td>4.0</td>\n",
       "      <td>0</td>\n",
       "      <td>0</td>\n",
       "      <td>0</td>\n",
       "      <td>22</td>\n",
       "      <td>For Rent</td>\n",
       "      <td>Apartment</td>\n",
       "      <td>Missing</td>\n",
       "      <td>Mombasa</td>\n",
       "      <td>Nyali</td>\n",
       "      <td>Missing</td>\n",
       "      <td>2021-06-21 17:36:23</td>\n",
       "    </tr>\n",
       "    <tr>\n",
       "      <th>14672</th>\n",
       "      <td>14680</td>\n",
       "      <td>1200000.0</td>\n",
       "      <td>per month</td>\n",
       "      <td>8</td>\n",
       "      <td>4</td>\n",
       "      <td>4.0</td>\n",
       "      <td>0</td>\n",
       "      <td>0</td>\n",
       "      <td>0</td>\n",
       "      <td>50</td>\n",
       "      <td>For Rent</td>\n",
       "      <td>House</td>\n",
       "      <td>Missing</td>\n",
       "      <td>Nairobi</td>\n",
       "      <td>Lavington</td>\n",
       "      <td>Missing</td>\n",
       "      <td>2022-03-23 21:47:55</td>\n",
       "    </tr>\n",
       "    <tr>\n",
       "      <th>15742</th>\n",
       "      <td>15750</td>\n",
       "      <td>35000.0</td>\n",
       "      <td>per month</td>\n",
       "      <td>1</td>\n",
       "      <td>1</td>\n",
       "      <td>1.0</td>\n",
       "      <td>0</td>\n",
       "      <td>0</td>\n",
       "      <td>0</td>\n",
       "      <td>100</td>\n",
       "      <td>For Rent</td>\n",
       "      <td>Apartment</td>\n",
       "      <td>Missing</td>\n",
       "      <td>Kiambu</td>\n",
       "      <td>Ruaka</td>\n",
       "      <td>Missing</td>\n",
       "      <td>2022-05-31 16:07:22</td>\n",
       "    </tr>\n",
       "    <tr>\n",
       "      <th>15767</th>\n",
       "      <td>15775</td>\n",
       "      <td>11000.0</td>\n",
       "      <td>per month</td>\n",
       "      <td>1</td>\n",
       "      <td>1</td>\n",
       "      <td>1.0</td>\n",
       "      <td>0</td>\n",
       "      <td>0</td>\n",
       "      <td>0</td>\n",
       "      <td>118453525</td>\n",
       "      <td>For Rent</td>\n",
       "      <td>Apartment</td>\n",
       "      <td>Missing</td>\n",
       "      <td>Kisumu</td>\n",
       "      <td>Market Milimani</td>\n",
       "      <td>Missing</td>\n",
       "      <td>2022-06-01 17:09:34</td>\n",
       "    </tr>\n",
       "    <tr>\n",
       "      <th>15756</th>\n",
       "      <td>15764</td>\n",
       "      <td>9000.0</td>\n",
       "      <td>per month</td>\n",
       "      <td>1</td>\n",
       "      <td>0</td>\n",
       "      <td>1.0</td>\n",
       "      <td>0</td>\n",
       "      <td>0</td>\n",
       "      <td>0</td>\n",
       "      <td>723110898</td>\n",
       "      <td>For Rent</td>\n",
       "      <td>House</td>\n",
       "      <td>Missing</td>\n",
       "      <td>Kiambu</td>\n",
       "      <td>Ruaka</td>\n",
       "      <td>Missing</td>\n",
       "      <td>2022-06-01 13:25:40</td>\n",
       "    </tr>\n",
       "  </tbody>\n",
       "</table>\n",
       "</div>"
      ],
      "text/plain": [
       "          id      price price_qualifier  bedrooms  bathrooms  toilets  \\\n",
       "8807    8808   120000.0       per month         3          3      4.0   \n",
       "14672  14680  1200000.0       per month         8          4      4.0   \n",
       "15742  15750    35000.0       per month         1          1      1.0   \n",
       "15767  15775    11000.0       per month         1          1      1.0   \n",
       "15756  15764     9000.0       per month         1          0      1.0   \n",
       "\n",
       "       furnished  serviced  shared    parking  category       type sub_type  \\\n",
       "8807           0         0       0         22  For Rent  Apartment  Missing   \n",
       "14672          0         0       0         50  For Rent      House  Missing   \n",
       "15742          0         0       0        100  For Rent  Apartment  Missing   \n",
       "15767          0         0       0  118453525  For Rent  Apartment  Missing   \n",
       "15756          0         0       0  723110898  For Rent      House  Missing   \n",
       "\n",
       "         state         locality sub_locality             listdate  \n",
       "8807   Mombasa            Nyali      Missing  2021-06-21 17:36:23  \n",
       "14672  Nairobi        Lavington      Missing  2022-03-23 21:47:55  \n",
       "15742   Kiambu            Ruaka      Missing  2022-05-31 16:07:22  \n",
       "15767   Kisumu  Market Milimani      Missing  2022-06-01 17:09:34  \n",
       "15756   Kiambu            Ruaka      Missing  2022-06-01 13:25:40  "
      ]
     },
     "execution_count": 53,
     "metadata": {},
     "output_type": "execute_result"
    }
   ],
   "source": [
    "df.sort_values(by='parking').tail()"
   ]
  },
  {
   "cell_type": "code",
   "execution_count": 54,
   "metadata": {},
   "outputs": [
    {
     "data": {
      "text/plain": [
       "(9364, 17)"
      ]
     },
     "execution_count": 54,
     "metadata": {},
     "output_type": "execute_result"
    }
   ],
   "source": [
    "#remove parking greater than 10\n",
    "df = df[df.parking < 6]\n",
    "df.shape"
   ]
  },
  {
   "cell_type": "code",
   "execution_count": 44,
   "metadata": {},
   "outputs": [
    {
     "data": {
      "text/plain": [
       "<AxesSubplot:xlabel='price'>"
      ]
     },
     "execution_count": 44,
     "metadata": {},
     "output_type": "execute_result"
    },
    {
     "data": {
      "image/png": "[encoded data removed]",
      "text/plain": [
       "<Figure size 640x480 with 1 Axes>"
      ]
     },
     "metadata": {},
     "output_type": "display_data"
    }
   ],
   "source": [
    "sns.violinplot(x= 'price', data=df_rental)"
   ]
  },
  {
   "cell_type": "markdown",
   "metadata": {},
   "source": [
    "<p>According to the Kenya property center dataset  it gives the highest rent value in Nairobi county to be 600,0000 and the lowest being 5500</p>\n",
    "<p>Remove observations that are not in the range of 700,000 and 1,000</p>"
   ]
  },
  {
   "cell_type": "code",
   "execution_count": 55,
   "metadata": {},
   "outputs": [
    {
     "data": {
      "text/plain": [
       "(4858, 17)"
      ]
     },
     "execution_count": 55,
     "metadata": {},
     "output_type": "execute_result"
    }
   ],
   "source": [
    "df_rental.shape"
   ]
  },
  {
   "cell_type": "code",
   "execution_count": 56,
   "metadata": {},
   "outputs": [],
   "source": [
    "#remove price greater than 700000\n",
    "df_rental = df_rental[df_rental.price < 700000]"
   ]
  },
  {
   "cell_type": "code",
   "execution_count": 57,
   "metadata": {},
   "outputs": [],
   "source": [
    "#remove price less than 4000\n",
    "df_rental = df_rental[df_rental.price > 4000]"
   ]
  },
  {
   "cell_type": "code",
   "execution_count": 58,
   "metadata": {},
   "outputs": [
    {
     "data": {
      "text/plain": [
       "<AxesSubplot:xlabel='price'>"
      ]
     },
     "execution_count": 58,
     "metadata": {},
     "output_type": "execute_result"
    },
    {
     "data": {
      "image/png": "[encoded data removed]",
      "text/plain": [
       "<Figure size 640x480 with 1 Axes>"
      ]
     },
     "metadata": {},
     "output_type": "display_data"
    }
   ],
   "source": [
    "sns.violinplot(x= 'price', data=df_rental)"
   ]
  },
  {
   "cell_type": "code",
   "execution_count": 59,
   "metadata": {},
   "outputs": [
    {
     "data": {
      "text/plain": [
       "<AxesSubplot:xlabel='price'>"
      ]
     },
     "execution_count": 59,
     "metadata": {},
     "output_type": "execute_result"
    },
    {
     "data": {
      "image/png": "[encoded data removed]",
      "text/plain": [
       "<Figure size 640x480 with 1 Axes>"
      ]
     },
     "metadata": {},
     "output_type": "display_data"
    }
   ],
   "source": [
    "sns.violinplot(x= 'price', data=df_sale)"
   ]
  },
  {
   "cell_type": "code",
   "execution_count": 60,
   "metadata": {},
   "outputs": [
    {
     "data": {
      "text/html": [
       "<div>\n",
       "<style scoped>\n",
       "    .dataframe tbody tr th:only-of-type {\n",
       "        vertical-align: middle;\n",
       "    }\n",
       "\n",
       "    .dataframe tbody tr th {\n",
       "        vertical-align: top;\n",
       "    }\n",
       "\n",
       "    .dataframe thead th {\n",
       "        text-align: right;\n",
       "    }\n",
       "</style>\n",
       "<table border=\"1\" class=\"dataframe\">\n",
       "  <thead>\n",
       "    <tr style=\"text-align: right;\">\n",
       "      <th></th>\n",
       "      <th>id</th>\n",
       "      <th>price</th>\n",
       "      <th>price_qualifier</th>\n",
       "      <th>bedrooms</th>\n",
       "      <th>bathrooms</th>\n",
       "      <th>toilets</th>\n",
       "      <th>furnished</th>\n",
       "      <th>serviced</th>\n",
       "      <th>shared</th>\n",
       "      <th>parking</th>\n",
       "      <th>category</th>\n",
       "      <th>type</th>\n",
       "      <th>sub_type</th>\n",
       "      <th>state</th>\n",
       "      <th>locality</th>\n",
       "      <th>sub_locality</th>\n",
       "      <th>listdate</th>\n",
       "    </tr>\n",
       "  </thead>\n",
       "  <tbody>\n",
       "    <tr>\n",
       "      <th>484</th>\n",
       "      <td>485</td>\n",
       "      <td>14.5</td>\n",
       "      <td>Missing</td>\n",
       "      <td>2</td>\n",
       "      <td>2</td>\n",
       "      <td>0.0</td>\n",
       "      <td>0</td>\n",
       "      <td>0</td>\n",
       "      <td>0</td>\n",
       "      <td>0</td>\n",
       "      <td>For Sale</td>\n",
       "      <td>Apartment</td>\n",
       "      <td>Missing</td>\n",
       "      <td>Mombasa</td>\n",
       "      <td>Likoni</td>\n",
       "      <td>Missing</td>\n",
       "      <td>2020-07-19 00:00:00</td>\n",
       "    </tr>\n",
       "    <tr>\n",
       "      <th>704</th>\n",
       "      <td>705</td>\n",
       "      <td>160000.0</td>\n",
       "      <td>Missing</td>\n",
       "      <td>3</td>\n",
       "      <td>3</td>\n",
       "      <td>0.0</td>\n",
       "      <td>0</td>\n",
       "      <td>0</td>\n",
       "      <td>0</td>\n",
       "      <td>0</td>\n",
       "      <td>For Sale</td>\n",
       "      <td>Apartment</td>\n",
       "      <td>Missing</td>\n",
       "      <td>Nairobi</td>\n",
       "      <td>Westlands</td>\n",
       "      <td>Missing</td>\n",
       "      <td>2020-07-20 00:00:00</td>\n",
       "    </tr>\n",
       "    <tr>\n",
       "      <th>1025</th>\n",
       "      <td>1026</td>\n",
       "      <td>80000.0</td>\n",
       "      <td>Missing</td>\n",
       "      <td>3</td>\n",
       "      <td>4</td>\n",
       "      <td>0.0</td>\n",
       "      <td>0</td>\n",
       "      <td>0</td>\n",
       "      <td>0</td>\n",
       "      <td>0</td>\n",
       "      <td>For Sale</td>\n",
       "      <td>Apartment</td>\n",
       "      <td>Missing</td>\n",
       "      <td>Nairobi</td>\n",
       "      <td>Westlands</td>\n",
       "      <td>Missing</td>\n",
       "      <td>2020-07-21 00:00:00</td>\n",
       "    </tr>\n",
       "    <tr>\n",
       "      <th>1395</th>\n",
       "      <td>1396</td>\n",
       "      <td>14.5</td>\n",
       "      <td>Missing</td>\n",
       "      <td>2</td>\n",
       "      <td>2</td>\n",
       "      <td>0.0</td>\n",
       "      <td>0</td>\n",
       "      <td>0</td>\n",
       "      <td>0</td>\n",
       "      <td>0</td>\n",
       "      <td>For Sale</td>\n",
       "      <td>Apartment</td>\n",
       "      <td>Missing</td>\n",
       "      <td>Nairobi</td>\n",
       "      <td>Westlands</td>\n",
       "      <td>Missing</td>\n",
       "      <td>2020-07-21 00:00:00</td>\n",
       "    </tr>\n",
       "    <tr>\n",
       "      <th>2057</th>\n",
       "      <td>2058</td>\n",
       "      <td>350000.0</td>\n",
       "      <td>Missing</td>\n",
       "      <td>5</td>\n",
       "      <td>5</td>\n",
       "      <td>0.0</td>\n",
       "      <td>0</td>\n",
       "      <td>0</td>\n",
       "      <td>0</td>\n",
       "      <td>2</td>\n",
       "      <td>For Sale</td>\n",
       "      <td>House</td>\n",
       "      <td>Missing</td>\n",
       "      <td>Nairobi</td>\n",
       "      <td>Kahawa West</td>\n",
       "      <td>Missing</td>\n",
       "      <td>2020-07-23 00:00:00</td>\n",
       "    </tr>\n",
       "  </tbody>\n",
       "</table>\n",
       "</div>"
      ],
      "text/plain": [
       "        id     price price_qualifier  bedrooms  bathrooms  toilets  furnished  \\\n",
       "484    485      14.5         Missing         2          2      0.0          0   \n",
       "704    705  160000.0         Missing         3          3      0.0          0   \n",
       "1025  1026   80000.0         Missing         3          4      0.0          0   \n",
       "1395  1396      14.5         Missing         2          2      0.0          0   \n",
       "2057  2058  350000.0         Missing         5          5      0.0          0   \n",
       "\n",
       "      serviced  shared  parking  category       type sub_type    state  \\\n",
       "484          0       0        0  For Sale  Apartment  Missing  Mombasa   \n",
       "704          0       0        0  For Sale  Apartment  Missing  Nairobi   \n",
       "1025         0       0        0  For Sale  Apartment  Missing  Nairobi   \n",
       "1395         0       0        0  For Sale  Apartment  Missing  Nairobi   \n",
       "2057         0       0        2  For Sale      House  Missing  Nairobi   \n",
       "\n",
       "         locality sub_locality             listdate  \n",
       "484        Likoni      Missing  2020-07-19 00:00:00  \n",
       "704     Westlands      Missing  2020-07-20 00:00:00  \n",
       "1025    Westlands      Missing  2020-07-21 00:00:00  \n",
       "1395    Westlands      Missing  2020-07-21 00:00:00  \n",
       "2057  Kahawa West      Missing  2020-07-23 00:00:00  "
      ]
     },
     "execution_count": 60,
     "metadata": {},
     "output_type": "execute_result"
    }
   ],
   "source": [
    "df_sale.loc[(df_sale['price']<500000)].head()"
   ]
  },
  {
   "cell_type": "code",
   "execution_count": 61,
   "metadata": {},
   "outputs": [
    {
     "data": {
      "text/plain": [
       "(37, 17)"
      ]
     },
     "execution_count": 61,
     "metadata": {},
     "output_type": "execute_result"
    }
   ],
   "source": [
    "df_sale.loc[(df_sale['price']<600000)].shape"
   ]
  },
  {
   "cell_type": "markdown",
   "metadata": {},
   "source": [
    "<p>We remove lot whose sale value is less than 600,000</p>"
   ]
  },
  {
   "cell_type": "code",
   "execution_count": 62,
   "metadata": {},
   "outputs": [
    {
     "data": {
      "text/plain": [
       "(4597, 17)"
      ]
     },
     "execution_count": 62,
     "metadata": {},
     "output_type": "execute_result"
    }
   ],
   "source": [
    "#remove price greater than 600000\n",
    "df_sale = df_sale[df_sale.price > 600000]\n",
    "df_sale.shape"
   ]
  },
  {
   "cell_type": "code",
   "execution_count": 63,
   "metadata": {},
   "outputs": [
    {
     "data": {
      "text/html": [
       "<div>\n",
       "<style scoped>\n",
       "    .dataframe tbody tr th:only-of-type {\n",
       "        vertical-align: middle;\n",
       "    }\n",
       "\n",
       "    .dataframe tbody tr th {\n",
       "        vertical-align: top;\n",
       "    }\n",
       "\n",
       "    .dataframe thead th {\n",
       "        text-align: right;\n",
       "    }\n",
       "</style>\n",
       "<table border=\"1\" class=\"dataframe\">\n",
       "  <thead>\n",
       "    <tr style=\"text-align: right;\">\n",
       "      <th></th>\n",
       "      <th>id</th>\n",
       "      <th>price</th>\n",
       "      <th>price_qualifier</th>\n",
       "      <th>bedrooms</th>\n",
       "      <th>bathrooms</th>\n",
       "      <th>toilets</th>\n",
       "      <th>furnished</th>\n",
       "      <th>serviced</th>\n",
       "      <th>shared</th>\n",
       "      <th>parking</th>\n",
       "      <th>category</th>\n",
       "      <th>type</th>\n",
       "      <th>sub_type</th>\n",
       "      <th>state</th>\n",
       "      <th>locality</th>\n",
       "      <th>sub_locality</th>\n",
       "      <th>listdate</th>\n",
       "    </tr>\n",
       "  </thead>\n",
       "  <tbody>\n",
       "    <tr>\n",
       "      <th>10121</th>\n",
       "      <td>10122</td>\n",
       "      <td>400000000.0</td>\n",
       "      <td>Missing</td>\n",
       "      <td>6</td>\n",
       "      <td>7</td>\n",
       "      <td>7.0</td>\n",
       "      <td>0</td>\n",
       "      <td>0</td>\n",
       "      <td>0</td>\n",
       "      <td>7</td>\n",
       "      <td>For Sale</td>\n",
       "      <td>House</td>\n",
       "      <td>Missing</td>\n",
       "      <td>Nairobi</td>\n",
       "      <td>Muthaiga</td>\n",
       "      <td>Missing</td>\n",
       "      <td>2021-09-27 01:02:32</td>\n",
       "    </tr>\n",
       "    <tr>\n",
       "      <th>7167</th>\n",
       "      <td>7168</td>\n",
       "      <td>400000000.0</td>\n",
       "      <td>Missing</td>\n",
       "      <td>7</td>\n",
       "      <td>6</td>\n",
       "      <td>0.0</td>\n",
       "      <td>0</td>\n",
       "      <td>0</td>\n",
       "      <td>0</td>\n",
       "      <td>0</td>\n",
       "      <td>For Sale</td>\n",
       "      <td>House</td>\n",
       "      <td>Missing</td>\n",
       "      <td>Nairobi</td>\n",
       "      <td>Westlands</td>\n",
       "      <td>Missing</td>\n",
       "      <td>2020-08-26 01:12:59</td>\n",
       "    </tr>\n",
       "    <tr>\n",
       "      <th>10333</th>\n",
       "      <td>10334</td>\n",
       "      <td>430000000.0</td>\n",
       "      <td>Missing</td>\n",
       "      <td>4</td>\n",
       "      <td>4</td>\n",
       "      <td>4.0</td>\n",
       "      <td>0</td>\n",
       "      <td>0</td>\n",
       "      <td>0</td>\n",
       "      <td>0</td>\n",
       "      <td>For Sale</td>\n",
       "      <td>House</td>\n",
       "      <td>Missing</td>\n",
       "      <td>Nairobi</td>\n",
       "      <td>Karen</td>\n",
       "      <td>Missing</td>\n",
       "      <td>2021-10-10 00:03:07</td>\n",
       "    </tr>\n",
       "    <tr>\n",
       "      <th>492</th>\n",
       "      <td>493</td>\n",
       "      <td>450000000.0</td>\n",
       "      <td>Missing</td>\n",
       "      <td>9</td>\n",
       "      <td>8</td>\n",
       "      <td>0.0</td>\n",
       "      <td>0</td>\n",
       "      <td>0</td>\n",
       "      <td>0</td>\n",
       "      <td>0</td>\n",
       "      <td>For Sale</td>\n",
       "      <td>House</td>\n",
       "      <td>Detached Duplex</td>\n",
       "      <td>Nairobi</td>\n",
       "      <td>Lavington</td>\n",
       "      <td>Missing</td>\n",
       "      <td>2020-07-19 00:00:00</td>\n",
       "    </tr>\n",
       "    <tr>\n",
       "      <th>9685</th>\n",
       "      <td>9686</td>\n",
       "      <td>500000000.0</td>\n",
       "      <td>Missing</td>\n",
       "      <td>6</td>\n",
       "      <td>8</td>\n",
       "      <td>8.0</td>\n",
       "      <td>0</td>\n",
       "      <td>0</td>\n",
       "      <td>0</td>\n",
       "      <td>5</td>\n",
       "      <td>For Sale</td>\n",
       "      <td>House</td>\n",
       "      <td>Missing</td>\n",
       "      <td>Nairobi</td>\n",
       "      <td>Muthaiga</td>\n",
       "      <td>Missing</td>\n",
       "      <td>2021-09-07 23:09:33</td>\n",
       "    </tr>\n",
       "    <tr>\n",
       "      <th>2746</th>\n",
       "      <td>2747</td>\n",
       "      <td>500000000.0</td>\n",
       "      <td>Missing</td>\n",
       "      <td>3</td>\n",
       "      <td>3</td>\n",
       "      <td>0.0</td>\n",
       "      <td>0</td>\n",
       "      <td>0</td>\n",
       "      <td>0</td>\n",
       "      <td>0</td>\n",
       "      <td>For Sale</td>\n",
       "      <td>House</td>\n",
       "      <td>Townhouse</td>\n",
       "      <td>Nairobi</td>\n",
       "      <td>Karen</td>\n",
       "      <td>Missing</td>\n",
       "      <td>2020-07-24 21:03:44</td>\n",
       "    </tr>\n",
       "    <tr>\n",
       "      <th>9686</th>\n",
       "      <td>9687</td>\n",
       "      <td>650000000.0</td>\n",
       "      <td>Missing</td>\n",
       "      <td>5</td>\n",
       "      <td>7</td>\n",
       "      <td>7.0</td>\n",
       "      <td>0</td>\n",
       "      <td>0</td>\n",
       "      <td>0</td>\n",
       "      <td>5</td>\n",
       "      <td>For Sale</td>\n",
       "      <td>House</td>\n",
       "      <td>Missing</td>\n",
       "      <td>Nairobi</td>\n",
       "      <td>Muthaiga</td>\n",
       "      <td>Missing</td>\n",
       "      <td>2021-09-07 23:17:28</td>\n",
       "    </tr>\n",
       "    <tr>\n",
       "      <th>10120</th>\n",
       "      <td>10121</td>\n",
       "      <td>650000000.0</td>\n",
       "      <td>Missing</td>\n",
       "      <td>5</td>\n",
       "      <td>6</td>\n",
       "      <td>6.0</td>\n",
       "      <td>0</td>\n",
       "      <td>0</td>\n",
       "      <td>0</td>\n",
       "      <td>7</td>\n",
       "      <td>For Sale</td>\n",
       "      <td>House</td>\n",
       "      <td>Missing</td>\n",
       "      <td>Nairobi</td>\n",
       "      <td>Muthaiga</td>\n",
       "      <td>Missing</td>\n",
       "      <td>2021-09-27 00:59:45</td>\n",
       "    </tr>\n",
       "    <tr>\n",
       "      <th>491</th>\n",
       "      <td>492</td>\n",
       "      <td>700000000.0</td>\n",
       "      <td>Missing</td>\n",
       "      <td>4</td>\n",
       "      <td>4</td>\n",
       "      <td>0.0</td>\n",
       "      <td>0</td>\n",
       "      <td>0</td>\n",
       "      <td>0</td>\n",
       "      <td>0</td>\n",
       "      <td>For Sale</td>\n",
       "      <td>House</td>\n",
       "      <td>Townhouse</td>\n",
       "      <td>Nairobi</td>\n",
       "      <td>Lavington</td>\n",
       "      <td>Missing</td>\n",
       "      <td>2020-07-19 00:00:00</td>\n",
       "    </tr>\n",
       "    <tr>\n",
       "      <th>498</th>\n",
       "      <td>499</td>\n",
       "      <td>750000000.0</td>\n",
       "      <td>Missing</td>\n",
       "      <td>10</td>\n",
       "      <td>10</td>\n",
       "      <td>0.0</td>\n",
       "      <td>0</td>\n",
       "      <td>0</td>\n",
       "      <td>0</td>\n",
       "      <td>0</td>\n",
       "      <td>For Sale</td>\n",
       "      <td>House</td>\n",
       "      <td>Missing</td>\n",
       "      <td>Nairobi</td>\n",
       "      <td>Nairobi Central</td>\n",
       "      <td>Missing</td>\n",
       "      <td>2020-07-19 00:00:00</td>\n",
       "    </tr>\n",
       "  </tbody>\n",
       "</table>\n",
       "</div>"
      ],
      "text/plain": [
       "          id        price price_qualifier  bedrooms  bathrooms  toilets  \\\n",
       "10121  10122  400000000.0         Missing         6          7      7.0   \n",
       "7167    7168  400000000.0         Missing         7          6      0.0   \n",
       "10333  10334  430000000.0         Missing         4          4      4.0   \n",
       "492      493  450000000.0         Missing         9          8      0.0   \n",
       "9685    9686  500000000.0         Missing         6          8      8.0   \n",
       "2746    2747  500000000.0         Missing         3          3      0.0   \n",
       "9686    9687  650000000.0         Missing         5          7      7.0   \n",
       "10120  10121  650000000.0         Missing         5          6      6.0   \n",
       "491      492  700000000.0         Missing         4          4      0.0   \n",
       "498      499  750000000.0         Missing        10         10      0.0   \n",
       "\n",
       "       furnished  serviced  shared  parking  category   type         sub_type  \\\n",
       "10121          0         0       0        7  For Sale  House          Missing   \n",
       "7167           0         0       0        0  For Sale  House          Missing   \n",
       "10333          0         0       0        0  For Sale  House          Missing   \n",
       "492            0         0       0        0  For Sale  House  Detached Duplex   \n",
       "9685           0         0       0        5  For Sale  House          Missing   \n",
       "2746           0         0       0        0  For Sale  House        Townhouse   \n",
       "9686           0         0       0        5  For Sale  House          Missing   \n",
       "10120          0         0       0        7  For Sale  House          Missing   \n",
       "491            0         0       0        0  For Sale  House        Townhouse   \n",
       "498            0         0       0        0  For Sale  House          Missing   \n",
       "\n",
       "         state         locality sub_locality             listdate  \n",
       "10121  Nairobi         Muthaiga      Missing  2021-09-27 01:02:32  \n",
       "7167   Nairobi        Westlands      Missing  2020-08-26 01:12:59  \n",
       "10333  Nairobi            Karen      Missing  2021-10-10 00:03:07  \n",
       "492    Nairobi        Lavington      Missing  2020-07-19 00:00:00  \n",
       "9685   Nairobi         Muthaiga      Missing  2021-09-07 23:09:33  \n",
       "2746   Nairobi            Karen      Missing  2020-07-24 21:03:44  \n",
       "9686   Nairobi         Muthaiga      Missing  2021-09-07 23:17:28  \n",
       "10120  Nairobi         Muthaiga      Missing  2021-09-27 00:59:45  \n",
       "491    Nairobi        Lavington      Missing  2020-07-19 00:00:00  \n",
       "498    Nairobi  Nairobi Central      Missing  2020-07-19 00:00:00  "
      ]
     },
     "execution_count": 63,
     "metadata": {},
     "output_type": "execute_result"
    }
   ],
   "source": [
    "df_sale.sort_values(by='price').tail(10)"
   ]
  },
  {
   "cell_type": "markdown",
   "metadata": {},
   "source": [
    "<p>We are going to remove sale values are more than 100 million</p>"
   ]
  },
  {
   "cell_type": "code",
   "execution_count": 64,
   "metadata": {},
   "outputs": [
    {
     "data": {
      "text/plain": [
       "(246, 17)"
      ]
     },
     "execution_count": 64,
     "metadata": {},
     "output_type": "execute_result"
    }
   ],
   "source": [
    "df.loc[(df['price']>100000000)].shape"
   ]
  },
  {
   "cell_type": "code",
   "execution_count": 65,
   "metadata": {},
   "outputs": [
    {
     "data": {
      "text/plain": [
       "(4276, 17)"
      ]
     },
     "execution_count": 65,
     "metadata": {},
     "output_type": "execute_result"
    }
   ],
   "source": [
    "df_sale = df_sale[df_sale.price < 100000000]\n",
    "df_sale.shape"
   ]
  },
  {
   "cell_type": "code",
   "execution_count": 66,
   "metadata": {},
   "outputs": [
    {
     "data": {
      "text/plain": [
       "(4276, 17)"
      ]
     },
     "execution_count": 66,
     "metadata": {},
     "output_type": "execute_result"
    }
   ],
   "source": [
    "df_sale.shape"
   ]
  },
  {
   "cell_type": "code",
   "execution_count": 67,
   "metadata": {},
   "outputs": [
    {
     "data": {
      "text/plain": [
       "(4812, 17)"
      ]
     },
     "execution_count": 67,
     "metadata": {},
     "output_type": "execute_result"
    }
   ],
   "source": [
    "df_rental.shape"
   ]
  },
  {
   "cell_type": "code",
   "execution_count": 68,
   "metadata": {},
   "outputs": [
    {
     "data": {
      "text/plain": [
       "(9088, 17)"
      ]
     },
     "execution_count": 68,
     "metadata": {},
     "output_type": "execute_result"
    }
   ],
   "source": [
    "#combine two dataframes into one\n",
    "df=pd.concat([df_rental,df_sale])\n",
    "df.shape"
   ]
  },
  {
   "cell_type": "code",
   "execution_count": 69,
   "metadata": {},
   "outputs": [
    {
     "data": {
      "text/plain": [
       "(9088, 17)"
      ]
     },
     "execution_count": 69,
     "metadata": {},
     "output_type": "execute_result"
    }
   ],
   "source": [
    "df.shape"
   ]
  },
  {
   "cell_type": "code",
   "execution_count": 70,
   "metadata": {},
   "outputs": [
    {
     "data": {
      "text/plain": [
       "(8493, 17)"
      ]
     },
     "execution_count": 70,
     "metadata": {},
     "output_type": "execute_result"
    }
   ],
   "source": [
    "df.loc[(df['sub_locality']=='Missing')].shape\n"
   ]
  },
  {
   "cell_type": "code",
   "execution_count": 71,
   "metadata": {},
   "outputs": [],
   "source": [
    "#drop the sub-locality column since more than 50% of the valus are missing\n",
    "df.drop('sub_locality', inplace=True, axis=1)"
   ]
  },
  {
   "cell_type": "code",
   "execution_count": 72,
   "metadata": {},
   "outputs": [
    {
     "data": {
      "text/plain": [
       "(4360, 16)"
      ]
     },
     "execution_count": 72,
     "metadata": {},
     "output_type": "execute_result"
    }
   ],
   "source": [
    "df.loc[(df['price_qualifier']=='Missing')].shape"
   ]
  },
  {
   "cell_type": "code",
   "execution_count": 76,
   "metadata": {},
   "outputs": [
    {
     "data": {
      "text/plain": [
       "Nairobi          5370\n",
       "Kiambu           1270\n",
       "Kajiado           755\n",
       "Mombasa           731\n",
       "Machakos          281\n",
       "Kilifi            177\n",
       "Nakuru            132\n",
       "Kisumu             93\n",
       "Uasin Gishu        33\n",
       "Laikipia           26\n",
       "Embu               25\n",
       "Kwale              23\n",
       "Meru               22\n",
       "Nandi              20\n",
       "Nyeri              16\n",
       "Baringo            15\n",
       "Makueni            12\n",
       "Muranga            11\n",
       "Bungoma             9\n",
       "Kitui               8\n",
       "Kirinyaga           7\n",
       "Trans Nzoia         7\n",
       "Kericho             7\n",
       "Kisii               6\n",
       "Isiolo              5\n",
       "Kakamega            5\n",
       "Bomet               3\n",
       "Busia               3\n",
       "Nyandarua           3\n",
       "Homa Bay            2\n",
       "Lamu                2\n",
       "Tharaka-Nithi       1\n",
       "Garissa             1\n",
       "Marsabit            1\n",
       "Samburu             1\n",
       "Vihiga              1\n",
       "Migori              1\n",
       "Narok               1\n",
       "Turkana             1\n",
       "West Pokot          1\n",
       "Name: state, dtype: int64"
      ]
     },
     "execution_count": 76,
     "metadata": {},
     "output_type": "execute_result"
    }
   ],
   "source": [
    "df.state.value_counts()"
   ]
  },
  {
   "cell_type": "code",
   "execution_count": 77,
   "metadata": {},
   "outputs": [
    {
     "data": {
      "text/plain": [
       "(962, 16)"
      ]
     },
     "execution_count": 77,
     "metadata": {},
     "output_type": "execute_result"
    }
   ],
   "source": [
    "df.loc[(df['state']!='Nairobi')&(df['state']!='Kiambu')&(df['state']!='Kajiado')&(df['state']!='Mombasa')].shape"
   ]
  },
  {
   "cell_type": "code",
   "execution_count": 78,
   "metadata": {},
   "outputs": [
    {
     "data": {
      "text/plain": [
       "(8126, 16)"
      ]
     },
     "execution_count": 78,
     "metadata": {},
     "output_type": "execute_result"
    }
   ],
   "source": [
    "#remove properties in states that have less than 500 in rental properties\n",
    "df=df.loc[(df['state']=='Nairobi')|(df['state']=='Kiambu')|(df['state']=='Kajiado')|(df['state']=='Mombasa')]\n",
    "df.shape"
   ]
  },
  {
   "cell_type": "code",
   "execution_count": 79,
   "metadata": {},
   "outputs": [
    {
     "data": {
      "text/plain": [
       "(6918, 16)"
      ]
     },
     "execution_count": 79,
     "metadata": {},
     "output_type": "execute_result"
    }
   ],
   "source": [
    "df=df[df.groupby('locality').locality.transform('count')>=75]\n",
    "df.shape"
   ]
  },
  {
   "cell_type": "markdown",
   "metadata": {},
   "source": [
    "<h2>Changing colummns to the correct data type</h2>"
   ]
  },
  {
   "cell_type": "code",
   "execution_count": 80,
   "metadata": {},
   "outputs": [],
   "source": [
    "#convert data type listdate to date\n",
    "df['listdate']= pd.to_datetime(df['listdate'])"
   ]
  },
  {
   "cell_type": "code",
   "execution_count": 81,
   "metadata": {},
   "outputs": [],
   "source": [
    "df.drop('price_qualifier', inplace=True, axis=1)"
   ]
  },
  {
   "cell_type": "code",
   "execution_count": 82,
   "metadata": {},
   "outputs": [
    {
     "data": {
      "text/html": [
       "<div>\n",
       "<style scoped>\n",
       "    .dataframe tbody tr th:only-of-type {\n",
       "        vertical-align: middle;\n",
       "    }\n",
       "\n",
       "    .dataframe tbody tr th {\n",
       "        vertical-align: top;\n",
       "    }\n",
       "\n",
       "    .dataframe thead th {\n",
       "        text-align: right;\n",
       "    }\n",
       "</style>\n",
       "<table border=\"1\" class=\"dataframe\">\n",
       "  <thead>\n",
       "    <tr style=\"text-align: right;\">\n",
       "      <th></th>\n",
       "      <th>id</th>\n",
       "      <th>price</th>\n",
       "      <th>bedrooms</th>\n",
       "      <th>bathrooms</th>\n",
       "      <th>toilets</th>\n",
       "      <th>furnished</th>\n",
       "      <th>serviced</th>\n",
       "      <th>shared</th>\n",
       "      <th>parking</th>\n",
       "      <th>category</th>\n",
       "      <th>type</th>\n",
       "      <th>sub_type</th>\n",
       "      <th>state</th>\n",
       "      <th>locality</th>\n",
       "      <th>listdate</th>\n",
       "    </tr>\n",
       "  </thead>\n",
       "  <tbody>\n",
       "    <tr>\n",
       "      <th>6</th>\n",
       "      <td>7</td>\n",
       "      <td>200000.0</td>\n",
       "      <td>5</td>\n",
       "      <td>5</td>\n",
       "      <td>5.0</td>\n",
       "      <td>0</td>\n",
       "      <td>0</td>\n",
       "      <td>0</td>\n",
       "      <td>0</td>\n",
       "      <td>For Rent</td>\n",
       "      <td>House</td>\n",
       "      <td>Townhouse</td>\n",
       "      <td>Nairobi</td>\n",
       "      <td>Nairobi Central</td>\n",
       "      <td>2020-07-18</td>\n",
       "    </tr>\n",
       "    <tr>\n",
       "      <th>7</th>\n",
       "      <td>8</td>\n",
       "      <td>100000.0</td>\n",
       "      <td>3</td>\n",
       "      <td>3</td>\n",
       "      <td>3.0</td>\n",
       "      <td>0</td>\n",
       "      <td>0</td>\n",
       "      <td>0</td>\n",
       "      <td>0</td>\n",
       "      <td>For Rent</td>\n",
       "      <td>Apartment</td>\n",
       "      <td>Missing</td>\n",
       "      <td>Nairobi</td>\n",
       "      <td>Parklands</td>\n",
       "      <td>2020-07-18</td>\n",
       "    </tr>\n",
       "    <tr>\n",
       "      <th>9</th>\n",
       "      <td>10</td>\n",
       "      <td>120000.0</td>\n",
       "      <td>3</td>\n",
       "      <td>3</td>\n",
       "      <td>3.0</td>\n",
       "      <td>0</td>\n",
       "      <td>0</td>\n",
       "      <td>0</td>\n",
       "      <td>0</td>\n",
       "      <td>For Rent</td>\n",
       "      <td>Apartment</td>\n",
       "      <td>Missing</td>\n",
       "      <td>Nairobi</td>\n",
       "      <td>Lavington</td>\n",
       "      <td>2020-07-18</td>\n",
       "    </tr>\n",
       "    <tr>\n",
       "      <th>10</th>\n",
       "      <td>11</td>\n",
       "      <td>180000.0</td>\n",
       "      <td>2</td>\n",
       "      <td>2</td>\n",
       "      <td>2.0</td>\n",
       "      <td>1</td>\n",
       "      <td>0</td>\n",
       "      <td>0</td>\n",
       "      <td>0</td>\n",
       "      <td>For Rent</td>\n",
       "      <td>Apartment</td>\n",
       "      <td>Missing</td>\n",
       "      <td>Nairobi</td>\n",
       "      <td>Westlands</td>\n",
       "      <td>2020-07-18</td>\n",
       "    </tr>\n",
       "    <tr>\n",
       "      <th>12</th>\n",
       "      <td>13</td>\n",
       "      <td>270000.0</td>\n",
       "      <td>4</td>\n",
       "      <td>4</td>\n",
       "      <td>4.0</td>\n",
       "      <td>0</td>\n",
       "      <td>0</td>\n",
       "      <td>0</td>\n",
       "      <td>0</td>\n",
       "      <td>For Rent</td>\n",
       "      <td>House</td>\n",
       "      <td>Townhouse</td>\n",
       "      <td>Nairobi</td>\n",
       "      <td>Lavington</td>\n",
       "      <td>2020-07-18</td>\n",
       "    </tr>\n",
       "  </tbody>\n",
       "</table>\n",
       "</div>"
      ],
      "text/plain": [
       "    id     price  bedrooms  bathrooms  toilets  furnished  serviced  shared  \\\n",
       "6    7  200000.0         5          5      5.0          0         0       0   \n",
       "7    8  100000.0         3          3      3.0          0         0       0   \n",
       "9   10  120000.0         3          3      3.0          0         0       0   \n",
       "10  11  180000.0         2          2      2.0          1         0       0   \n",
       "12  13  270000.0         4          4      4.0          0         0       0   \n",
       "\n",
       "    parking  category       type   sub_type    state         locality  \\\n",
       "6         0  For Rent      House  Townhouse  Nairobi  Nairobi Central   \n",
       "7         0  For Rent  Apartment    Missing  Nairobi        Parklands   \n",
       "9         0  For Rent  Apartment    Missing  Nairobi        Lavington   \n",
       "10        0  For Rent  Apartment    Missing  Nairobi        Westlands   \n",
       "12        0  For Rent      House  Townhouse  Nairobi        Lavington   \n",
       "\n",
       "     listdate  \n",
       "6  2020-07-18  \n",
       "7  2020-07-18  \n",
       "9  2020-07-18  \n",
       "10 2020-07-18  \n",
       "12 2020-07-18  "
      ]
     },
     "execution_count": 82,
     "metadata": {},
     "output_type": "execute_result"
    }
   ],
   "source": [
    "df.head()"
   ]
  },
  {
   "cell_type": "code",
   "execution_count": 83,
   "metadata": {},
   "outputs": [
    {
     "data": {
      "text/html": [
       "<div>\n",
       "<style scoped>\n",
       "    .dataframe tbody tr th:only-of-type {\n",
       "        vertical-align: middle;\n",
       "    }\n",
       "\n",
       "    .dataframe tbody tr th {\n",
       "        vertical-align: top;\n",
       "    }\n",
       "\n",
       "    .dataframe thead th {\n",
       "        text-align: right;\n",
       "    }\n",
       "</style>\n",
       "<table border=\"1\" class=\"dataframe\">\n",
       "  <thead>\n",
       "    <tr style=\"text-align: right;\">\n",
       "      <th></th>\n",
       "      <th>id</th>\n",
       "      <th>price</th>\n",
       "      <th>bedrooms</th>\n",
       "      <th>bathrooms</th>\n",
       "      <th>toilets</th>\n",
       "      <th>furnished</th>\n",
       "      <th>serviced</th>\n",
       "      <th>shared</th>\n",
       "      <th>parking</th>\n",
       "      <th>category</th>\n",
       "      <th>type</th>\n",
       "      <th>sub_type</th>\n",
       "      <th>state</th>\n",
       "      <th>locality</th>\n",
       "      <th>listdate</th>\n",
       "    </tr>\n",
       "  </thead>\n",
       "  <tbody>\n",
       "    <tr>\n",
       "      <th>16099</th>\n",
       "      <td>16107</td>\n",
       "      <td>26000000.0</td>\n",
       "      <td>3</td>\n",
       "      <td>4</td>\n",
       "      <td>0.0</td>\n",
       "      <td>0</td>\n",
       "      <td>0</td>\n",
       "      <td>0</td>\n",
       "      <td>0</td>\n",
       "      <td>For Sale</td>\n",
       "      <td>Apartment</td>\n",
       "      <td>Missing</td>\n",
       "      <td>Nairobi</td>\n",
       "      <td>Kileleshwa</td>\n",
       "      <td>2022-06-16 11:55:28</td>\n",
       "    </tr>\n",
       "    <tr>\n",
       "      <th>16103</th>\n",
       "      <td>16111</td>\n",
       "      <td>6450000.0</td>\n",
       "      <td>1</td>\n",
       "      <td>1</td>\n",
       "      <td>1.0</td>\n",
       "      <td>0</td>\n",
       "      <td>0</td>\n",
       "      <td>0</td>\n",
       "      <td>0</td>\n",
       "      <td>For Sale</td>\n",
       "      <td>Apartment</td>\n",
       "      <td>Missing</td>\n",
       "      <td>Nairobi</td>\n",
       "      <td>Westlands</td>\n",
       "      <td>2022-06-16 12:21:02</td>\n",
       "    </tr>\n",
       "    <tr>\n",
       "      <th>16104</th>\n",
       "      <td>16112</td>\n",
       "      <td>10650000.0</td>\n",
       "      <td>2</td>\n",
       "      <td>2</td>\n",
       "      <td>2.0</td>\n",
       "      <td>0</td>\n",
       "      <td>0</td>\n",
       "      <td>0</td>\n",
       "      <td>0</td>\n",
       "      <td>For Sale</td>\n",
       "      <td>Apartment</td>\n",
       "      <td>Missing</td>\n",
       "      <td>Nairobi</td>\n",
       "      <td>Westlands</td>\n",
       "      <td>2022-06-16 12:23:53</td>\n",
       "    </tr>\n",
       "    <tr>\n",
       "      <th>16108</th>\n",
       "      <td>16116</td>\n",
       "      <td>5800000.0</td>\n",
       "      <td>4</td>\n",
       "      <td>4</td>\n",
       "      <td>4.0</td>\n",
       "      <td>0</td>\n",
       "      <td>0</td>\n",
       "      <td>0</td>\n",
       "      <td>4</td>\n",
       "      <td>For Sale</td>\n",
       "      <td>House</td>\n",
       "      <td>Detached Bungalow</td>\n",
       "      <td>Kajiado</td>\n",
       "      <td>Ongata Rongai</td>\n",
       "      <td>2022-06-16 13:08:35</td>\n",
       "    </tr>\n",
       "    <tr>\n",
       "      <th>16115</th>\n",
       "      <td>16123</td>\n",
       "      <td>6000000.0</td>\n",
       "      <td>3</td>\n",
       "      <td>3</td>\n",
       "      <td>3.0</td>\n",
       "      <td>0</td>\n",
       "      <td>0</td>\n",
       "      <td>0</td>\n",
       "      <td>4</td>\n",
       "      <td>For Sale</td>\n",
       "      <td>House</td>\n",
       "      <td>Detached Bungalow</td>\n",
       "      <td>Kajiado</td>\n",
       "      <td>Kitengela</td>\n",
       "      <td>2022-06-16 14:54:29</td>\n",
       "    </tr>\n",
       "  </tbody>\n",
       "</table>\n",
       "</div>"
      ],
      "text/plain": [
       "          id       price  bedrooms  bathrooms  toilets  furnished  serviced  \\\n",
       "16099  16107  26000000.0         3          4      0.0          0         0   \n",
       "16103  16111   6450000.0         1          1      1.0          0         0   \n",
       "16104  16112  10650000.0         2          2      2.0          0         0   \n",
       "16108  16116   5800000.0         4          4      4.0          0         0   \n",
       "16115  16123   6000000.0         3          3      3.0          0         0   \n",
       "\n",
       "       shared  parking  category       type           sub_type    state  \\\n",
       "16099       0        0  For Sale  Apartment            Missing  Nairobi   \n",
       "16103       0        0  For Sale  Apartment            Missing  Nairobi   \n",
       "16104       0        0  For Sale  Apartment            Missing  Nairobi   \n",
       "16108       0        4  For Sale      House  Detached Bungalow  Kajiado   \n",
       "16115       0        4  For Sale      House  Detached Bungalow  Kajiado   \n",
       "\n",
       "            locality            listdate  \n",
       "16099     Kileleshwa 2022-06-16 11:55:28  \n",
       "16103      Westlands 2022-06-16 12:21:02  \n",
       "16104      Westlands 2022-06-16 12:23:53  \n",
       "16108  Ongata Rongai 2022-06-16 13:08:35  \n",
       "16115      Kitengela 2022-06-16 14:54:29  "
      ]
     },
     "execution_count": 83,
     "metadata": {},
     "output_type": "execute_result"
    }
   ],
   "source": [
    "df.tail()"
   ]
  },
  {
   "cell_type": "code",
   "execution_count": 84,
   "metadata": {},
   "outputs": [],
   "source": [
    "# Save cleaned dataframe to new file\n",
    "df.to_csv('project_files/cleaned_listings.csv', index=None)"
   ]
  }
 ],
 "metadata": {
  "kernelspec": {
   "display_name": "Python 3 (ipykernel)",
   "language": "python",
   "name": "python3"
  },
  "language_info": {
   "codemirror_mode": {
    "name": "ipython",
    "version": 3
   },
   "file_extension": ".py",
   "mimetype": "text/x-python",
   "name": "python",
   "nbconvert_exporter": "python",
   "pygments_lexer": "ipython3",
   "version": "3.9.13"
  }
 },
 "nbformat": 4,
 "nbformat_minor": 4
}
